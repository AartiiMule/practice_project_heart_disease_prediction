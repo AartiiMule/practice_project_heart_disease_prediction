{
 "cells": [
  {
   "cell_type": "code",
   "execution_count": 1,
   "id": "5b241d1d",
   "metadata": {},
   "outputs": [],
   "source": [
    "import numpy as np\n",
    "import pandas as pd\n",
    "\n",
    "import seaborn as sns\n",
    "import matplotlib.pyplot as plt\n",
    "\n",
    "import warnings\n",
    "\n",
    "from sklearn.linear_model import LinearRegression\n",
    "from sklearn.model_selection import train_test_split\n",
    "\n",
    "\n",
    "from statsmodels.stats.outliers_influence import variance_inflation_factor\n",
    "from sklearn.linear_model import LinearRegression\n",
    "\n",
    "from sklearn.metrics import r2_score, mean_absolute_error, mean_squared_error\n",
    "\n",
    "from sklearn.linear_model import LinearRegression, Ridge, Lasso\n",
    "from sklearn.model_selection import train_test_split, GridSearchCV, RandomizedSearchCV\n",
    "\n",
    "\n"
   ]
  },
  {
   "attachments": {},
   "cell_type": "markdown",
   "id": "f986b060",
   "metadata": {},
   "source": [
    "### PROBLEM STATEMENT"
   ]
  },
  {
   "attachments": {},
   "cell_type": "markdown",
   "id": "45b132d9",
   "metadata": {},
   "source": [
    "To predict the charges for medical insurance using supervised machine learning\n",
    "considering linear regression problem"
   ]
  },
  {
   "attachments": {},
   "cell_type": "markdown",
   "id": "fa846a38",
   "metadata": {},
   "source": [
    "### DATA GATHERING "
   ]
  },
  {
   "cell_type": "code",
   "execution_count": 2,
   "id": "0ac49830",
   "metadata": {},
   "outputs": [
    {
     "ename": "FileNotFoundError",
     "evalue": "[Errno 2] No such file or directory: 'medical_insurance.csv'",
     "output_type": "error",
     "traceback": [
      "\u001b[1;31m---------------------------------------------------------------------------\u001b[0m",
      "\u001b[1;31mFileNotFoundError\u001b[0m                         Traceback (most recent call last)",
      "\u001b[1;32m~\\AppData\\Local\\Temp\\ipykernel_27508\\2138366917.py\u001b[0m in \u001b[0;36m<module>\u001b[1;34m\u001b[0m\n\u001b[1;32m----> 1\u001b[1;33m \u001b[0mdf\u001b[0m \u001b[1;33m=\u001b[0m \u001b[0mpd\u001b[0m\u001b[1;33m.\u001b[0m\u001b[0mread_csv\u001b[0m\u001b[1;33m(\u001b[0m\u001b[1;34m\"medical_insurance.csv\"\u001b[0m\u001b[1;33m)\u001b[0m\u001b[1;33m\u001b[0m\u001b[1;33m\u001b[0m\u001b[0m\n\u001b[0m\u001b[0;32m      2\u001b[0m \u001b[0mdf\u001b[0m\u001b[1;33m\u001b[0m\u001b[1;33m\u001b[0m\u001b[0m\n",
      "\u001b[1;32mC:\\ProgramData\\Anaconda3\\lib\\site-packages\\pandas\\util\\_decorators.py\u001b[0m in \u001b[0;36mwrapper\u001b[1;34m(*args, **kwargs)\u001b[0m\n\u001b[0;32m    309\u001b[0m                     \u001b[0mstacklevel\u001b[0m\u001b[1;33m=\u001b[0m\u001b[0mstacklevel\u001b[0m\u001b[1;33m,\u001b[0m\u001b[1;33m\u001b[0m\u001b[1;33m\u001b[0m\u001b[0m\n\u001b[0;32m    310\u001b[0m                 )\n\u001b[1;32m--> 311\u001b[1;33m             \u001b[1;32mreturn\u001b[0m \u001b[0mfunc\u001b[0m\u001b[1;33m(\u001b[0m\u001b[1;33m*\u001b[0m\u001b[0margs\u001b[0m\u001b[1;33m,\u001b[0m \u001b[1;33m**\u001b[0m\u001b[0mkwargs\u001b[0m\u001b[1;33m)\u001b[0m\u001b[1;33m\u001b[0m\u001b[1;33m\u001b[0m\u001b[0m\n\u001b[0m\u001b[0;32m    312\u001b[0m \u001b[1;33m\u001b[0m\u001b[0m\n\u001b[0;32m    313\u001b[0m         \u001b[1;32mreturn\u001b[0m \u001b[0mwrapper\u001b[0m\u001b[1;33m\u001b[0m\u001b[1;33m\u001b[0m\u001b[0m\n",
      "\u001b[1;32mC:\\ProgramData\\Anaconda3\\lib\\site-packages\\pandas\\io\\parsers\\readers.py\u001b[0m in \u001b[0;36mread_csv\u001b[1;34m(filepath_or_buffer, sep, delimiter, header, names, index_col, usecols, squeeze, prefix, mangle_dupe_cols, dtype, engine, converters, true_values, false_values, skipinitialspace, skiprows, skipfooter, nrows, na_values, keep_default_na, na_filter, verbose, skip_blank_lines, parse_dates, infer_datetime_format, keep_date_col, date_parser, dayfirst, cache_dates, iterator, chunksize, compression, thousands, decimal, lineterminator, quotechar, quoting, doublequote, escapechar, comment, encoding, encoding_errors, dialect, error_bad_lines, warn_bad_lines, on_bad_lines, delim_whitespace, low_memory, memory_map, float_precision, storage_options)\u001b[0m\n\u001b[0;32m    676\u001b[0m     \u001b[0mkwds\u001b[0m\u001b[1;33m.\u001b[0m\u001b[0mupdate\u001b[0m\u001b[1;33m(\u001b[0m\u001b[0mkwds_defaults\u001b[0m\u001b[1;33m)\u001b[0m\u001b[1;33m\u001b[0m\u001b[1;33m\u001b[0m\u001b[0m\n\u001b[0;32m    677\u001b[0m \u001b[1;33m\u001b[0m\u001b[0m\n\u001b[1;32m--> 678\u001b[1;33m     \u001b[1;32mreturn\u001b[0m \u001b[0m_read\u001b[0m\u001b[1;33m(\u001b[0m\u001b[0mfilepath_or_buffer\u001b[0m\u001b[1;33m,\u001b[0m \u001b[0mkwds\u001b[0m\u001b[1;33m)\u001b[0m\u001b[1;33m\u001b[0m\u001b[1;33m\u001b[0m\u001b[0m\n\u001b[0m\u001b[0;32m    679\u001b[0m \u001b[1;33m\u001b[0m\u001b[0m\n\u001b[0;32m    680\u001b[0m \u001b[1;33m\u001b[0m\u001b[0m\n",
      "\u001b[1;32mC:\\ProgramData\\Anaconda3\\lib\\site-packages\\pandas\\io\\parsers\\readers.py\u001b[0m in \u001b[0;36m_read\u001b[1;34m(filepath_or_buffer, kwds)\u001b[0m\n\u001b[0;32m    573\u001b[0m \u001b[1;33m\u001b[0m\u001b[0m\n\u001b[0;32m    574\u001b[0m     \u001b[1;31m# Create the parser.\u001b[0m\u001b[1;33m\u001b[0m\u001b[1;33m\u001b[0m\u001b[0m\n\u001b[1;32m--> 575\u001b[1;33m     \u001b[0mparser\u001b[0m \u001b[1;33m=\u001b[0m \u001b[0mTextFileReader\u001b[0m\u001b[1;33m(\u001b[0m\u001b[0mfilepath_or_buffer\u001b[0m\u001b[1;33m,\u001b[0m \u001b[1;33m**\u001b[0m\u001b[0mkwds\u001b[0m\u001b[1;33m)\u001b[0m\u001b[1;33m\u001b[0m\u001b[1;33m\u001b[0m\u001b[0m\n\u001b[0m\u001b[0;32m    576\u001b[0m \u001b[1;33m\u001b[0m\u001b[0m\n\u001b[0;32m    577\u001b[0m     \u001b[1;32mif\u001b[0m \u001b[0mchunksize\u001b[0m \u001b[1;32mor\u001b[0m \u001b[0miterator\u001b[0m\u001b[1;33m:\u001b[0m\u001b[1;33m\u001b[0m\u001b[1;33m\u001b[0m\u001b[0m\n",
      "\u001b[1;32mC:\\ProgramData\\Anaconda3\\lib\\site-packages\\pandas\\io\\parsers\\readers.py\u001b[0m in \u001b[0;36m__init__\u001b[1;34m(self, f, engine, **kwds)\u001b[0m\n\u001b[0;32m    930\u001b[0m \u001b[1;33m\u001b[0m\u001b[0m\n\u001b[0;32m    931\u001b[0m         \u001b[0mself\u001b[0m\u001b[1;33m.\u001b[0m\u001b[0mhandles\u001b[0m\u001b[1;33m:\u001b[0m \u001b[0mIOHandles\u001b[0m \u001b[1;33m|\u001b[0m \u001b[1;32mNone\u001b[0m \u001b[1;33m=\u001b[0m \u001b[1;32mNone\u001b[0m\u001b[1;33m\u001b[0m\u001b[1;33m\u001b[0m\u001b[0m\n\u001b[1;32m--> 932\u001b[1;33m         \u001b[0mself\u001b[0m\u001b[1;33m.\u001b[0m\u001b[0m_engine\u001b[0m \u001b[1;33m=\u001b[0m \u001b[0mself\u001b[0m\u001b[1;33m.\u001b[0m\u001b[0m_make_engine\u001b[0m\u001b[1;33m(\u001b[0m\u001b[0mf\u001b[0m\u001b[1;33m,\u001b[0m \u001b[0mself\u001b[0m\u001b[1;33m.\u001b[0m\u001b[0mengine\u001b[0m\u001b[1;33m)\u001b[0m\u001b[1;33m\u001b[0m\u001b[1;33m\u001b[0m\u001b[0m\n\u001b[0m\u001b[0;32m    933\u001b[0m \u001b[1;33m\u001b[0m\u001b[0m\n\u001b[0;32m    934\u001b[0m     \u001b[1;32mdef\u001b[0m \u001b[0mclose\u001b[0m\u001b[1;33m(\u001b[0m\u001b[0mself\u001b[0m\u001b[1;33m)\u001b[0m\u001b[1;33m:\u001b[0m\u001b[1;33m\u001b[0m\u001b[1;33m\u001b[0m\u001b[0m\n",
      "\u001b[1;32mC:\\ProgramData\\Anaconda3\\lib\\site-packages\\pandas\\io\\parsers\\readers.py\u001b[0m in \u001b[0;36m_make_engine\u001b[1;34m(self, f, engine)\u001b[0m\n\u001b[0;32m   1214\u001b[0m             \u001b[1;31m# \"Union[str, PathLike[str], ReadCsvBuffer[bytes], ReadCsvBuffer[str]]\"\u001b[0m\u001b[1;33m\u001b[0m\u001b[1;33m\u001b[0m\u001b[0m\n\u001b[0;32m   1215\u001b[0m             \u001b[1;31m# , \"str\", \"bool\", \"Any\", \"Any\", \"Any\", \"Any\", \"Any\"\u001b[0m\u001b[1;33m\u001b[0m\u001b[1;33m\u001b[0m\u001b[0m\n\u001b[1;32m-> 1216\u001b[1;33m             self.handles = get_handle(  # type: ignore[call-overload]\n\u001b[0m\u001b[0;32m   1217\u001b[0m                 \u001b[0mf\u001b[0m\u001b[1;33m,\u001b[0m\u001b[1;33m\u001b[0m\u001b[1;33m\u001b[0m\u001b[0m\n\u001b[0;32m   1218\u001b[0m                 \u001b[0mmode\u001b[0m\u001b[1;33m,\u001b[0m\u001b[1;33m\u001b[0m\u001b[1;33m\u001b[0m\u001b[0m\n",
      "\u001b[1;32mC:\\ProgramData\\Anaconda3\\lib\\site-packages\\pandas\\io\\common.py\u001b[0m in \u001b[0;36mget_handle\u001b[1;34m(path_or_buf, mode, encoding, compression, memory_map, is_text, errors, storage_options)\u001b[0m\n\u001b[0;32m    784\u001b[0m         \u001b[1;32mif\u001b[0m \u001b[0mioargs\u001b[0m\u001b[1;33m.\u001b[0m\u001b[0mencoding\u001b[0m \u001b[1;32mand\u001b[0m \u001b[1;34m\"b\"\u001b[0m \u001b[1;32mnot\u001b[0m \u001b[1;32min\u001b[0m \u001b[0mioargs\u001b[0m\u001b[1;33m.\u001b[0m\u001b[0mmode\u001b[0m\u001b[1;33m:\u001b[0m\u001b[1;33m\u001b[0m\u001b[1;33m\u001b[0m\u001b[0m\n\u001b[0;32m    785\u001b[0m             \u001b[1;31m# Encoding\u001b[0m\u001b[1;33m\u001b[0m\u001b[1;33m\u001b[0m\u001b[0m\n\u001b[1;32m--> 786\u001b[1;33m             handle = open(\n\u001b[0m\u001b[0;32m    787\u001b[0m                 \u001b[0mhandle\u001b[0m\u001b[1;33m,\u001b[0m\u001b[1;33m\u001b[0m\u001b[1;33m\u001b[0m\u001b[0m\n\u001b[0;32m    788\u001b[0m                 \u001b[0mioargs\u001b[0m\u001b[1;33m.\u001b[0m\u001b[0mmode\u001b[0m\u001b[1;33m,\u001b[0m\u001b[1;33m\u001b[0m\u001b[1;33m\u001b[0m\u001b[0m\n",
      "\u001b[1;31mFileNotFoundError\u001b[0m: [Errno 2] No such file or directory: 'medical_insurance.csv'"
     ]
    }
   ],
   "source": [
    "df = pd.read_csv(\"medical_insurance.csv\")\n",
    "df"
   ]
  },
  {
   "attachments": {},
   "cell_type": "markdown",
   "id": "597bf9a0",
   "metadata": {},
   "source": [
    "### EXPLORATORY DATA ANALYSIS"
   ]
  },
  {
   "cell_type": "code",
   "execution_count": null,
   "id": "2f5ef9f7",
   "metadata": {},
   "outputs": [],
   "source": [
    "df.info()"
   ]
  },
  {
   "cell_type": "code",
   "execution_count": null,
   "id": "6e523743",
   "metadata": {},
   "outputs": [],
   "source": [
    "row_count = df.shape[0]\n",
    "row_count"
   ]
  },
  {
   "cell_type": "code",
   "execution_count": null,
   "id": "72ca9836",
   "metadata": {},
   "outputs": [],
   "source": [
    "columns_count = df.shape[1]\n",
    "columns_count"
   ]
  },
  {
   "cell_type": "code",
   "execution_count": null,
   "id": "7af1de0d",
   "metadata": {},
   "outputs": [],
   "source": [
    "df.describe()        # statistical analysis"
   ]
  },
  {
   "cell_type": "code",
   "execution_count": null,
   "id": "4f607187",
   "metadata": {},
   "outputs": [],
   "source": [
    "df[\"age\"].unique()"
   ]
  },
  {
   "cell_type": "code",
   "execution_count": null,
   "id": "6c44ecf7",
   "metadata": {},
   "outputs": [],
   "source": [
    "df[\"age\"].value_counts()"
   ]
  },
  {
   "cell_type": "code",
   "execution_count": null,
   "id": "7992c245",
   "metadata": {},
   "outputs": [],
   "source": [
    "df[\"bmi\"].unique()"
   ]
  },
  {
   "cell_type": "code",
   "execution_count": null,
   "id": "b383277d",
   "metadata": {},
   "outputs": [],
   "source": []
  },
  {
   "cell_type": "code",
   "execution_count": null,
   "id": "3c9e672d",
   "metadata": {},
   "outputs": [],
   "source": []
  },
  {
   "cell_type": "code",
   "execution_count": null,
   "id": "ce48d49f",
   "metadata": {},
   "outputs": [],
   "source": []
  },
  {
   "cell_type": "code",
   "execution_count": null,
   "id": "7fac53ad",
   "metadata": {},
   "outputs": [],
   "source": []
  },
  {
   "cell_type": "code",
   "execution_count": null,
   "id": "3e741c77",
   "metadata": {},
   "outputs": [],
   "source": []
  },
  {
   "cell_type": "code",
   "execution_count": null,
   "id": "8f72cedd",
   "metadata": {},
   "outputs": [],
   "source": []
  },
  {
   "cell_type": "code",
   "execution_count": null,
   "id": "2b1465fb",
   "metadata": {},
   "outputs": [],
   "source": []
  },
  {
   "cell_type": "code",
   "execution_count": null,
   "id": "834424b2",
   "metadata": {},
   "outputs": [],
   "source": []
  },
  {
   "cell_type": "code",
   "execution_count": null,
   "id": "0fbd166c",
   "metadata": {},
   "outputs": [],
   "source": []
  },
  {
   "cell_type": "code",
   "execution_count": null,
   "id": "edacd3ef",
   "metadata": {},
   "outputs": [],
   "source": []
  },
  {
   "cell_type": "code",
   "execution_count": null,
   "id": "b4102928",
   "metadata": {},
   "outputs": [],
   "source": []
  },
  {
   "cell_type": "code",
   "execution_count": null,
   "id": "e3b6de90",
   "metadata": {},
   "outputs": [],
   "source": []
  },
  {
   "cell_type": "code",
   "execution_count": null,
   "id": "e74af54c",
   "metadata": {},
   "outputs": [],
   "source": [
    "df[\"bmi\"].value_counts()"
   ]
  },
  {
   "cell_type": "code",
   "execution_count": null,
   "id": "7811be62",
   "metadata": {},
   "outputs": [],
   "source": [
    "df[\"children\"].unique()"
   ]
  },
  {
   "cell_type": "code",
   "execution_count": null,
   "id": "0dc009b8",
   "metadata": {},
   "outputs": [],
   "source": [
    "df[\"children\"].value_counts()"
   ]
  },
  {
   "cell_type": "code",
   "execution_count": null,
   "id": "a090ea38",
   "metadata": {},
   "outputs": [],
   "source": [
    "df[\"smoker\"].unique()"
   ]
  },
  {
   "cell_type": "code",
   "execution_count": null,
   "id": "93006981",
   "metadata": {},
   "outputs": [],
   "source": [
    "df[\"smoker\"].value_counts()"
   ]
  },
  {
   "cell_type": "code",
   "execution_count": null,
   "id": "07d36686",
   "metadata": {},
   "outputs": [],
   "source": [
    "df[\"region\"].unique()"
   ]
  },
  {
   "cell_type": "code",
   "execution_count": null,
   "id": "8ad07194",
   "metadata": {},
   "outputs": [],
   "source": [
    "df[\"region\"].value_counts()"
   ]
  },
  {
   "cell_type": "code",
   "execution_count": null,
   "id": "ae8fe4db",
   "metadata": {},
   "outputs": [],
   "source": [
    "df[\"charges\"].unique()"
   ]
  },
  {
   "cell_type": "code",
   "execution_count": null,
   "id": "5edd5ffc",
   "metadata": {},
   "outputs": [],
   "source": [
    "df[\"charges\"].value_counts()"
   ]
  },
  {
   "cell_type": "code",
   "execution_count": null,
   "id": "6f384153",
   "metadata": {},
   "outputs": [],
   "source": [
    "df.isna().sum()     # There is no messing values"
   ]
  },
  {
   "attachments": {},
   "cell_type": "markdown",
   "id": "02a7c27a",
   "metadata": {},
   "source": [
    "#### Converting catogorical data into numerical format by using label encoding and one hot encoding"
   ]
  },
  {
   "cell_type": "code",
   "execution_count": null,
   "id": "f66be9ea",
   "metadata": {},
   "outputs": [],
   "source": [
    "df[\"sex\"].replace({\"male\":0,\"female\":1},inplace = True)"
   ]
  },
  {
   "cell_type": "code",
   "execution_count": null,
   "id": "1889a626",
   "metadata": {},
   "outputs": [],
   "source": [
    "sex_values = {\"male\":0,\"female\":1}\n",
    "sex_values"
   ]
  },
  {
   "cell_type": "code",
   "execution_count": null,
   "id": "16e0fa17",
   "metadata": {},
   "outputs": [],
   "source": [
    "df[\"smoker\"].replace({\"no\":0,\"yes\":1},inplace = True)"
   ]
  },
  {
   "cell_type": "code",
   "execution_count": null,
   "id": "7cf25d0d",
   "metadata": {},
   "outputs": [],
   "source": [
    "smoker_values = {\"no\":0,\"yes\":1}\n",
    "smoker_values "
   ]
  },
  {
   "cell_type": "code",
   "execution_count": null,
   "id": "3db8dcc3",
   "metadata": {},
   "outputs": [],
   "source": [
    "df = pd.get_dummies(df,columns = [\"region\"])"
   ]
  },
  {
   "cell_type": "code",
   "execution_count": null,
   "id": "45934440",
   "metadata": {},
   "outputs": [],
   "source": [
    "df"
   ]
  },
  {
   "cell_type": "code",
   "execution_count": null,
   "id": "fcdfbb05",
   "metadata": {},
   "outputs": [],
   "source": [
    "df.info()       # after converting catogorical data into numerical format"
   ]
  },
  {
   "attachments": {},
   "cell_type": "markdown",
   "id": "25a6f6d7",
   "metadata": {},
   "source": [
    "### Detect outliers"
   ]
  },
  {
   "cell_type": "code",
   "execution_count": null,
   "id": "050177c6",
   "metadata": {},
   "outputs": [],
   "source": [
    "plt.figure(figsize = (30,10))\n",
    "df.boxplot()"
   ]
  },
  {
   "attachments": {},
   "cell_type": "markdown",
   "id": "9a0e67cd",
   "metadata": {},
   "source": [
    "### FEATURE ENGINEERING"
   ]
  },
  {
   "attachments": {},
   "cell_type": "markdown",
   "id": "1d5b1262",
   "metadata": {},
   "source": [
    "#### Detect and imputing outliers"
   ]
  },
  {
   "cell_type": "code",
   "execution_count": null,
   "id": "19396a91",
   "metadata": {},
   "outputs": [],
   "source": [
    "q1 = df[\"bmi\"].quantile(0.25)\n",
    "q2 = df[\"bmi\"].quantile(0.50)\n",
    "q3 = df[\"bmi\"].quantile(0.75)\n",
    "\n",
    "iqr = q3 - q1\n",
    "\n",
    "upper_tail = q3 + 1.5 * iqr\n",
    "lower_tail = q1 - 1.5 * iqr\n",
    "\n",
    "\n",
    "print(\"q1\",q1)\n",
    "print(\"q2\",q2)\n",
    "print(\"q3\",q3)\n",
    "\n",
    "print(\"upper_tail\", upper_tail)\n",
    "print(\"lower_tail\", lower_tail)"
   ]
  },
  {
   "cell_type": "code",
   "execution_count": null,
   "id": "3d2df8cc",
   "metadata": {},
   "outputs": [],
   "source": [
    "df[\"bmi\"].loc[(df[\"bmi\"] > upper_tail) | (df[\"bmi\"] < lower_tail)]"
   ]
  },
  {
   "cell_type": "code",
   "execution_count": null,
   "id": "431f24c1",
   "metadata": {},
   "outputs": [],
   "source": [
    "median_bmi = df[\"bmi\"].loc[(df[\"bmi\"] <= upper_tail) & (df[\"bmi\"] >= lower_tail)].median()\n",
    "median_bmi"
   ]
  },
  {
   "cell_type": "code",
   "execution_count": null,
   "id": "71111747",
   "metadata": {},
   "outputs": [],
   "source": [
    "warnings.filterwarnings (\"ignore\")"
   ]
  },
  {
   "cell_type": "code",
   "execution_count": null,
   "id": "349b8d69",
   "metadata": {},
   "outputs": [],
   "source": [
    "df[\"bmi\"].loc[(df[\"bmi\"] > upper_tail) | (df[\"bmi\"] < lower_tail)] = median_bmi"
   ]
  },
  {
   "cell_type": "code",
   "execution_count": null,
   "id": "56bdda92",
   "metadata": {},
   "outputs": [],
   "source": [
    "df[\"bmi\"].loc[(df[\"bmi\"] > upper_tail) | (df[\"bmi\"] < lower_tail)] "
   ]
  },
  {
   "attachments": {},
   "cell_type": "markdown",
   "id": "12fcfcff",
   "metadata": {},
   "source": [
    "### FEATURE SELECTION"
   ]
  },
  {
   "attachments": {},
   "cell_type": "markdown",
   "id": "ce47e198",
   "metadata": {},
   "source": [
    "### Linearity"
   ]
  },
  {
   "cell_type": "code",
   "execution_count": null,
   "id": "4a081b12",
   "metadata": {},
   "outputs": [],
   "source": [
    "df1 = df.drop(\"charges\",axis = 1)\n",
    "df2 = df[\"charges\"]\n",
    "df3 = pd.concat([df1,df2],axis = 1)\n",
    "df3"
   ]
  },
  {
   "cell_type": "code",
   "execution_count": null,
   "id": "54ef0fa3",
   "metadata": {},
   "outputs": [],
   "source": [
    "df3.corr()"
   ]
  },
  {
   "cell_type": "code",
   "execution_count": null,
   "id": "ddccd221",
   "metadata": {},
   "outputs": [],
   "source": [
    "plt.figure(figsize = (30,2))\n",
    "sns.heatmap(df3.corr().tail(1),annot = True)"
   ]
  },
  {
   "attachments": {},
   "cell_type": "markdown",
   "id": "9b25d629",
   "metadata": {},
   "source": [
    "### No Multicolinearity"
   ]
  },
  {
   "cell_type": "code",
   "execution_count": null,
   "id": "7e39f521",
   "metadata": {},
   "outputs": [],
   "source": [
    "df1"
   ]
  },
  {
   "cell_type": "code",
   "execution_count": null,
   "id": "1b7280c6",
   "metadata": {},
   "outputs": [],
   "source": [
    "Vif_list = []\n",
    "\n",
    "for i in range(df1.shape[1]):\n",
    "    \n",
    "    vif = variance_inflation_factor(df1.to_numpy(),i)\n",
    "    \n",
    "    Vif_list.append(vif)\n",
    "    \n",
    "df2 = pd.Series(Vif_list, index = df1.columns)\n",
    "\n",
    "df2.plot(kind = \"barh\")\n",
    "    \n",
    "    "
   ]
  },
  {
   "attachments": {},
   "cell_type": "markdown",
   "id": "22e96b24",
   "metadata": {},
   "source": [
    "### MODEL BUILDING"
   ]
  },
  {
   "cell_type": "code",
   "execution_count": null,
   "id": "a2efdb9c",
   "metadata": {},
   "outputs": [],
   "source": [
    "x = df.drop(\"charges\",axis = 1)\n",
    "y = df[\"charges\"]"
   ]
  },
  {
   "cell_type": "code",
   "execution_count": null,
   "id": "a3c31d61",
   "metadata": {},
   "outputs": [],
   "source": [
    "x_train, x_test, y_train , y_test = train_test_split(x,y, train_size=0.8 , random_state=11)"
   ]
  },
  {
   "cell_type": "code",
   "execution_count": null,
   "id": "586f911b",
   "metadata": {},
   "outputs": [],
   "source": [
    "model = LinearRegression()     #create instance of the model\n",
    "model"
   ]
  },
  {
   "cell_type": "code",
   "execution_count": null,
   "id": "7f4bc621",
   "metadata": {},
   "outputs": [],
   "source": [
    "model.fit(x_train , y_train)    # we fit the model on training datasets"
   ]
  },
  {
   "cell_type": "code",
   "execution_count": null,
   "id": "b9f324ae",
   "metadata": {},
   "outputs": [],
   "source": [
    "model.coef_           # It will give slop"
   ]
  },
  {
   "attachments": {},
   "cell_type": "markdown",
   "id": "4b42dbde",
   "metadata": {},
   "source": [
    "### MODEL EVALUATION"
   ]
  },
  {
   "attachments": {},
   "cell_type": "markdown",
   "id": "1cdbe4d3",
   "metadata": {},
   "source": [
    "#### Training dataset"
   ]
  },
  {
   "cell_type": "code",
   "execution_count": null,
   "id": "a926b387",
   "metadata": {},
   "outputs": [],
   "source": [
    "y_pred = model.predict(x_train)\n",
    "y_pred"
   ]
  },
  {
   "cell_type": "code",
   "execution_count": null,
   "id": "b038d962",
   "metadata": {},
   "outputs": [],
   "source": [
    "residual = y_train - y_pred \n",
    "residual"
   ]
  },
  {
   "cell_type": "code",
   "execution_count": null,
   "id": "b6dc4ee6",
   "metadata": {},
   "outputs": [],
   "source": [
    "sns.kdeplot(residual)           # plot resudual"
   ]
  },
  {
   "cell_type": "code",
   "execution_count": null,
   "id": "837dad1d",
   "metadata": {},
   "outputs": [],
   "source": [
    "MSE = mean_squared_error(y_train , y_pred)\n",
    "\n",
    "RMSE = np.sqrt(MSE)\n",
    "\n",
    "MAE = mean_absolute_error(y_train , y_pred)\n",
    "\n",
    "R2_training = model.score(x_train, y_train)\n",
    "\n",
    "adj_r2_training = 1 - (((1 - R2_training) * (x_train.shape[0] - 1)) / (x_train.shape[0] - x_train.shape[1] - 1))\n",
    "\n",
    "print(\"MSE on training dataset --->\", MSE)\n",
    "\n",
    "print(\"RMSE on training dataset --->\",RMSE)\n",
    "\n",
    "print(\"MAE on training dataset --->\", MAE)\n",
    "\n",
    "print(\"R2 on training dataset --->\", R2_training )\n",
    "\n",
    "print(\"Adjusted R Squared Value --->\",adj_r2_training)"
   ]
  },
  {
   "attachments": {},
   "cell_type": "markdown",
   "id": "ada0b87b",
   "metadata": {},
   "source": [
    "#### Testing dataset"
   ]
  },
  {
   "cell_type": "code",
   "execution_count": null,
   "id": "9bdeab2e",
   "metadata": {},
   "outputs": [],
   "source": [
    "y_pred_test = model.predict(x_test)\n",
    "y_pred_test"
   ]
  },
  {
   "cell_type": "code",
   "execution_count": null,
   "id": "0902033c",
   "metadata": {},
   "outputs": [],
   "source": []
  },
  {
   "cell_type": "code",
   "execution_count": null,
   "id": "1eb54795",
   "metadata": {},
   "outputs": [],
   "source": []
  },
  {
   "cell_type": "code",
   "execution_count": null,
   "id": "ff92d283",
   "metadata": {},
   "outputs": [],
   "source": []
  },
  {
   "cell_type": "code",
   "execution_count": null,
   "id": "0029ace0",
   "metadata": {},
   "outputs": [],
   "source": []
  },
  {
   "cell_type": "code",
   "execution_count": null,
   "id": "36ac78e8",
   "metadata": {},
   "outputs": [],
   "source": []
  },
  {
   "cell_type": "code",
   "execution_count": null,
   "id": "4c6a4e4e",
   "metadata": {},
   "outputs": [],
   "source": []
  },
  {
   "cell_type": "code",
   "execution_count": null,
   "id": "3b77e001",
   "metadata": {},
   "outputs": [],
   "source": []
  },
  {
   "cell_type": "code",
   "execution_count": null,
   "id": "32920143",
   "metadata": {},
   "outputs": [],
   "source": []
  },
  {
   "cell_type": "code",
   "execution_count": null,
   "id": "f3a18ce2",
   "metadata": {},
   "outputs": [],
   "source": []
  },
  {
   "cell_type": "code",
   "execution_count": null,
   "id": "4170b9a5",
   "metadata": {},
   "outputs": [],
   "source": []
  },
  {
   "cell_type": "code",
   "execution_count": null,
   "id": "da876966",
   "metadata": {},
   "outputs": [],
   "source": []
  },
  {
   "cell_type": "code",
   "execution_count": null,
   "id": "06f8b671",
   "metadata": {},
   "outputs": [],
   "source": []
  },
  {
   "cell_type": "code",
   "execution_count": null,
   "id": "4149e771",
   "metadata": {},
   "outputs": [],
   "source": [
    "test_residual = y_test - y_pred_test\n",
    "test_residual"
   ]
  },
  {
   "cell_type": "code",
   "execution_count": null,
   "id": "4b496767",
   "metadata": {},
   "outputs": [],
   "source": [
    "sns.kdeplot(test_residual)           # plot test_resudual"
   ]
  },
  {
   "cell_type": "code",
   "execution_count": null,
   "id": "d41ec4f6",
   "metadata": {},
   "outputs": [],
   "source": [
    "MSE = mean_squared_error(y_test , y_pred_test)\n",
    "\n",
    "RMSE = np.sqrt(MSE)\n",
    "\n",
    "MAE = mean_absolute_error(y_test ,y_pred_test)\n",
    "\n",
    "R2_testing = model.score(x_test, y_test)\n",
    "\n",
    "adj_r2_testing  = 1 - (((1 - R2_testing) * (x_test.shape[0] - 1)) / (x_test.shape[0] - x_test.shape[1] - 1))\n",
    "\n",
    "\n",
    "print(\"MSE on training dataset --->\", MSE)\n",
    "\n",
    "print(\"RMSE on training dataset --->\",RMSE)\n",
    "\n",
    "print(\"MAE on training dataset --->\", MAE)\n",
    "\n",
    "print(\"R2 on training dataset --->\", R2_testing)\n",
    "\n",
    "print(\"Adjusted R Squared Value :\",adj_r2_testing)\n",
    "\n"
   ]
  },
  {
   "cell_type": "code",
   "execution_count": null,
   "id": "7789e48b",
   "metadata": {},
   "outputs": [],
   "source": [
    "print(\"Accuracy on training dataset\", R2_training )\n",
    "print(\"Accuracy on testing dataset\", R2_testing)"
   ]
  },
  {
   "attachments": {},
   "cell_type": "markdown",
   "id": "eefd1f71",
   "metadata": {},
   "source": [
    "## Normality of residual"
   ]
  },
  {
   "attachments": {},
   "cell_type": "markdown",
   "id": "cccbda98",
   "metadata": {},
   "source": [
    "#### Hypothesis testing"
   ]
  },
  {
   "cell_type": "code",
   "execution_count": null,
   "id": "34394484",
   "metadata": {},
   "outputs": [],
   "source": [
    "from scipy.stats import shapiro"
   ]
  },
  {
   "attachments": {},
   "cell_type": "markdown",
   "id": "46c097dd",
   "metadata": {},
   "source": [
    "#### shapiro test"
   ]
  },
  {
   "cell_type": "code",
   "execution_count": null,
   "id": "a4a56c9f",
   "metadata": {},
   "outputs": [],
   "source": [
    "_ , p_val = shapiro(residual)\n",
    "print(\"P_Value:\",p_val)\n",
    "if p_val >= 0.05:\n",
    "    print(\"Null Hypothesis is Accepted\")\n",
    "    print(\"Data is Normally Distributed\")\n",
    "else:\n",
    "    print(\"Null Hypothesis is Rejected and Alternate Hypothesis is Accepted\")\n",
    "    print(\"Data is not Normally Distributed\")"
   ]
  },
  {
   "attachments": {},
   "cell_type": "markdown",
   "id": "c6c705dc",
   "metadata": {},
   "source": [
    "#### QQ plot"
   ]
  },
  {
   "cell_type": "code",
   "execution_count": null,
   "id": "1ae9a89d",
   "metadata": {},
   "outputs": [],
   "source": [
    "import statsmodels.api as sm"
   ]
  },
  {
   "cell_type": "code",
   "execution_count": null,
   "id": "5df460b2",
   "metadata": {},
   "outputs": [],
   "source": [
    "sm.qqplot(residual, line = \"45\", fit = True)"
   ]
  },
  {
   "attachments": {},
   "cell_type": "markdown",
   "id": "b67a01bb",
   "metadata": {},
   "source": [
    "#### homoscedasticity"
   ]
  },
  {
   "cell_type": "code",
   "execution_count": null,
   "id": "351dc3a8",
   "metadata": {},
   "outputs": [],
   "source": [
    "sns.scatterplot(x = y_train , y = residual)"
   ]
  },
  {
   "attachments": {},
   "cell_type": "markdown",
   "id": "8852129f",
   "metadata": {},
   "source": [
    "### Regularization"
   ]
  },
  {
   "attachments": {},
   "cell_type": "markdown",
   "id": "57f559a8",
   "metadata": {},
   "source": [
    "### reduce overfitting"
   ]
  },
  {
   "attachments": {},
   "cell_type": "markdown",
   "id": "c094d3bc",
   "metadata": {},
   "source": [
    "### Ridge regression"
   ]
  },
  {
   "cell_type": "code",
   "execution_count": null,
   "id": "e1616c55",
   "metadata": {},
   "outputs": [],
   "source": [
    "#by default value of alpha"
   ]
  },
  {
   "cell_type": "code",
   "execution_count": null,
   "id": "901b31ed",
   "metadata": {},
   "outputs": [],
   "source": [
    "ridge_reg_model = Ridge(alpha= 1.0) \n",
    "ridge_reg_model.fit(x_train, y_train)"
   ]
  },
  {
   "attachments": {},
   "cell_type": "markdown",
   "id": "c014fc7f",
   "metadata": {},
   "source": [
    "### Training Dataset"
   ]
  },
  {
   "cell_type": "code",
   "execution_count": null,
   "id": "eb28072c",
   "metadata": {},
   "outputs": [],
   "source": [
    "y_pred_train_ridge = ridge_reg_model.predict(x_train)\n",
    "\n",
    "mse = mean_squared_error(y_train, y_pred_train_ridge)\n",
    "print(\"MSE :\",mse)\n",
    "\n",
    "rmse = np.sqrt(mse)\n",
    "print(\"RMSE :\",rmse)\n",
    "\n",
    "mae = mean_absolute_error(y_train,y_pred_train_ridge)\n",
    "print(\"MAE :\",mae)\n",
    "\n",
    "ridge_r2_train = r2_score(y_train, y_pred_train_ridge)\n",
    "print(\"R2 Scored :\",ridge_r2_train )"
   ]
  },
  {
   "attachments": {},
   "cell_type": "markdown",
   "id": "4440c04b",
   "metadata": {},
   "source": [
    "### Testing Dataset"
   ]
  },
  {
   "cell_type": "code",
   "execution_count": null,
   "id": "1f1693d8",
   "metadata": {},
   "outputs": [],
   "source": [
    "y_pred_test = ridge_reg_model.predict(x_test)\n",
    "\n",
    "mse = mean_squared_error(y_test, y_pred_test )\n",
    "print(\"MSE :\",mse)\n",
    "\n",
    "rmse = np.sqrt(mse)\n",
    "print(\"RMSE :\",rmse)\n",
    "\n",
    "mae = mean_absolute_error(y_test, y_pred_test) \n",
    "print(\"MAE :\",mae)\n",
    "\n",
    "ridge_r2_test = r2_score(y_test, y_pred_test )\n",
    "print(\"R2 Scored :\",ridge_r2_test)"
   ]
  },
  {
   "attachments": {},
   "cell_type": "markdown",
   "id": "475ce973",
   "metadata": {},
   "source": [
    "## lasso regression"
   ]
  },
  {
   "cell_type": "code",
   "execution_count": null,
   "id": "228d5353",
   "metadata": {},
   "outputs": [],
   "source": [
    "lasso_reg_model = Lasso(alpha= 1.0)  # by default value\n",
    "lasso_reg_model.fit(x_train, y_train)"
   ]
  },
  {
   "attachments": {},
   "cell_type": "markdown",
   "id": "dee75cb5",
   "metadata": {},
   "source": [
    "### Training Dataset"
   ]
  },
  {
   "cell_type": "code",
   "execution_count": null,
   "id": "02814e3f",
   "metadata": {},
   "outputs": [],
   "source": [
    "y_pred_train_lasso = lasso_reg_model.predict(x_train)\n",
    "\n",
    "mse = mean_squared_error(y_train, y_pred_train_lasso)\n",
    "print(\"MSE :\",mse)\n",
    "\n",
    "rmse = np.sqrt(mse)\n",
    "print(\"RMSE :\",rmse)\n",
    "\n",
    "mae = mean_absolute_error(y_train,y_pred_train_lasso)\n",
    "print(\"MAE :\",mae)\n",
    "\n",
    "lasso_r2_tarin = r2_score(y_train, y_pred_train_lasso)\n",
    "print(\"R2 Scored :\", lasso_r2_tarin  )"
   ]
  },
  {
   "attachments": {},
   "cell_type": "markdown",
   "id": "ff471094",
   "metadata": {},
   "source": [
    "### Testing Dataset"
   ]
  },
  {
   "cell_type": "code",
   "execution_count": null,
   "id": "5c6c990c",
   "metadata": {},
   "outputs": [],
   "source": [
    "y_pred_test_lasso = lasso_reg_model.predict(x_test)\n",
    "\n",
    "mse = mean_squared_error(y_test, y_pred_test_lasso )\n",
    "print(\"MSE :\",mse)\n",
    "\n",
    "rmse = np.sqrt(mse)\n",
    "print(\"RMSE :\",rmse)\n",
    "\n",
    "mae = mean_absolute_error(y_test, y_pred_test_lasso) \n",
    "print(\"MAE :\",mae)\n",
    "\n",
    "lasso_r2_test = r2_score(y_test, y_pred_test_lasso )\n",
    "print(\"R2 Scored :\",lasso_r2_test )"
   ]
  },
  {
   "attachments": {},
   "cell_type": "markdown",
   "id": "631627a2",
   "metadata": {},
   "source": [
    "## Hyperparameter Tunning"
   ]
  },
  {
   "attachments": {},
   "cell_type": "markdown",
   "id": "8dc3388a",
   "metadata": {},
   "source": [
    "### GridSearch cv"
   ]
  },
  {
   "cell_type": "code",
   "execution_count": null,
   "id": "69a76e1f",
   "metadata": {
    "scrolled": true
   },
   "outputs": [],
   "source": [
    "ridge_model  = Ridge()\n",
    "\n",
    "param_grid={\"alpha\":np.arange(0.01,3,0.01)}\n",
    "\n",
    "g_s_cv_ridge_model=GridSearchCV(ridge_model,param_grid,n_jobs=-1)\n",
    "\n",
    "g_s_cv_ridge_model.fit(x_train,y_train)"
   ]
  },
  {
   "cell_type": "code",
   "execution_count": null,
   "id": "bee53975",
   "metadata": {},
   "outputs": [],
   "source": [
    "g_s_cv_ridge_model.best_estimator_"
   ]
  },
  {
   "cell_type": "code",
   "execution_count": null,
   "id": "d5aa6b97",
   "metadata": {},
   "outputs": [],
   "source": [
    "ridge_reg_model = Ridge(alpha=0.99) \n",
    "ridge_reg_model.fit(x_train, y_train)"
   ]
  },
  {
   "attachments": {},
   "cell_type": "markdown",
   "id": "8aaa344c",
   "metadata": {},
   "source": [
    "### Training Dataset"
   ]
  },
  {
   "attachments": {},
   "cell_type": "markdown",
   "id": "7e6e6281",
   "metadata": {},
   "source": [
    "#### gridsearch cv"
   ]
  },
  {
   "attachments": {},
   "cell_type": "markdown",
   "id": "58f1f6ad",
   "metadata": {},
   "source": [
    "#### ridge regression"
   ]
  },
  {
   "cell_type": "code",
   "execution_count": null,
   "id": "d08fee20",
   "metadata": {},
   "outputs": [],
   "source": [
    "y_pred_train_gs_cv = ridge_reg_model.predict(x_train)\n",
    "\n",
    "mse = mean_squared_error(y_train, y_pred_train_gs_cv)\n",
    "print(\"MSE :\",mse)\n",
    "\n",
    "rmse = np.sqrt(mse)\n",
    "print(\"RMSE :\",rmse)\n",
    "\n",
    "mae = mean_absolute_error(y_train,y_pred_train_gs_cv)\n",
    "print(\"MAE :\",mae)\n",
    "\n",
    "ridge_gscv_train_r2 = r2_score(y_train,y_pred_train_gs_cv)\n",
    "print(\"R2 Scored :\",ridge_gscv_train_r2  )"
   ]
  },
  {
   "attachments": {},
   "cell_type": "markdown",
   "id": "8314440f",
   "metadata": {},
   "source": [
    "### Testing Dataset"
   ]
  },
  {
   "cell_type": "code",
   "execution_count": null,
   "id": "f02d2d5c",
   "metadata": {},
   "outputs": [],
   "source": [
    "y_pred_test_gs_cv = ridge_reg_model.predict(x_test)\n",
    "\n",
    "mse = mean_squared_error(y_test, y_pred_test_gs_cv)\n",
    "print(\"MSE :\",mse)\n",
    "\n",
    "rmse = np.sqrt(mse)\n",
    "print(\"RMSE :\",rmse)\n",
    "\n",
    "mae = mean_absolute_error(y_test, y_pred_test_gs_cv) \n",
    "print(\"MAE :\",mae)\n",
    "\n",
    "ridge_gscv_test_r2 = r2_score(y_test, y_pred_test_gs_cv )\n",
    "print(\"R2 Scored :\",ridge_gscv_test_r2)"
   ]
  },
  {
   "attachments": {},
   "cell_type": "markdown",
   "id": "19469586",
   "metadata": {},
   "source": [
    "#### lasso regression"
   ]
  },
  {
   "cell_type": "code",
   "execution_count": null,
   "id": "45dad8e1",
   "metadata": {},
   "outputs": [],
   "source": [
    "lasso_model = Lasso()\n",
    "\n",
    "\n",
    "param_grid = {\"alpha\": np.arange(0.01,3,0.01)}\n",
    "\n",
    "\n",
    "lasso_model_gs_cv = GridSearchCV(lasso_model, param_grid, n_jobs=-1)\n",
    "\n",
    "lasso_model_gs_cv.fit(x_train, y_train)"
   ]
  },
  {
   "cell_type": "code",
   "execution_count": null,
   "id": "3d1a4347",
   "metadata": {},
   "outputs": [],
   "source": [
    "lasso_model_gs_cv.best_estimator_"
   ]
  },
  {
   "cell_type": "code",
   "execution_count": null,
   "id": "e64a5eed",
   "metadata": {},
   "outputs": [],
   "source": [
    "lasso_reg_model = Lasso(alpha= 2.9899999999999998) \n",
    "lasso_reg_model.fit(x_train, y_train)"
   ]
  },
  {
   "attachments": {},
   "cell_type": "markdown",
   "id": "c3b78cd1",
   "metadata": {},
   "source": [
    "### Training Dataset"
   ]
  },
  {
   "cell_type": "code",
   "execution_count": null,
   "id": "c6c89ead",
   "metadata": {},
   "outputs": [],
   "source": [
    "y_pred_train_lasso_gscv = lasso_reg_model.predict(x_train)\n",
    "\n",
    "mse = mean_squared_error(y_train, y_pred_train_lasso_gscv)\n",
    "print(\"MSE :\",mse)\n",
    "\n",
    "rmse = np.sqrt(mse)\n",
    "print(\"RMSE :\",rmse)\n",
    "\n",
    "mae = mean_absolute_error(y_train,y_pred_train_lasso_gscv)\n",
    "print(\"MAE :\",mae)\n",
    "\n",
    "gscv_lasso__train_r2 = r2_score(y_train, y_pred_train_lasso_gscv)\n",
    "print(\"R2 Scored :\", gscv_lasso__train_r2 )"
   ]
  },
  {
   "attachments": {},
   "cell_type": "markdown",
   "id": "b4107542",
   "metadata": {},
   "source": [
    "### Testing Dataset"
   ]
  },
  {
   "cell_type": "code",
   "execution_count": null,
   "id": "d9872503",
   "metadata": {},
   "outputs": [],
   "source": [
    "y_pred_test_lasso = lasso_reg_model.predict(x_test)\n",
    "\n",
    "mse = mean_squared_error(y_test, y_pred_test_lasso )\n",
    "print(\"MSE :\",mse)\n",
    "\n",
    "rmse = np.sqrt(mse)\n",
    "print(\"RMSE :\",rmse)\n",
    "\n",
    "mae = mean_absolute_error(y_test, y_pred_test_lasso) \n",
    "print(\"MAE :\",mae)\n",
    "\n",
    "lasso_r2_gscv_test = r2_score(y_test, y_pred_test_lasso )\n",
    "print(\"R2 Scored :\",lasso_r2_gscv_test )"
   ]
  },
  {
   "attachments": {},
   "cell_type": "markdown",
   "id": "fb036edb",
   "metadata": {},
   "source": [
    "### randimized search cv"
   ]
  },
  {
   "attachments": {},
   "cell_type": "markdown",
   "id": "becf92c8",
   "metadata": {},
   "source": [
    "#### ridge regression"
   ]
  },
  {
   "cell_type": "code",
   "execution_count": null,
   "id": "99dcb8d2",
   "metadata": {},
   "outputs": [],
   "source": [
    "ridge_model = Ridge()\n",
    "\n",
    "param_grid = {\"alpha\": np.arange(0.01,3,0.01)}\n",
    "\n",
    "ridge_model_rscv = RandomizedSearchCV(ridge_model, param_grid, n_jobs=-1)\n",
    "\n",
    "ridge_model_rscv .fit(x_train, y_train)\n"
   ]
  },
  {
   "cell_type": "code",
   "execution_count": null,
   "id": "2e396aee",
   "metadata": {},
   "outputs": [],
   "source": [
    "ridge_model_rscv.best_estimator_ "
   ]
  },
  {
   "cell_type": "code",
   "execution_count": null,
   "id": "ed6a5dca",
   "metadata": {},
   "outputs": [],
   "source": [
    "ridge_reg_model = Ridge(alpha=1.07) \n",
    "ridge_reg_model.fit(x_train, y_train)"
   ]
  },
  {
   "attachments": {},
   "cell_type": "markdown",
   "id": "8e4a5136",
   "metadata": {},
   "source": [
    "### Training Dataset"
   ]
  },
  {
   "cell_type": "code",
   "execution_count": null,
   "id": "dfc964de",
   "metadata": {},
   "outputs": [],
   "source": [
    "y_pred_train_randm = ridge_reg_model.predict(x_train)\n",
    "\n",
    "mse = mean_squared_error(y_train, y_pred_train_randm)\n",
    "print(\"MSE :\",mse)\n",
    "\n",
    "rmse = np.sqrt(mse)\n",
    "print(\"RMSE :\",rmse)\n",
    "\n",
    "mae = mean_absolute_error(y_train,y_pred_train_randm)\n",
    "print(\"MAE :\",mae)\n",
    "\n",
    "ridge_r2_randm_train = r2_score(y_train, y_pred_train_randm)\n",
    "print(\"R2 Scored :\",ridge_r2_randm_train )"
   ]
  },
  {
   "attachments": {},
   "cell_type": "markdown",
   "id": "68a273a5",
   "metadata": {},
   "source": [
    "### Testing Dataset"
   ]
  },
  {
   "cell_type": "code",
   "execution_count": null,
   "id": "287f0a21",
   "metadata": {},
   "outputs": [],
   "source": [
    "y_pred_test_randm = ridge_reg_model.predict(x_test)\n",
    "\n",
    "mse = mean_squared_error(y_test, y_pred_test_randm  )\n",
    "print(\"MSE :\",mse)\n",
    "\n",
    "rmse = np.sqrt(mse)\n",
    "print(\"RMSE :\",rmse)\n",
    "\n",
    "mae = mean_absolute_error(y_test, y_pred_test_randm ) \n",
    "print(\"MAE :\",mae)\n",
    "\n",
    "ridge_r2_randm_test = r2_score(y_test, y_pred_test_randm )\n",
    "print(\"R2 Scored :\",ridge_r2_randm_test)"
   ]
  },
  {
   "attachments": {},
   "cell_type": "markdown",
   "id": "4709a8fd",
   "metadata": {},
   "source": [
    "### lasso regression"
   ]
  },
  {
   "cell_type": "code",
   "execution_count": null,
   "id": "9aff1cdf",
   "metadata": {},
   "outputs": [],
   "source": [
    "lasso_model = Lasso()\n",
    "\n",
    "param_grid = {\"alpha\": np.arange(0.01,3,0.01)}\n",
    "\n",
    "lasso_model_rscv = RandomizedSearchCV(lasso_model, param_grid, n_jobs=-1)\n",
    "\n",
    "lasso_model_rscv.fit(x_train, y_train)\n"
   ]
  },
  {
   "cell_type": "code",
   "execution_count": null,
   "id": "7b2ae446",
   "metadata": {},
   "outputs": [],
   "source": [
    "lasso_model_rscv.best_estimator_"
   ]
  },
  {
   "cell_type": "code",
   "execution_count": null,
   "id": "bc6b1cb2",
   "metadata": {},
   "outputs": [],
   "source": [
    "lasso_reg_model = Lasso(alpha= 2.7399999999999998) \n",
    "lasso_reg_model.fit(x_train, y_train)"
   ]
  },
  {
   "attachments": {},
   "cell_type": "markdown",
   "id": "af4495a2",
   "metadata": {},
   "source": [
    "### Training Dataset"
   ]
  },
  {
   "cell_type": "code",
   "execution_count": null,
   "id": "277587d2",
   "metadata": {},
   "outputs": [],
   "source": [
    "y_pred_train_lasso_randm = lasso_reg_model.predict(x_train)\n",
    "\n",
    "mse = mean_squared_error(y_train, y_pred_train_lasso_randm)\n",
    "print(\"MSE :\",mse)\n",
    "\n",
    "rmse = np.sqrt(mse)\n",
    "print(\"RMSE :\",rmse)\n",
    "\n",
    "mae = mean_absolute_error(y_train,y_pred_train_lasso_randm)\n",
    "print(\"MAE :\",mae)\n",
    "\n",
    "lasso_r2_randm_train = r2_score(y_train,y_pred_train_lasso_randm)\n",
    "print(\"R2 Scored :\", lasso_r2_randm_train)"
   ]
  },
  {
   "attachments": {},
   "cell_type": "markdown",
   "id": "070e00ca",
   "metadata": {},
   "source": [
    "### Testing Dataset"
   ]
  },
  {
   "cell_type": "code",
   "execution_count": null,
   "id": "6846bba3",
   "metadata": {},
   "outputs": [],
   "source": [
    "y_pred_test_randm = lasso_reg_model.predict(x_test)\n",
    "\n",
    "mse = mean_squared_error(y_test, y_pred_test_randm  )\n",
    "print(\"MSE :\",mse)\n",
    "\n",
    "rmse = np.sqrt(mse)\n",
    "print(\"RMSE :\",rmse)\n",
    "\n",
    "mae = mean_absolute_error(y_test, y_pred_test_randm ) \n",
    "print(\"MAE :\",mae)\n",
    "\n",
    "lasso_r2_randm_test = r2_score(y_test, y_pred_test_randm  )\n",
    "print(\"R2 Scored :\",lasso_r2_randm_test)"
   ]
  },
  {
   "attachments": {},
   "cell_type": "markdown",
   "id": "9a39fcf0",
   "metadata": {},
   "source": [
    "## ACCURACY"
   ]
  },
  {
   "cell_type": "code",
   "execution_count": null,
   "id": "4d18e43d",
   "metadata": {},
   "outputs": [],
   "source": [
    "print(\"Accuracy on training dataset\", R2_training )\n",
    "print(\"Accuracy on testing dataset\", R2_testing)\n",
    "print(\"*\"*50)\n",
    "print(\"After taking by default value of alpha \\n Accuracy is\")\n",
    "print(\"Ridge Regression\")\n",
    "print(\"R2 Scored :\",ridge_r2_train )\n",
    "print(\"R2 Scored :\",ridge_r2_test)\n",
    "print(\"*\"*50)\n",
    "print(\"lasso regression\")\n",
    "print(\"R2 Scored :\", lasso_r2_tarin  )\n",
    "print(\"R2 Scored :\",lasso_r2_test )\n",
    "print(\"*\"*50)\n",
    "print(\"after hyperparameter tunning\")\n",
    "print(\"By using gridsearch cv\")\n",
    "print(\"accuracy\")\n",
    "print(\"ridge regression\")\n",
    "print(\"R2 Scored :\",ridge_gscv_train_r2  )\n",
    "print(\"R2 Scored :\",ridge_gscv_test_r2)\n",
    "print(\"*\"*50)\n",
    "print(\"lasso regression\")\n",
    "print(\"R2 Scored :\", gscv_lasso__train_r2 )\n",
    "print(\"R2 Scored :\",lasso_r2_gscv_test )\n",
    "print(\"*\"*50)\n",
    "print(\"By using gridsearch cv\")\n",
    "print(\"accuracy\")\n",
    "print(\"ridge regression\")\n",
    "print(\"R2 Scored :\",ridge_r2_randm_train )\n",
    "print(\"R2 Scored :\",ridge_r2_randm_test)\n",
    "print(\"*\"*50)\n",
    "print(\"lasso regression\")\n",
    "print(\"R2 Scored :\", lasso_r2_randm_train)\n",
    "print(\"R2 Scored :\",lasso_r2_randm_test)"
   ]
  },
  {
   "attachments": {},
   "cell_type": "markdown",
   "id": "b1662a6e",
   "metadata": {},
   "source": [
    "### single user input testing"
   ]
  },
  {
   "cell_type": "code",
   "execution_count": null,
   "id": "482e0ccd",
   "metadata": {},
   "outputs": [],
   "source": [
    "x.head(1).T"
   ]
  },
  {
   "cell_type": "code",
   "execution_count": null,
   "id": "6299bcf3",
   "metadata": {},
   "outputs": [],
   "source": [
    "# age = 19.000\n",
    "# sex = \"male\"\n",
    "# bmi = 27.900\n",
    "# children = 0.000\n",
    "# smoker = \"no\"\n",
    "# charges = 16884.924\n",
    "# region = \"southest \""
   ]
  },
  {
   "cell_type": "code",
   "execution_count": null,
   "id": "f263cc82",
   "metadata": {},
   "outputs": [],
   "source": [
    "import pickle"
   ]
  },
  {
   "cell_type": "code",
   "execution_count": null,
   "id": "10fa8c5b",
   "metadata": {},
   "outputs": [],
   "source": [
    "with open (\"linear_model.pkl\",\"wb\")as f:\n",
    "    pickle.dump(\"model\",f)"
   ]
  },
  {
   "cell_type": "code",
   "execution_count": null,
   "id": "a42f8f0f",
   "metadata": {},
   "outputs": [],
   "source": [
    "import json"
   ]
  },
  {
   "cell_type": "code",
   "execution_count": null,
   "id": "d5d4bf98",
   "metadata": {},
   "outputs": [],
   "source": [
    "json_data = {\"sex\":sex_values,\n",
    "            \"smoker\":smoker_values,\n",
    "            \"columns\":list(column_names)}\n",
    "json_data"
   ]
  },
  {
   "cell_type": "code",
   "execution_count": null,
   "id": "f39e2f42",
   "metadata": {},
   "outputs": [],
   "source": [
    "with open (\"json_file.json\",\"w\")as f:\n",
    "    json.dump(json_data,f)"
   ]
  },
  {
   "cell_type": "code",
   "execution_count": null,
   "id": "73cbcb2d",
   "metadata": {},
   "outputs": [],
   "source": [
    "# region1 = \"region_\" + region\n",
    "# region1"
   ]
  },
  {
   "cell_type": "code",
   "execution_count": null,
   "id": "84e71b6e",
   "metadata": {},
   "outputs": [],
   "source": [
    "column_names = x.columns\n",
    "column_names"
   ]
  },
  {
   "cell_type": "code",
   "execution_count": null,
   "id": "c5590c1f",
   "metadata": {},
   "outputs": [],
   "source": [
    "age = 19.0\n",
    "sex = \"female\"\n",
    "bmi = 27.9\n",
    "children = 0.0\n",
    "smoker = \"no\"\n",
    "region = \"southeast\"\n",
    "\n",
    "region = \"region_\" + region\n",
    "region\n",
    "\n",
    "region_index = np.where(column_names == region)[0][0]\n",
    "region_index"
   ]
  },
  {
   "cell_type": "code",
   "execution_count": null,
   "id": "d546d31d",
   "metadata": {},
   "outputs": [],
   "source": [
    "list(column_names).index(region)"
   ]
  },
  {
   "cell_type": "code",
   "execution_count": null,
   "id": "f6315087",
   "metadata": {},
   "outputs": [],
   "source": [
    "array = np.zeros(len(column_names))\n",
    "\n",
    "array[0] = age\n",
    "array[1] = json_data['sex'][sex]\n",
    "array[2] = bmi\n",
    "array[3] = children\n",
    "array[4] = json_data['smoker'][smoker]\n",
    "array[region_index] = 1\n",
    "\n",
    "array"
   ]
  },
  {
   "cell_type": "code",
   "execution_count": null,
   "id": "21567cba",
   "metadata": {},
   "outputs": [],
   "source": [
    "charges = round(model.predict([array])[0],2)\n",
    "print(\"Predicted Medical Insurance Charges is :\", charges, \"/- Rs. Only\")"
   ]
  }
 ],
 "metadata": {
  "kernelspec": {
   "display_name": "Python 3 (ipykernel)",
   "language": "python",
   "name": "python3"
  },
  "language_info": {
   "codemirror_mode": {
    "name": "ipython",
    "version": 3
   },
   "file_extension": ".py",
   "mimetype": "text/x-python",
   "name": "python",
   "nbconvert_exporter": "python",
   "pygments_lexer": "ipython3",
   "version": "3.9.13"
  }
 },
 "nbformat": 4,
 "nbformat_minor": 5
}
