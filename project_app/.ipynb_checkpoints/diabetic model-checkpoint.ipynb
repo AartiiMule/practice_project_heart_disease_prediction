{
 "cells": [
  {
   "cell_type": "code",
   "execution_count": 1,
   "id": "b8fee3b5",
   "metadata": {},
   "outputs": [],
   "source": [
    "import numpy as np\n",
    "import pandas as pd\n",
    "\n",
    "from sklearn.metrics import confusion_matrix,roc_auc_score,precision_score,recall_score,f1_score\n",
    "from sklearn.metrics import plot_confusion_matrix,roc_curve,auc,classification_report,accuracy_score\n",
    "\n",
    "from sklearn.model_selection import train_test_split\n",
    "from sklearn.linear_model import LogisticRegression\n",
    "\n",
    "import warnings\n",
    "warnings.filterwarnings(\"ignore\")\n",
    "\n",
    "import seaborn as sns\n",
    "import matplotlib.pyplot as plt\n",
    "\n",
    "import pickle\n",
    "import json"
   ]
  },
  {
   "cell_type": "markdown",
   "id": "eda572c5",
   "metadata": {},
   "source": [
    "## Problem Statement"
   ]
  },
  {
   "cell_type": "markdown",
   "id": "d2212612",
   "metadata": {},
   "source": [
    "predict the patient is dabetic or not"
   ]
  },
  {
   "cell_type": "markdown",
   "id": "46c52bfd",
   "metadata": {},
   "source": [
    "## Data Gathering"
   ]
  },
  {
   "cell_type": "code",
   "execution_count": 2,
   "id": "015b1102",
   "metadata": {},
   "outputs": [
    {
     "data": {
      "text/html": [
       "<div>\n",
       "<style scoped>\n",
       "    .dataframe tbody tr th:only-of-type {\n",
       "        vertical-align: middle;\n",
       "    }\n",
       "\n",
       "    .dataframe tbody tr th {\n",
       "        vertical-align: top;\n",
       "    }\n",
       "\n",
       "    .dataframe thead th {\n",
       "        text-align: right;\n",
       "    }\n",
       "</style>\n",
       "<table border=\"1\" class=\"dataframe\">\n",
       "  <thead>\n",
       "    <tr style=\"text-align: right;\">\n",
       "      <th></th>\n",
       "      <th>Glucose</th>\n",
       "      <th>BloodPressure</th>\n",
       "      <th>SkinThickness</th>\n",
       "      <th>Insulin</th>\n",
       "      <th>BMI</th>\n",
       "      <th>DiabetesPedigreeFunction</th>\n",
       "      <th>Age</th>\n",
       "      <th>Outcome</th>\n",
       "    </tr>\n",
       "  </thead>\n",
       "  <tbody>\n",
       "    <tr>\n",
       "      <th>0</th>\n",
       "      <td>148</td>\n",
       "      <td>50</td>\n",
       "      <td>35</td>\n",
       "      <td>0</td>\n",
       "      <td>33.6</td>\n",
       "      <td>0.627</td>\n",
       "      <td>50</td>\n",
       "      <td>1</td>\n",
       "    </tr>\n",
       "    <tr>\n",
       "      <th>1</th>\n",
       "      <td>85</td>\n",
       "      <td>66</td>\n",
       "      <td>29</td>\n",
       "      <td>0</td>\n",
       "      <td>26.6</td>\n",
       "      <td>0.351</td>\n",
       "      <td>31</td>\n",
       "      <td>0</td>\n",
       "    </tr>\n",
       "    <tr>\n",
       "      <th>2</th>\n",
       "      <td>183</td>\n",
       "      <td>64</td>\n",
       "      <td>0</td>\n",
       "      <td>0</td>\n",
       "      <td>23.3</td>\n",
       "      <td>0.672</td>\n",
       "      <td>52</td>\n",
       "      <td>1</td>\n",
       "    </tr>\n",
       "    <tr>\n",
       "      <th>3</th>\n",
       "      <td>150</td>\n",
       "      <td>66</td>\n",
       "      <td>23</td>\n",
       "      <td>94</td>\n",
       "      <td>28.1</td>\n",
       "      <td>0.167</td>\n",
       "      <td>21</td>\n",
       "      <td>0</td>\n",
       "    </tr>\n",
       "    <tr>\n",
       "      <th>4</th>\n",
       "      <td>150</td>\n",
       "      <td>40</td>\n",
       "      <td>35</td>\n",
       "      <td>168</td>\n",
       "      <td>43.1</td>\n",
       "      <td>2.288</td>\n",
       "      <td>33</td>\n",
       "      <td>1</td>\n",
       "    </tr>\n",
       "    <tr>\n",
       "      <th>...</th>\n",
       "      <td>...</td>\n",
       "      <td>...</td>\n",
       "      <td>...</td>\n",
       "      <td>...</td>\n",
       "      <td>...</td>\n",
       "      <td>...</td>\n",
       "      <td>...</td>\n",
       "      <td>...</td>\n",
       "    </tr>\n",
       "    <tr>\n",
       "      <th>763</th>\n",
       "      <td>101</td>\n",
       "      <td>76</td>\n",
       "      <td>48</td>\n",
       "      <td>180</td>\n",
       "      <td>32.9</td>\n",
       "      <td>0.171</td>\n",
       "      <td>63</td>\n",
       "      <td>0</td>\n",
       "    </tr>\n",
       "    <tr>\n",
       "      <th>764</th>\n",
       "      <td>122</td>\n",
       "      <td>70</td>\n",
       "      <td>27</td>\n",
       "      <td>0</td>\n",
       "      <td>36.8</td>\n",
       "      <td>0.340</td>\n",
       "      <td>27</td>\n",
       "      <td>0</td>\n",
       "    </tr>\n",
       "    <tr>\n",
       "      <th>765</th>\n",
       "      <td>121</td>\n",
       "      <td>72</td>\n",
       "      <td>23</td>\n",
       "      <td>112</td>\n",
       "      <td>26.2</td>\n",
       "      <td>0.245</td>\n",
       "      <td>30</td>\n",
       "      <td>0</td>\n",
       "    </tr>\n",
       "    <tr>\n",
       "      <th>766</th>\n",
       "      <td>126</td>\n",
       "      <td>60</td>\n",
       "      <td>0</td>\n",
       "      <td>0</td>\n",
       "      <td>30.1</td>\n",
       "      <td>0.349</td>\n",
       "      <td>47</td>\n",
       "      <td>1</td>\n",
       "    </tr>\n",
       "    <tr>\n",
       "      <th>767</th>\n",
       "      <td>93</td>\n",
       "      <td>70</td>\n",
       "      <td>31</td>\n",
       "      <td>0</td>\n",
       "      <td>30.4</td>\n",
       "      <td>0.315</td>\n",
       "      <td>23</td>\n",
       "      <td>0</td>\n",
       "    </tr>\n",
       "  </tbody>\n",
       "</table>\n",
       "<p>768 rows × 8 columns</p>\n",
       "</div>"
      ],
      "text/plain": [
       "     Glucose  BloodPressure  SkinThickness  Insulin   BMI  \\\n",
       "0        148             50             35        0  33.6   \n",
       "1         85             66             29        0  26.6   \n",
       "2        183             64              0        0  23.3   \n",
       "3        150             66             23       94  28.1   \n",
       "4        150             40             35      168  43.1   \n",
       "..       ...            ...            ...      ...   ...   \n",
       "763      101             76             48      180  32.9   \n",
       "764      122             70             27        0  36.8   \n",
       "765      121             72             23      112  26.2   \n",
       "766      126             60              0        0  30.1   \n",
       "767       93             70             31        0  30.4   \n",
       "\n",
       "     DiabetesPedigreeFunction  Age  Outcome  \n",
       "0                       0.627   50        1  \n",
       "1                       0.351   31        0  \n",
       "2                       0.672   52        1  \n",
       "3                       0.167   21        0  \n",
       "4                       2.288   33        1  \n",
       "..                        ...  ...      ...  \n",
       "763                     0.171   63        0  \n",
       "764                     0.340   27        0  \n",
       "765                     0.245   30        0  \n",
       "766                     0.349   47        1  \n",
       "767                     0.315   23        0  \n",
       "\n",
       "[768 rows x 8 columns]"
      ]
     },
     "execution_count": 2,
     "metadata": {},
     "output_type": "execute_result"
    }
   ],
   "source": [
    "df = pd.read_csv(\"diabetes.csv\")\n",
    "df"
   ]
  },
  {
   "cell_type": "markdown",
   "id": "c5fe59ef",
   "metadata": {},
   "source": [
    "## Exploratory Data Analysis"
   ]
  },
  {
   "cell_type": "code",
   "execution_count": 3,
   "id": "adde8fde",
   "metadata": {},
   "outputs": [
    {
     "name": "stdout",
     "output_type": "stream",
     "text": [
      "<class 'pandas.core.frame.DataFrame'>\n",
      "RangeIndex: 768 entries, 0 to 767\n",
      "Data columns (total 8 columns):\n",
      " #   Column                    Non-Null Count  Dtype  \n",
      "---  ------                    --------------  -----  \n",
      " 0   Glucose                   768 non-null    int64  \n",
      " 1   BloodPressure             768 non-null    int64  \n",
      " 2   SkinThickness             768 non-null    int64  \n",
      " 3   Insulin                   768 non-null    int64  \n",
      " 4   BMI                       768 non-null    float64\n",
      " 5   DiabetesPedigreeFunction  768 non-null    float64\n",
      " 6   Age                       768 non-null    int64  \n",
      " 7   Outcome                   768 non-null    int64  \n",
      "dtypes: float64(2), int64(6)\n",
      "memory usage: 48.1 KB\n"
     ]
    }
   ],
   "source": [
    "df.info()"
   ]
  },
  {
   "cell_type": "code",
   "execution_count": 4,
   "id": "3ad4915e",
   "metadata": {},
   "outputs": [
    {
     "data": {
      "text/plain": [
       "100    17\n",
       "99     17\n",
       "150    15\n",
       "106    14\n",
       "129    14\n",
       "       ..\n",
       "44      1\n",
       "177     1\n",
       "191     1\n",
       "61      1\n",
       "190     1\n",
       "Name: Glucose, Length: 136, dtype: int64"
      ]
     },
     "execution_count": 4,
     "metadata": {},
     "output_type": "execute_result"
    }
   ],
   "source": [
    "df[\"Glucose\"].value_counts()"
   ]
  },
  {
   "cell_type": "code",
   "execution_count": 5,
   "id": "017865c3",
   "metadata": {},
   "outputs": [
    {
     "data": {
      "text/plain": [
       "array([148,  85, 183, 150, 100, 118, 107, 103, 115, 126,  99, 196, 119,\n",
       "       143, 125, 147,  97, 145, 117, 109, 158,  88,  92, 122, 138, 102,\n",
       "        90, 111, 180, 133, 106, 171, 159, 146,  71, 105, 101, 176,  73,\n",
       "       187,  84,  44, 141, 114,  95, 139, 129,  79,   0,  62, 131, 112,\n",
       "       113,  74,  83, 137, 110, 136,  80, 123,  81, 134, 142, 144,  93,\n",
       "       163, 151,  96, 155,  89,  76, 160, 124,  78, 162, 132, 120, 173,\n",
       "       170, 128, 108, 154,  57, 156, 153, 188, 152, 104,  87,  75, 179,\n",
       "       130, 194, 181, 135, 184, 140, 177, 197, 164,  91, 165,  86, 193,\n",
       "       191, 161, 167,  77, 182, 157, 178, 116,  61, 189,  98, 166, 127,\n",
       "        82,  72, 168, 172,  94, 175, 195,  68, 186, 198, 121,  67, 174,\n",
       "       199,  56, 169, 149,  65, 190], dtype=int64)"
      ]
     },
     "execution_count": 5,
     "metadata": {},
     "output_type": "execute_result"
    }
   ],
   "source": [
    "df[\"Glucose\"].unique()"
   ]
  },
  {
   "cell_type": "code",
   "execution_count": 6,
   "id": "75d50936",
   "metadata": {},
   "outputs": [
    {
     "data": {
      "text/plain": [
       "array([ 50,  66,  64,  40,  74,   0,  70,  96,  92,  80,  60,  72,  84,\n",
       "        30,  88,  90,  94,  76,  82,  75,  58,  78,  68, 110,  56,  62,\n",
       "        85,  86,  48,  44,  65, 108,  55, 122,  54,  52,  98, 104,  95,\n",
       "        46, 102, 100,  61,  24,  38, 106, 114], dtype=int64)"
      ]
     },
     "execution_count": 6,
     "metadata": {},
     "output_type": "execute_result"
    }
   ],
   "source": [
    "df[\"BloodPressure\"].unique()"
   ]
  },
  {
   "cell_type": "code",
   "execution_count": 7,
   "id": "2cb1cc4b",
   "metadata": {},
   "outputs": [
    {
     "data": {
      "text/plain": [
       "70     57\n",
       "74     52\n",
       "78     45\n",
       "68     45\n",
       "64     43\n",
       "72     43\n",
       "80     40\n",
       "76     39\n",
       "60     37\n",
       "0      35\n",
       "62     34\n",
       "66     30\n",
       "82     30\n",
       "88     25\n",
       "84     23\n",
       "90     22\n",
       "58     21\n",
       "86     21\n",
       "50     14\n",
       "56     12\n",
       "52     11\n",
       "54     11\n",
       "75      8\n",
       "92      8\n",
       "65      7\n",
       "85      6\n",
       "94      6\n",
       "48      5\n",
       "96      4\n",
       "44      4\n",
       "100     3\n",
       "106     3\n",
       "98      3\n",
       "110     3\n",
       "55      2\n",
       "108     2\n",
       "104     2\n",
       "46      2\n",
       "30      2\n",
       "122     1\n",
       "95      1\n",
       "102     1\n",
       "61      1\n",
       "24      1\n",
       "38      1\n",
       "40      1\n",
       "114     1\n",
       "Name: BloodPressure, dtype: int64"
      ]
     },
     "execution_count": 7,
     "metadata": {},
     "output_type": "execute_result"
    }
   ],
   "source": [
    "df[\"BloodPressure\"].value_counts()"
   ]
  },
  {
   "cell_type": "code",
   "execution_count": 8,
   "id": "467ec85b",
   "metadata": {},
   "outputs": [
    {
     "data": {
      "text/plain": [
       "array([35, 29,  0, 23, 32, 45, 19, 47, 38, 30, 41, 33, 26, 15, 36, 11, 31,\n",
       "       37, 42, 25, 18, 24, 39, 27, 21, 34, 10, 60, 13, 20, 22, 28, 54, 40,\n",
       "       51, 56, 14, 17, 50, 44, 12, 46, 16,  7, 52, 43, 48,  8, 49, 63, 99],\n",
       "      dtype=int64)"
      ]
     },
     "execution_count": 8,
     "metadata": {},
     "output_type": "execute_result"
    }
   ],
   "source": [
    "df[\"SkinThickness\"].unique()"
   ]
  },
  {
   "cell_type": "code",
   "execution_count": 9,
   "id": "58283d36",
   "metadata": {},
   "outputs": [
    {
     "data": {
      "text/plain": [
       "0     227\n",
       "32     31\n",
       "30     27\n",
       "27     23\n",
       "23     22\n",
       "33     20\n",
       "28     20\n",
       "18     20\n",
       "31     19\n",
       "19     18\n",
       "39     18\n",
       "29     17\n",
       "40     16\n",
       "25     16\n",
       "26     16\n",
       "22     16\n",
       "37     16\n",
       "41     15\n",
       "35     15\n",
       "36     14\n",
       "15     14\n",
       "17     14\n",
       "20     13\n",
       "24     12\n",
       "42     11\n",
       "13     11\n",
       "21     10\n",
       "46      8\n",
       "34      8\n",
       "12      7\n",
       "38      7\n",
       "11      6\n",
       "43      6\n",
       "16      6\n",
       "45      6\n",
       "14      6\n",
       "44      5\n",
       "10      5\n",
       "48      4\n",
       "47      4\n",
       "49      3\n",
       "50      3\n",
       "8       2\n",
       "7       2\n",
       "52      2\n",
       "54      2\n",
       "63      1\n",
       "60      1\n",
       "56      1\n",
       "51      1\n",
       "99      1\n",
       "Name: SkinThickness, dtype: int64"
      ]
     },
     "execution_count": 9,
     "metadata": {},
     "output_type": "execute_result"
    }
   ],
   "source": [
    "df[\"SkinThickness\"].value_counts()"
   ]
  },
  {
   "cell_type": "code",
   "execution_count": 10,
   "id": "48071687",
   "metadata": {},
   "outputs": [
    {
     "data": {
      "text/plain": [
       "array([  0,  94, 168,  88, 543, 846, 175, 230,  83,  96, 235, 146, 115,\n",
       "       140, 110, 245,  54, 192, 207,  70, 240,  82,  36,  23, 300, 342,\n",
       "       304, 142, 128,  38, 100,  90, 270,  71, 125, 176,  48,  64, 228,\n",
       "        76, 220,  40, 152,  18, 135, 495,  37,  51,  99, 145, 225,  49,\n",
       "        50,  92, 325,  63, 284, 119, 204, 155, 485,  53, 114, 105, 285,\n",
       "       156,  78, 130,  55,  58, 160, 210, 318,  44, 190, 280,  87, 271,\n",
       "       129, 120, 478,  56,  32, 744, 370,  45, 194, 680, 402, 258, 375,\n",
       "       150,  67,  57, 116, 278, 122, 545,  75,  74, 182, 360, 215, 184,\n",
       "        42, 132, 148, 180, 205,  85, 231,  29,  68,  52, 255, 171,  73,\n",
       "       108,  43, 167, 249, 293,  66, 465,  89, 158,  84,  72,  59,  81,\n",
       "       196, 415, 275, 165, 579, 310,  61, 474, 170, 277,  60,  14,  95,\n",
       "       237, 191, 328, 250, 480, 265, 193,  79,  86, 326, 188, 106,  65,\n",
       "       166, 274,  77, 126, 330, 600, 185,  25,  41, 272, 321, 144,  15,\n",
       "       183,  91,  46, 440, 159, 540, 200, 335, 387,  22, 291, 392, 178,\n",
       "       127, 510,  16, 112], dtype=int64)"
      ]
     },
     "execution_count": 10,
     "metadata": {},
     "output_type": "execute_result"
    }
   ],
   "source": [
    "df[\"Insulin\"].unique()"
   ]
  },
  {
   "cell_type": "code",
   "execution_count": 11,
   "id": "0cca9f3c",
   "metadata": {},
   "outputs": [
    {
     "data": {
      "text/plain": [
       "0      374\n",
       "105     11\n",
       "130      9\n",
       "140      9\n",
       "120      8\n",
       "      ... \n",
       "73       1\n",
       "171      1\n",
       "255      1\n",
       "52       1\n",
       "112      1\n",
       "Name: Insulin, Length: 186, dtype: int64"
      ]
     },
     "execution_count": 11,
     "metadata": {},
     "output_type": "execute_result"
    }
   ],
   "source": [
    "df[\"Insulin\"].value_counts()"
   ]
  },
  {
   "cell_type": "code",
   "execution_count": 12,
   "id": "5dfbfa9a",
   "metadata": {},
   "outputs": [
    {
     "data": {
      "text/plain": [
       "array([33.6, 26.6, 23.3, 28.1, 43.1, 25.6, 31. , 35.3, 30.5,  0. , 37.6,\n",
       "       38. , 27.1, 30.1, 25.8, 30. , 45.8, 29.6, 43.3, 34.6, 39.3, 35.4,\n",
       "       39.8, 29. , 36.6, 31.1, 39.4, 23.2, 22.2, 34.1, 36. , 31.6, 24.8,\n",
       "       19.9, 27.6, 24. , 33.2, 32.9, 38.2, 37.1, 34. , 40.2, 22.7, 45.4,\n",
       "       27.4, 42. , 29.7, 28. , 39.1, 19.4, 24.2, 24.4, 33.7, 34.7, 23. ,\n",
       "       37.7, 46.8, 40.5, 41.5, 25. , 25.4, 32.8, 32.5, 42.7, 19.6, 28.9,\n",
       "       28.6, 43.4, 35.1, 32. , 24.7, 32.6, 43.2, 22.4, 29.3, 24.6, 48.8,\n",
       "       32.4, 38.5, 26.5, 19.1, 46.7, 23.8, 33.9, 20.4, 28.7, 49.7, 39. ,\n",
       "       26.1, 22.5, 39.6, 29.5, 34.3, 37.4, 33.3, 31.2, 28.2, 53.2, 34.2,\n",
       "       26.8, 55. , 42.9, 34.5, 27.9, 38.3, 21.1, 33.8, 30.8, 36.9, 39.5,\n",
       "       27.3, 21.9, 40.6, 47.9, 50. , 25.2, 40.9, 37.2, 44.2, 29.9, 31.9,\n",
       "       28.4, 43.5, 32.7, 67.1, 45. , 34.9, 27.7, 35.9, 22.6, 33.1, 30.4,\n",
       "       52.3, 24.3, 22.9, 34.8, 30.9, 40.1, 23.9, 37.5, 35.5, 42.8, 42.6,\n",
       "       41.8, 35.8, 37.8, 28.8, 23.6, 35.7, 36.7, 45.2, 44. , 46.2, 35. ,\n",
       "       43.6, 44.1, 18.4, 29.2, 25.9, 32.1, 36.3, 40. , 25.1, 27.5, 45.6,\n",
       "       27.8, 24.9, 25.3, 37.9, 27. , 26. , 38.7, 20.8, 36.1, 30.7, 32.3,\n",
       "       52.9, 21. , 39.7, 25.5, 26.2, 19.3, 38.1, 23.5, 45.5, 23.1, 39.9,\n",
       "       36.8, 21.8, 41. , 42.2, 34.4, 27.2, 36.5, 29.8, 39.2, 38.4, 36.2,\n",
       "       48.3, 20. , 22.3, 45.7, 23.7, 22.1, 42.1, 42.4, 18.2, 26.4, 45.3,\n",
       "       37. , 24.5, 32.2, 59.4, 21.2, 26.7, 30.2, 46.1, 41.3, 38.8, 35.2,\n",
       "       42.3, 40.7, 46.5, 33.5, 37.3, 30.3, 26.3, 21.7, 36.4, 28.5, 26.9,\n",
       "       38.6, 31.3, 19.5, 20.1, 40.8, 23.4, 28.3, 38.9, 57.3, 35.6, 49.6,\n",
       "       44.6, 24.1, 44.5, 41.2, 49.3, 46.3])"
      ]
     },
     "execution_count": 12,
     "metadata": {},
     "output_type": "execute_result"
    }
   ],
   "source": [
    "df[\"BMI\"].unique()"
   ]
  },
  {
   "cell_type": "code",
   "execution_count": 13,
   "id": "b0da668c",
   "metadata": {},
   "outputs": [
    {
     "data": {
      "text/plain": [
       "32.0    13\n",
       "31.6    12\n",
       "31.2    12\n",
       "0.0     11\n",
       "32.4    10\n",
       "        ..\n",
       "36.7     1\n",
       "41.8     1\n",
       "42.6     1\n",
       "42.8     1\n",
       "46.3     1\n",
       "Name: BMI, Length: 248, dtype: int64"
      ]
     },
     "execution_count": 13,
     "metadata": {},
     "output_type": "execute_result"
    }
   ],
   "source": [
    "df[\"BMI\"].value_counts()"
   ]
  },
  {
   "cell_type": "code",
   "execution_count": 14,
   "id": "048f5d67",
   "metadata": {},
   "outputs": [
    {
     "data": {
      "text/plain": [
       "array([0.627, 0.351, 0.672, 0.167, 2.288, 0.201, 0.248, 0.134, 0.158,\n",
       "       0.232, 0.191, 0.537, 1.441, 0.398, 0.587, 0.484, 0.551, 0.254,\n",
       "       0.183, 0.529, 0.704, 0.388, 0.451, 0.263, 0.205, 0.257, 0.487,\n",
       "       0.245, 0.337, 0.546, 0.851, 0.267, 0.188, 0.512, 0.966, 0.42 ,\n",
       "       0.665, 0.503, 1.39 , 0.271, 0.696, 0.235, 0.721, 0.294, 1.893,\n",
       "       0.564, 0.586, 0.344, 0.305, 0.491, 0.526, 0.342, 0.467, 0.718,\n",
       "       0.962, 1.781, 0.173, 0.304, 0.27 , 0.699, 0.258, 0.203, 0.855,\n",
       "       0.845, 0.334, 0.189, 0.867, 0.411, 0.583, 0.231, 0.396, 0.14 ,\n",
       "       0.391, 0.37 , 0.307, 0.102, 0.767, 0.237, 0.227, 0.698, 0.178,\n",
       "       0.324, 0.153, 0.165, 0.443, 0.261, 0.277, 0.761, 0.255, 0.13 ,\n",
       "       0.323, 0.356, 0.325, 1.222, 0.179, 0.262, 0.283, 0.93 , 0.801,\n",
       "       0.207, 0.287, 0.336, 0.247, 0.199, 0.543, 0.192, 0.588, 0.539,\n",
       "       0.22 , 0.654, 0.223, 0.759, 0.26 , 0.404, 0.186, 0.278, 0.496,\n",
       "       0.452, 0.403, 0.741, 0.361, 1.114, 0.457, 0.647, 0.088, 0.597,\n",
       "       0.532, 0.703, 0.159, 0.268, 0.286, 0.318, 0.272, 0.572, 0.096,\n",
       "       1.4  , 0.218, 0.085, 0.399, 0.432, 1.189, 0.687, 0.137, 0.637,\n",
       "       0.833, 0.229, 0.817, 0.204, 0.368, 0.743, 0.722, 0.256, 0.709,\n",
       "       0.471, 0.495, 0.18 , 0.542, 0.773, 0.678, 0.719, 0.382, 0.319,\n",
       "       0.19 , 0.956, 0.084, 0.725, 0.299, 0.244, 0.745, 0.615, 1.321,\n",
       "       0.64 , 0.142, 0.374, 0.383, 0.578, 0.136, 0.395, 0.187, 0.905,\n",
       "       0.15 , 0.874, 0.236, 0.787, 0.407, 0.605, 0.151, 0.289, 0.355,\n",
       "       0.29 , 0.375, 0.164, 0.431, 0.742, 0.514, 0.464, 1.224, 1.072,\n",
       "       0.805, 0.209, 0.666, 0.101, 0.198, 0.652, 2.329, 0.089, 0.645,\n",
       "       0.238, 0.394, 0.293, 0.479, 0.686, 0.831, 0.582, 0.446, 0.402,\n",
       "       1.318, 0.329, 1.213, 0.427, 0.282, 0.143, 0.38 , 0.284, 0.249,\n",
       "       0.926, 0.557, 0.092, 0.655, 1.353, 0.612, 0.2  , 0.226, 0.997,\n",
       "       0.933, 1.101, 0.078, 0.24 , 1.136, 0.128, 0.422, 0.251, 0.677,\n",
       "       0.296, 0.454, 0.744, 0.881, 0.28 , 0.259, 0.619, 0.808, 0.34 ,\n",
       "       0.434, 0.757, 0.613, 0.692, 0.52 , 0.412, 0.84 , 0.839, 0.156,\n",
       "       0.215, 0.326, 1.391, 0.875, 0.313, 0.433, 0.626, 1.127, 0.315,\n",
       "       0.345, 0.129, 0.527, 0.197, 0.731, 0.148, 0.123, 0.127, 0.122,\n",
       "       1.476, 0.166, 0.932, 0.343, 0.893, 0.331, 0.472, 0.673, 0.389,\n",
       "       0.485, 0.349, 0.279, 0.346, 0.252, 0.243, 0.58 , 0.559, 0.302,\n",
       "       0.569, 0.378, 0.385, 0.499, 0.306, 0.234, 2.137, 1.731, 0.545,\n",
       "       0.225, 0.816, 0.528, 0.509, 1.021, 0.821, 0.947, 1.268, 0.221,\n",
       "       0.66 , 0.239, 0.949, 0.444, 0.463, 0.803, 1.6  , 0.944, 0.196,\n",
       "       0.241, 0.161, 0.135, 0.376, 1.191, 0.702, 0.674, 1.076, 0.534,\n",
       "       1.095, 0.554, 0.624, 0.219, 0.507, 0.561, 0.421, 0.516, 0.264,\n",
       "       0.328, 0.233, 0.108, 1.138, 0.147, 0.727, 0.435, 0.497, 0.23 ,\n",
       "       0.955, 2.42 , 0.658, 0.33 , 0.51 , 0.285, 0.415, 0.381, 0.832,\n",
       "       0.498, 0.212, 0.364, 1.001, 0.46 , 0.733, 0.416, 0.705, 1.022,\n",
       "       0.269, 0.6  , 0.571, 0.607, 0.17 , 0.21 , 0.126, 0.711, 0.466,\n",
       "       0.162, 0.419, 0.63 , 0.365, 0.536, 1.159, 0.629, 0.292, 0.145,\n",
       "       1.144, 0.174, 0.547, 0.163, 0.738, 0.314, 0.968, 0.409, 0.297,\n",
       "       0.525, 0.154, 0.771, 0.107, 0.493, 0.717, 0.917, 0.501, 1.251,\n",
       "       0.735, 0.804, 0.661, 0.549, 0.825, 0.423, 1.034, 0.16 , 0.341,\n",
       "       0.68 , 0.591, 0.3  , 0.121, 0.502, 0.401, 0.601, 0.748, 0.338,\n",
       "       0.43 , 0.892, 0.813, 0.693, 0.575, 0.371, 0.206, 0.417, 1.154,\n",
       "       0.925, 0.175, 1.699, 0.682, 0.194, 0.4  , 0.1  , 1.258, 0.482,\n",
       "       0.138, 0.593, 0.878, 0.157, 1.282, 0.141, 0.246, 1.698, 1.461,\n",
       "       0.347, 0.362, 0.393, 0.144, 0.732, 0.115, 0.465, 0.649, 0.871,\n",
       "       0.149, 0.695, 0.303, 0.61 , 0.73 , 0.447, 0.455, 0.133, 0.155,\n",
       "       1.162, 1.292, 0.182, 1.394, 0.217, 0.631, 0.88 , 0.614, 0.332,\n",
       "       0.366, 0.181, 0.828, 0.335, 0.856, 0.886, 0.439, 0.253, 0.598,\n",
       "       0.904, 0.483, 0.565, 0.118, 0.177, 0.176, 0.295, 0.441, 0.352,\n",
       "       0.826, 0.97 , 0.595, 0.317, 0.265, 0.646, 0.426, 0.56 , 0.515,\n",
       "       0.453, 0.785, 0.734, 1.174, 0.488, 0.358, 1.096, 0.408, 1.182,\n",
       "       0.222, 1.057, 0.766, 0.171])"
      ]
     },
     "execution_count": 14,
     "metadata": {},
     "output_type": "execute_result"
    }
   ],
   "source": [
    "df[\"DiabetesPedigreeFunction\"].unique()"
   ]
  },
  {
   "cell_type": "code",
   "execution_count": 15,
   "id": "0037339d",
   "metadata": {},
   "outputs": [
    {
     "data": {
      "text/plain": [
       "0.258    6\n",
       "0.254    6\n",
       "0.268    5\n",
       "0.207    5\n",
       "0.261    5\n",
       "        ..\n",
       "1.353    1\n",
       "0.655    1\n",
       "0.092    1\n",
       "0.926    1\n",
       "0.171    1\n",
       "Name: DiabetesPedigreeFunction, Length: 517, dtype: int64"
      ]
     },
     "execution_count": 15,
     "metadata": {},
     "output_type": "execute_result"
    }
   ],
   "source": [
    "df[\"DiabetesPedigreeFunction\"].value_counts()"
   ]
  },
  {
   "cell_type": "code",
   "execution_count": 16,
   "id": "d4b4b837",
   "metadata": {},
   "outputs": [
    {
     "data": {
      "text/plain": [
       "array([50, 31, 52, 21, 33, 30, 26, 29, 35, 54, 34, 57, 59, 51, 32, 27, 41,\n",
       "       43, 22, 38, 60, 28, 45, 46, 56, 37, 48, 40, 25, 24, 58, 42, 44, 39,\n",
       "       36, 23, 61, 69, 62, 55, 65, 47, 66, 49, 63, 67, 72, 81, 64, 53, 70,\n",
       "       68], dtype=int64)"
      ]
     },
     "execution_count": 16,
     "metadata": {},
     "output_type": "execute_result"
    }
   ],
   "source": [
    "df[\"Age\"].unique()"
   ]
  },
  {
   "cell_type": "code",
   "execution_count": 17,
   "id": "2a51d699",
   "metadata": {},
   "outputs": [
    {
     "data": {
      "text/plain": [
       "22    72\n",
       "21    63\n",
       "25    48\n",
       "24    46\n",
       "23    38\n",
       "28    35\n",
       "26    33\n",
       "27    32\n",
       "29    29\n",
       "31    24\n",
       "41    22\n",
       "30    21\n",
       "37    19\n",
       "42    18\n",
       "33    17\n",
       "38    16\n",
       "36    16\n",
       "32    15\n",
       "45    15\n",
       "34    14\n",
       "43    13\n",
       "46    13\n",
       "40    13\n",
       "39    12\n",
       "35    11\n",
       "52     9\n",
       "50     8\n",
       "51     8\n",
       "44     8\n",
       "58     7\n",
       "47     6\n",
       "54     6\n",
       "49     5\n",
       "48     5\n",
       "57     5\n",
       "60     5\n",
       "66     4\n",
       "53     4\n",
       "62     4\n",
       "55     4\n",
       "63     4\n",
       "67     3\n",
       "56     3\n",
       "59     3\n",
       "65     3\n",
       "69     2\n",
       "61     2\n",
       "72     1\n",
       "81     1\n",
       "64     1\n",
       "70     1\n",
       "68     1\n",
       "Name: Age, dtype: int64"
      ]
     },
     "execution_count": 17,
     "metadata": {},
     "output_type": "execute_result"
    }
   ],
   "source": [
    "df[\"Age\"].value_counts()"
   ]
  },
  {
   "cell_type": "code",
   "execution_count": 18,
   "id": "2cfbf514",
   "metadata": {},
   "outputs": [
    {
     "data": {
      "text/plain": [
       "0    500\n",
       "1    268\n",
       "Name: Outcome, dtype: int64"
      ]
     },
     "execution_count": 18,
     "metadata": {},
     "output_type": "execute_result"
    }
   ],
   "source": [
    "df[\"Outcome\"].value_counts()"
   ]
  },
  {
   "cell_type": "code",
   "execution_count": 19,
   "id": "2c92e52a",
   "metadata": {},
   "outputs": [],
   "source": [
    "# checking missing values"
   ]
  },
  {
   "cell_type": "code",
   "execution_count": 20,
   "id": "46f7ad50",
   "metadata": {},
   "outputs": [
    {
     "data": {
      "text/plain": [
       "Glucose                     0\n",
       "BloodPressure               0\n",
       "SkinThickness               0\n",
       "Insulin                     0\n",
       "BMI                         0\n",
       "DiabetesPedigreeFunction    0\n",
       "Age                         0\n",
       "Outcome                     0\n",
       "dtype: int64"
      ]
     },
     "execution_count": 20,
     "metadata": {},
     "output_type": "execute_result"
    }
   ],
   "source": [
    "df.isna().sum()"
   ]
  },
  {
   "cell_type": "code",
   "execution_count": 21,
   "id": "82b106ba",
   "metadata": {},
   "outputs": [],
   "source": [
    "# detect outliers"
   ]
  },
  {
   "cell_type": "code",
   "execution_count": 22,
   "id": "eb5a25ad",
   "metadata": {},
   "outputs": [
    {
     "data": {
      "text/plain": [
       "<AxesSubplot:>"
      ]
     },
     "execution_count": 22,
     "metadata": {},
     "output_type": "execute_result"
    },
    {
     "data": {
      "image/png": "[encoded data removed]",
      "text/plain": [
       "<Figure size 3000x1000 with 1 Axes>"
      ]
     },
     "metadata": {},
     "output_type": "display_data"
    }
   ],
   "source": [
    "plt.figure(figsize = (30,10))\n",
    "df.boxplot()"
   ]
  },
  {
   "cell_type": "markdown",
   "id": "f1460667",
   "metadata": {},
   "source": [
    "## Feture Engineering"
   ]
  },
  {
   "cell_type": "markdown",
   "id": "4ce165dc",
   "metadata": {},
   "source": [
    "### Glucose"
   ]
  },
  {
   "cell_type": "code",
   "execution_count": 23,
   "id": "e67e7870",
   "metadata": {},
   "outputs": [
    {
     "data": {
      "text/plain": [
       "<AxesSubplot:xlabel='Glucose'>"
      ]
     },
     "execution_count": 23,
     "metadata": {},
     "output_type": "execute_result"
    },
    {
     "data": {
      "image/png": "[encoded data removed]",
      "text/plain": [
       "<Figure size 640x480 with 1 Axes>"
      ]
     },
     "metadata": {},
     "output_type": "display_data"
    }
   ],
   "source": [
    "sns.boxplot(x = df[\"Glucose\"])"
   ]
  },
  {
   "cell_type": "code",
   "execution_count": 24,
   "id": "abfe0bd9",
   "metadata": {},
   "outputs": [
    {
     "name": "stdout",
     "output_type": "stream",
     "text": [
      "q1 99.0\n",
      "q2 117.0\n",
      "q3 142.0\n",
      "upper_tail 206.5\n",
      "lower_tail 34.5\n"
     ]
    }
   ],
   "source": [
    "q1 = df[\"Glucose\"].quantile(0.25)\n",
    "q2 = df[\"Glucose\"].quantile(0.50)\n",
    "q3 = df[\"Glucose\"].quantile(0.75)\n",
    "\n",
    "iqr = q3 - q1\n",
    "\n",
    "upper_tail = q3 + 1.5 * iqr\n",
    "lower_tail = q1 - 1.5 * iqr\n",
    "\n",
    "\n",
    "print(\"q1\",q1)\n",
    "print(\"q2\",q2)\n",
    "print(\"q3\",q3)\n",
    "\n",
    "print(\"upper_tail\", upper_tail)\n",
    "print(\"lower_tail\", lower_tail)"
   ]
  },
  {
   "cell_type": "code",
   "execution_count": 25,
   "id": "ea9a3b07",
   "metadata": {},
   "outputs": [],
   "source": [
    "df.loc[df['Glucose'] < lower_tail, 'Glucose'] = lower_tail"
   ]
  },
  {
   "cell_type": "code",
   "execution_count": 26,
   "id": "d78ecbb5",
   "metadata": {},
   "outputs": [
    {
     "data": {
      "text/plain": [
       "Series([], Name: Glucose, dtype: float64)"
      ]
     },
     "execution_count": 26,
     "metadata": {},
     "output_type": "execute_result"
    }
   ],
   "source": [
    "df[\"Glucose\"].loc[(df[\"Glucose\"] > upper_tail) & (df[\"Glucose\"] < lower_tail)]"
   ]
  },
  {
   "cell_type": "code",
   "execution_count": 27,
   "id": "003e7ef4",
   "metadata": {},
   "outputs": [
    {
     "data": {
      "text/plain": [
       "<AxesSubplot:xlabel='Glucose'>"
      ]
     },
     "execution_count": 27,
     "metadata": {},
     "output_type": "execute_result"
    },
    {
     "data": {
      "image/png": "[encoded data removed]",
      "text/plain": [
       "<Figure size 640x480 with 1 Axes>"
      ]
     },
     "metadata": {},
     "output_type": "display_data"
    }
   ],
   "source": [
    "sns.boxplot(x = df[\"Glucose\"])"
   ]
  },
  {
   "cell_type": "markdown",
   "id": "f866536c",
   "metadata": {},
   "source": [
    "## BloodPressure"
   ]
  },
  {
   "cell_type": "code",
   "execution_count": 28,
   "id": "de90515b",
   "metadata": {},
   "outputs": [
    {
     "data": {
      "text/plain": [
       "<AxesSubplot:xlabel='BloodPressure'>"
      ]
     },
     "execution_count": 28,
     "metadata": {},
     "output_type": "execute_result"
    },
    {
     "data": {
      "image/png": "[encoded data removed]",
      "text/plain": [
       "<Figure size 640x480 with 1 Axes>"
      ]
     },
     "metadata": {},
     "output_type": "display_data"
    }
   ],
   "source": [
    "sns.boxplot(x = df[\"BloodPressure\"])"
   ]
  },
  {
   "cell_type": "code",
   "execution_count": 29,
   "id": "a983477a",
   "metadata": {},
   "outputs": [
    {
     "name": "stdout",
     "output_type": "stream",
     "text": [
      "q1 62.0\n",
      "q2 72.0\n",
      "q3 80.0\n",
      "upper_tail 107.0\n",
      "lower_tail 35.0\n"
     ]
    }
   ],
   "source": [
    "q1 = df[\"BloodPressure\"].quantile(0.25)\n",
    "q2 = df[\"BloodPressure\"].quantile(0.50)\n",
    "q3 = df[\"BloodPressure\"].quantile(0.75)\n",
    "\n",
    "iqr = q3 - q1\n",
    "\n",
    "upper_tail = q3 + 1.5 * iqr\n",
    "lower_tail = q1 - 1.5 * iqr\n",
    "\n",
    "\n",
    "print(\"q1\",q1)\n",
    "print(\"q2\",q2)\n",
    "print(\"q3\",q3)\n",
    "\n",
    "print(\"upper_tail\", upper_tail)\n",
    "print(\"lower_tail\", lower_tail)"
   ]
  },
  {
   "cell_type": "code",
   "execution_count": 30,
   "id": "85d82f01",
   "metadata": {},
   "outputs": [
    {
     "data": {
      "text/plain": [
       "7        0\n",
       "15       0\n",
       "18      30\n",
       "43     110\n",
       "49       0\n",
       "60       0\n",
       "78       0\n",
       "81       0\n",
       "84     108\n",
       "106    122\n",
       "125     30\n",
       "172      0\n",
       "177    110\n",
       "193      0\n",
       "222      0\n",
       "261      0\n",
       "266      0\n",
       "269      0\n",
       "300      0\n",
       "332      0\n",
       "336      0\n",
       "347      0\n",
       "357      0\n",
       "362    108\n",
       "426      0\n",
       "430      0\n",
       "435      0\n",
       "453      0\n",
       "468      0\n",
       "484      0\n",
       "494      0\n",
       "522      0\n",
       "533      0\n",
       "535      0\n",
       "549    110\n",
       "589      0\n",
       "597     24\n",
       "601      0\n",
       "604      0\n",
       "619      0\n",
       "643      0\n",
       "691    114\n",
       "697      0\n",
       "703      0\n",
       "706      0\n",
       "Name: BloodPressure, dtype: int64"
      ]
     },
     "execution_count": 30,
     "metadata": {},
     "output_type": "execute_result"
    }
   ],
   "source": [
    "df[\"BloodPressure\"].loc[(df[\"BloodPressure\"] > upper_tail) | (df[\"BloodPressure\"] < lower_tail)] "
   ]
  },
  {
   "cell_type": "code",
   "execution_count": 31,
   "id": "5083c3a0",
   "metadata": {},
   "outputs": [],
   "source": [
    "df.loc[df['BloodPressure'] < lower_tail, 'BloodPressure'] = lower_tail"
   ]
  },
  {
   "cell_type": "code",
   "execution_count": 32,
   "id": "f77627de",
   "metadata": {},
   "outputs": [],
   "source": [
    "df.loc[df['BloodPressure'] > upper_tail, 'BloodPressure'] = upper_tail"
   ]
  },
  {
   "cell_type": "code",
   "execution_count": 33,
   "id": "73f03d27",
   "metadata": {},
   "outputs": [
    {
     "data": {
      "text/plain": [
       "Series([], Name: BloodPressure, dtype: int64)"
      ]
     },
     "execution_count": 33,
     "metadata": {},
     "output_type": "execute_result"
    }
   ],
   "source": [
    "df[\"BloodPressure\"].loc[(df[\"BloodPressure\"] > upper_tail) | (df[\"BloodPressure\"] < lower_tail)] "
   ]
  },
  {
   "cell_type": "code",
   "execution_count": 34,
   "id": "8725a083",
   "metadata": {},
   "outputs": [
    {
     "data": {
      "text/plain": [
       "<AxesSubplot:xlabel='BloodPressure'>"
      ]
     },
     "execution_count": 34,
     "metadata": {},
     "output_type": "execute_result"
    },
    {
     "data": {
      "image/png": "[encoded data removed]",
      "text/plain": [
       "<Figure size 640x480 with 1 Axes>"
      ]
     },
     "metadata": {},
     "output_type": "display_data"
    }
   ],
   "source": [
    "sns.boxplot(x = df[\"BloodPressure\"])"
   ]
  },
  {
   "cell_type": "markdown",
   "id": "8c898f24",
   "metadata": {},
   "source": [
    "### SkinThickness"
   ]
  },
  {
   "cell_type": "code",
   "execution_count": 35,
   "id": "99cdb095",
   "metadata": {},
   "outputs": [
    {
     "name": "stdout",
     "output_type": "stream",
     "text": [
      "q1 0.0\n",
      "q2 23.0\n",
      "q3 32.0\n",
      "upper_tail 80.0\n",
      "lower_tail -48.0\n"
     ]
    }
   ],
   "source": [
    "q1 = df[\"SkinThickness\"].quantile(0.25)\n",
    "q2 = df[\"SkinThickness\"].quantile(0.50)\n",
    "q3 = df[\"SkinThickness\"].quantile(0.75)\n",
    "\n",
    "iqr = q3 - q1\n",
    "\n",
    "upper_tail = q3 + 1.5 * iqr\n",
    "lower_tail = q1 - 1.5 * iqr\n",
    "\n",
    "\n",
    "print(\"q1\",q1)\n",
    "print(\"q2\",q2)\n",
    "print(\"q3\",q3)\n",
    "\n",
    "print(\"upper_tail\", upper_tail)\n",
    "print(\"lower_tail\", lower_tail)"
   ]
  },
  {
   "cell_type": "code",
   "execution_count": 36,
   "id": "efa1fd2d",
   "metadata": {},
   "outputs": [
    {
     "data": {
      "text/plain": [
       "<AxesSubplot:xlabel='SkinThickness'>"
      ]
     },
     "execution_count": 36,
     "metadata": {},
     "output_type": "execute_result"
    },
    {
     "data": {
      "image/png": "[encoded data removed]",
      "text/plain": [
       "<Figure size 640x480 with 1 Axes>"
      ]
     },
     "metadata": {},
     "output_type": "display_data"
    }
   ],
   "source": [
    "sns.boxplot(x = df[\"SkinThickness\"])"
   ]
  },
  {
   "cell_type": "code",
   "execution_count": 37,
   "id": "5b337fd4",
   "metadata": {},
   "outputs": [
    {
     "data": {
      "text/plain": [
       "579    99\n",
       "Name: SkinThickness, dtype: int64"
      ]
     },
     "execution_count": 37,
     "metadata": {},
     "output_type": "execute_result"
    }
   ],
   "source": [
    "df['SkinThickness'].loc[(df['SkinThickness'] > upper_tail) | (df['SkinThickness'] < lower_tail)] "
   ]
  },
  {
   "cell_type": "code",
   "execution_count": 38,
   "id": "11459a38",
   "metadata": {},
   "outputs": [],
   "source": [
    "df.loc[df['SkinThickness'] > upper_tail, 'SkinThickness'] = upper_tail"
   ]
  },
  {
   "cell_type": "code",
   "execution_count": 39,
   "id": "a62b2703",
   "metadata": {},
   "outputs": [
    {
     "data": {
      "text/plain": [
       "<AxesSubplot:xlabel='SkinThickness'>"
      ]
     },
     "execution_count": 39,
     "metadata": {},
     "output_type": "execute_result"
    },
    {
     "data": {
      "image/png": "[encoded data removed]",
      "text/plain": [
       "<Figure size 640x480 with 1 Axes>"
      ]
     },
     "metadata": {},
     "output_type": "display_data"
    }
   ],
   "source": [
    "sns.boxplot(x=df[\"SkinThickness\"])"
   ]
  },
  {
   "cell_type": "markdown",
   "id": "25545bb7",
   "metadata": {},
   "source": [
    "### Insulin"
   ]
  },
  {
   "cell_type": "code",
   "execution_count": 40,
   "id": "21c1204b",
   "metadata": {},
   "outputs": [
    {
     "name": "stdout",
     "output_type": "stream",
     "text": [
      "q1 0.0\n",
      "q2 30.5\n",
      "q3 127.25\n",
      "upper_tail 318.125\n",
      "lower_tail -190.875\n"
     ]
    }
   ],
   "source": [
    "q1 = df[\"Insulin\"].quantile(0.25)\n",
    "q2 = df[\"Insulin\"].quantile(0.50)\n",
    "q3 = df[\"Insulin\"].quantile(0.75)\n",
    "\n",
    "iqr = q3 - q1\n",
    "\n",
    "upper_tail = q3 + 1.5 * iqr\n",
    "lower_tail = q1 - 1.5 * iqr\n",
    "\n",
    "\n",
    "print(\"q1\",q1)\n",
    "print(\"q2\",q2)\n",
    "print(\"q3\",q3)\n",
    "\n",
    "print(\"upper_tail\", upper_tail)\n",
    "print(\"lower_tail\", lower_tail)"
   ]
  },
  {
   "cell_type": "code",
   "execution_count": 41,
   "id": "c042a45c",
   "metadata": {},
   "outputs": [
    {
     "data": {
      "text/plain": [
       "<AxesSubplot:xlabel='Insulin'>"
      ]
     },
     "execution_count": 41,
     "metadata": {},
     "output_type": "execute_result"
    },
    {
     "data": {
      "image/png": "[encoded data removed]",
      "text/plain": [
       "<Figure size 640x480 with 1 Axes>"
      ]
     },
     "metadata": {},
     "output_type": "display_data"
    }
   ],
   "source": [
    "sns.boxplot(x=df[\"Insulin\"])"
   ]
  },
  {
   "cell_type": "code",
   "execution_count": 42,
   "id": "6ec54350",
   "metadata": {},
   "outputs": [
    {
     "data": {
      "text/plain": [
       "8      543\n",
       "13     846\n",
       "54     342\n",
       "111    495\n",
       "139    325\n",
       "153    485\n",
       "186    495\n",
       "220    478\n",
       "228    744\n",
       "231    370\n",
       "247    680\n",
       "248    402\n",
       "258    375\n",
       "286    545\n",
       "296    360\n",
       "360    325\n",
       "370    465\n",
       "375    325\n",
       "392    415\n",
       "409    579\n",
       "415    474\n",
       "480    328\n",
       "486    480\n",
       "519    326\n",
       "574    330\n",
       "584    600\n",
       "612    321\n",
       "645    440\n",
       "655    540\n",
       "695    480\n",
       "707    335\n",
       "710    387\n",
       "715    392\n",
       "753    510\n",
       "Name: Insulin, dtype: int64"
      ]
     },
     "execution_count": 42,
     "metadata": {},
     "output_type": "execute_result"
    }
   ],
   "source": [
    "df['Insulin'].loc[(df['Insulin'] > upper_tail) | (df['Insulin'] < lower_tail)] "
   ]
  },
  {
   "cell_type": "code",
   "execution_count": 43,
   "id": "1c8f0a80",
   "metadata": {},
   "outputs": [],
   "source": [
    "df.loc[df['Insulin'] > upper_tail, 'Insulin'] = upper_tail"
   ]
  },
  {
   "cell_type": "code",
   "execution_count": 44,
   "id": "5eb17e17",
   "metadata": {},
   "outputs": [
    {
     "data": {
      "text/plain": [
       "Series([], Name: Insulin, dtype: float64)"
      ]
     },
     "execution_count": 44,
     "metadata": {},
     "output_type": "execute_result"
    }
   ],
   "source": [
    "df['Insulin'].loc[(df['Insulin'] > upper_tail) | (df['Insulin'] < lower_tail)] "
   ]
  },
  {
   "cell_type": "code",
   "execution_count": 45,
   "id": "f723ad79",
   "metadata": {},
   "outputs": [
    {
     "data": {
      "text/plain": [
       "<AxesSubplot:xlabel='Insulin'>"
      ]
     },
     "execution_count": 45,
     "metadata": {},
     "output_type": "execute_result"
    },
    {
     "data": {
      "image/png": "[encoded data removed]",
      "text/plain": [
       "<Figure size 640x480 with 1 Axes>"
      ]
     },
     "metadata": {},
     "output_type": "display_data"
    }
   ],
   "source": [
    "sns.boxplot(x=df[\"Insulin\"])"
   ]
  },
  {
   "cell_type": "markdown",
   "id": "9578d4ec",
   "metadata": {},
   "source": [
    "## BMI"
   ]
  },
  {
   "cell_type": "code",
   "execution_count": 46,
   "id": "f4fd2c0d",
   "metadata": {},
   "outputs": [
    {
     "name": "stdout",
     "output_type": "stream",
     "text": [
      "q1 27.3\n",
      "q2 32.0\n",
      "q3 36.6\n",
      "upper_tail 50.550000000000004\n",
      "lower_tail 13.35\n"
     ]
    }
   ],
   "source": [
    "q1 = df[\"BMI\"].quantile(0.25)\n",
    "q2 = df[\"BMI\"].quantile(0.50)\n",
    "q3 = df[\"BMI\"].quantile(0.75)\n",
    "\n",
    "iqr = q3 - q1\n",
    "\n",
    "upper_tail = q3 + 1.5 * iqr\n",
    "lower_tail = q1 - 1.5 * iqr\n",
    "\n",
    "\n",
    "print(\"q1\",q1)\n",
    "print(\"q2\",q2)\n",
    "print(\"q3\",q3)\n",
    "\n",
    "print(\"upper_tail\", upper_tail)\n",
    "print(\"lower_tail\", lower_tail)"
   ]
  },
  {
   "cell_type": "code",
   "execution_count": 47,
   "id": "c79febd9",
   "metadata": {},
   "outputs": [
    {
     "data": {
      "text/plain": [
       "<AxesSubplot:xlabel='BMI'>"
      ]
     },
     "execution_count": 47,
     "metadata": {},
     "output_type": "execute_result"
    },
    {
     "data": {
      "image/png": "[encoded data removed]",
      "text/plain": [
       "<Figure size 640x480 with 1 Axes>"
      ]
     },
     "metadata": {},
     "output_type": "display_data"
    }
   ],
   "source": [
    "sns.boxplot(x=df[\"BMI\"])"
   ]
  },
  {
   "cell_type": "code",
   "execution_count": 48,
   "id": "4f534693",
   "metadata": {},
   "outputs": [
    {
     "data": {
      "text/plain": [
       "9       0.0\n",
       "49      0.0\n",
       "60      0.0\n",
       "81      0.0\n",
       "120    53.2\n",
       "125    55.0\n",
       "145     0.0\n",
       "177    67.1\n",
       "193    52.3\n",
       "247    52.3\n",
       "303    52.9\n",
       "371     0.0\n",
       "426     0.0\n",
       "445    59.4\n",
       "494     0.0\n",
       "522     0.0\n",
       "673    57.3\n",
       "684     0.0\n",
       "706     0.0\n",
       "Name: BMI, dtype: float64"
      ]
     },
     "execution_count": 48,
     "metadata": {},
     "output_type": "execute_result"
    }
   ],
   "source": [
    "df['BMI'].loc[(df['BMI'] > upper_tail) | (df['BMI'] < lower_tail)] "
   ]
  },
  {
   "cell_type": "code",
   "execution_count": 49,
   "id": "adf2366a",
   "metadata": {},
   "outputs": [],
   "source": [
    "df.loc[df['BMI'] > upper_tail, 'BMI'] = upper_tail"
   ]
  },
  {
   "cell_type": "code",
   "execution_count": 50,
   "id": "91df2e0e",
   "metadata": {},
   "outputs": [],
   "source": [
    "df.loc[df['BMI'] < lower_tail, 'BMI'] = lower_tail"
   ]
  },
  {
   "cell_type": "code",
   "execution_count": 51,
   "id": "6a03a99c",
   "metadata": {},
   "outputs": [
    {
     "data": {
      "text/plain": [
       "Series([], Name: BMI, dtype: float64)"
      ]
     },
     "execution_count": 51,
     "metadata": {},
     "output_type": "execute_result"
    }
   ],
   "source": [
    "df['BMI'].loc[(df['BMI'] > upper_tail) | (df['BMI'] < lower_tail)] "
   ]
  },
  {
   "cell_type": "code",
   "execution_count": 52,
   "id": "4662af84",
   "metadata": {},
   "outputs": [
    {
     "data": {
      "text/plain": [
       "<AxesSubplot:xlabel='BMI'>"
      ]
     },
     "execution_count": 52,
     "metadata": {},
     "output_type": "execute_result"
    },
    {
     "data": {
      "image/png": "[encoded data removed]",
      "text/plain": [
       "<Figure size 640x480 with 1 Axes>"
      ]
     },
     "metadata": {},
     "output_type": "display_data"
    }
   ],
   "source": [
    "sns.boxplot(x=df[\"BMI\"])"
   ]
  },
  {
   "cell_type": "markdown",
   "id": "085edbd0",
   "metadata": {},
   "source": [
    "### DiabetesPedigreeFunction"
   ]
  },
  {
   "cell_type": "code",
   "execution_count": 53,
   "id": "27cda052",
   "metadata": {},
   "outputs": [
    {
     "name": "stdout",
     "output_type": "stream",
     "text": [
      "q1 0.24375\n",
      "q2 0.3725\n",
      "q3 0.62625\n",
      "upper_tail 1.2\n",
      "lower_tail -0.32999999999999996\n"
     ]
    }
   ],
   "source": [
    "q1 = df[\"DiabetesPedigreeFunction\"].quantile(0.25)\n",
    "q2 = df[\"DiabetesPedigreeFunction\"].quantile(0.50)\n",
    "q3 = df[\"DiabetesPedigreeFunction\"].quantile(0.75)\n",
    "\n",
    "iqr = q3 - q1\n",
    "\n",
    "upper_tail = q3 + 1.5 * iqr\n",
    "lower_tail = q1 - 1.5 * iqr\n",
    "\n",
    "\n",
    "print(\"q1\",q1)\n",
    "print(\"q2\",q2)\n",
    "print(\"q3\",q3)\n",
    "\n",
    "print(\"upper_tail\", upper_tail)\n",
    "print(\"lower_tail\", lower_tail)"
   ]
  },
  {
   "cell_type": "code",
   "execution_count": 54,
   "id": "1a0fc952",
   "metadata": {},
   "outputs": [
    {
     "name": "stdout",
     "output_type": "stream",
     "text": [
      "<class 'pandas.core.frame.DataFrame'>\n",
      "RangeIndex: 768 entries, 0 to 767\n",
      "Data columns (total 8 columns):\n",
      " #   Column                    Non-Null Count  Dtype  \n",
      "---  ------                    --------------  -----  \n",
      " 0   Glucose                   768 non-null    float64\n",
      " 1   BloodPressure             768 non-null    int64  \n",
      " 2   SkinThickness             768 non-null    int64  \n",
      " 3   Insulin                   768 non-null    float64\n",
      " 4   BMI                       768 non-null    float64\n",
      " 5   DiabetesPedigreeFunction  768 non-null    float64\n",
      " 6   Age                       768 non-null    int64  \n",
      " 7   Outcome                   768 non-null    int64  \n",
      "dtypes: float64(4), int64(4)\n",
      "memory usage: 48.1 KB\n"
     ]
    }
   ],
   "source": [
    "df.info()"
   ]
  },
  {
   "cell_type": "code",
   "execution_count": 55,
   "id": "f4d2f209",
   "metadata": {},
   "outputs": [
    {
     "data": {
      "text/plain": [
       "<AxesSubplot:xlabel='DiabetesPedigreeFunction'>"
      ]
     },
     "execution_count": 55,
     "metadata": {},
     "output_type": "execute_result"
    },
    {
     "data": {
      "image/png": "[encoded data removed]",
      "text/plain": [
       "<Figure size 640x480 with 1 Axes>"
      ]
     },
     "metadata": {},
     "output_type": "display_data"
    }
   ],
   "source": [
    "sns.boxplot(x=df[\"DiabetesPedigreeFunction\"])"
   ]
  },
  {
   "cell_type": "code",
   "execution_count": 56,
   "id": "3878af72",
   "metadata": {},
   "outputs": [
    {
     "data": {
      "text/plain": [
       "4      2.288\n",
       "12     1.441\n",
       "39     1.390\n",
       "45     1.893\n",
       "58     1.781\n",
       "100    1.222\n",
       "147    1.400\n",
       "187    1.321\n",
       "218    1.224\n",
       "228    2.329\n",
       "243    1.318\n",
       "245    1.213\n",
       "259    1.353\n",
       "292    1.224\n",
       "308    1.391\n",
       "330    1.476\n",
       "370    2.137\n",
       "371    1.731\n",
       "383    1.268\n",
       "395    1.600\n",
       "445    2.420\n",
       "534    1.251\n",
       "593    1.699\n",
       "606    1.258\n",
       "618    1.282\n",
       "621    1.698\n",
       "622    1.461\n",
       "659    1.292\n",
       "661    1.394\n",
       "Name: DiabetesPedigreeFunction, dtype: float64"
      ]
     },
     "execution_count": 56,
     "metadata": {},
     "output_type": "execute_result"
    }
   ],
   "source": [
    "df['DiabetesPedigreeFunction'].loc[(df['DiabetesPedigreeFunction'] > upper_tail) | (df['DiabetesPedigreeFunction'] < lower_tail)] "
   ]
  },
  {
   "cell_type": "code",
   "execution_count": 57,
   "id": "5143ac50",
   "metadata": {},
   "outputs": [],
   "source": [
    "df.loc[df['DiabetesPedigreeFunction'] > upper_tail, 'DiabetesPedigreeFunction'] = upper_tail"
   ]
  },
  {
   "cell_type": "code",
   "execution_count": 58,
   "id": "7a7bd78b",
   "metadata": {},
   "outputs": [
    {
     "data": {
      "text/plain": [
       "Series([], Name: DiabetesPedigreeFunction, dtype: float64)"
      ]
     },
     "execution_count": 58,
     "metadata": {},
     "output_type": "execute_result"
    }
   ],
   "source": [
    "df['DiabetesPedigreeFunction'].loc[(df['DiabetesPedigreeFunction'] > upper_tail) | (df['DiabetesPedigreeFunction'] < lower_tail)] "
   ]
  },
  {
   "cell_type": "code",
   "execution_count": 59,
   "id": "c5f8723a",
   "metadata": {},
   "outputs": [
    {
     "data": {
      "text/plain": [
       "<AxesSubplot:xlabel='DiabetesPedigreeFunction'>"
      ]
     },
     "execution_count": 59,
     "metadata": {},
     "output_type": "execute_result"
    },
    {
     "data": {
      "image/png": "[encoded data removed]",
      "text/plain": [
       "<Figure size 640x480 with 1 Axes>"
      ]
     },
     "metadata": {},
     "output_type": "display_data"
    }
   ],
   "source": [
    "sns.boxplot(x=df[\"DiabetesPedigreeFunction\"])"
   ]
  },
  {
   "cell_type": "markdown",
   "id": "099bdc9d",
   "metadata": {},
   "source": [
    "### Age"
   ]
  },
  {
   "cell_type": "code",
   "execution_count": 60,
   "id": "f0f221b5",
   "metadata": {},
   "outputs": [
    {
     "name": "stdout",
     "output_type": "stream",
     "text": [
      "q1 24.0\n",
      "q2 29.0\n",
      "q3 41.0\n",
      "upper_tail 66.5\n",
      "lower_tail -1.5\n"
     ]
    }
   ],
   "source": [
    "q1 = df[\"Age\"].quantile(0.25)\n",
    "q2 = df[\"Age\"].quantile(0.50)\n",
    "q3 = df[\"Age\"].quantile(0.75)\n",
    "\n",
    "iqr = q3 - q1\n",
    "\n",
    "upper_tail = q3 + 1.5 * iqr\n",
    "lower_tail = q1 - 1.5 * iqr\n",
    "\n",
    "\n",
    "print(\"q1\",q1)\n",
    "print(\"q2\",q2)\n",
    "print(\"q3\",q3)\n",
    "\n",
    "print(\"upper_tail\", upper_tail)\n",
    "print(\"lower_tail\", lower_tail)"
   ]
  },
  {
   "cell_type": "code",
   "execution_count": 61,
   "id": "63003b46",
   "metadata": {},
   "outputs": [
    {
     "data": {
      "text/plain": [
       "<AxesSubplot:xlabel='Age'>"
      ]
     },
     "execution_count": 61,
     "metadata": {},
     "output_type": "execute_result"
    },
    {
     "data": {
      "image/png": "[encoded data removed]",
      "text/plain": [
       "<Figure size 640x480 with 1 Axes>"
      ]
     },
     "metadata": {},
     "output_type": "display_data"
    }
   ],
   "source": [
    "sns.boxplot(x=df[\"Age\"])"
   ]
  },
  {
   "cell_type": "code",
   "execution_count": 62,
   "id": "50343c8d",
   "metadata": {},
   "outputs": [
    {
     "data": {
      "text/plain": [
       "123    69\n",
       "363    67\n",
       "453    72\n",
       "459    81\n",
       "489    67\n",
       "537    67\n",
       "666    70\n",
       "674    68\n",
       "684    69\n",
       "Name: Age, dtype: int64"
      ]
     },
     "execution_count": 62,
     "metadata": {},
     "output_type": "execute_result"
    }
   ],
   "source": [
    "df['Age'].loc[(df['Age'] > upper_tail) | (df['Age'] < lower_tail)] "
   ]
  },
  {
   "cell_type": "code",
   "execution_count": 63,
   "id": "d3e13476",
   "metadata": {},
   "outputs": [],
   "source": [
    "df.loc[df['Age'] > upper_tail, 'Age'] = upper_tail"
   ]
  },
  {
   "cell_type": "code",
   "execution_count": 64,
   "id": "0f55f3c7",
   "metadata": {},
   "outputs": [
    {
     "data": {
      "text/plain": [
       "Series([], Name: Age, dtype: float64)"
      ]
     },
     "execution_count": 64,
     "metadata": {},
     "output_type": "execute_result"
    }
   ],
   "source": [
    "df['Age'].loc[(df['Age'] > upper_tail) | (df['Age'] < lower_tail)] "
   ]
  },
  {
   "cell_type": "code",
   "execution_count": 65,
   "id": "a1d1c0fe",
   "metadata": {},
   "outputs": [
    {
     "data": {
      "text/plain": [
       "<AxesSubplot:xlabel='Age'>"
      ]
     },
     "execution_count": 65,
     "metadata": {},
     "output_type": "execute_result"
    },
    {
     "data": {
      "image/png": "[encoded data removed]",
      "text/plain": [
       "<Figure size 640x480 with 1 Axes>"
      ]
     },
     "metadata": {},
     "output_type": "display_data"
    }
   ],
   "source": [
    "sns.boxplot(x=df[\"Age\"])"
   ]
  },
  {
   "cell_type": "markdown",
   "id": "02732a2a",
   "metadata": {},
   "source": [
    "## Feature Selection"
   ]
  },
  {
   "cell_type": "code",
   "execution_count": 66,
   "id": "5b482db8",
   "metadata": {},
   "outputs": [],
   "source": [
    "x = df.iloc[:,:-1]\n",
    "y = df.iloc[:,-1:]"
   ]
  },
  {
   "cell_type": "code",
   "execution_count": 67,
   "id": "75eacfe0",
   "metadata": {},
   "outputs": [],
   "source": [
    "x_train, x_test, y_train,y_test = train_test_split(x,y,train_size = 0.8, random_state=14)"
   ]
  },
  {
   "cell_type": "markdown",
   "id": "e2c2cd6a",
   "metadata": {},
   "source": [
    "## Model Building"
   ]
  },
  {
   "cell_type": "code",
   "execution_count": 68,
   "id": "82345e9f",
   "metadata": {},
   "outputs": [
    {
     "data": {
      "text/plain": [
       "LogisticRegression()"
      ]
     },
     "execution_count": 68,
     "metadata": {},
     "output_type": "execute_result"
    }
   ],
   "source": [
    "logistic_model = LogisticRegression()\n",
    "logistic_model"
   ]
  },
  {
   "cell_type": "code",
   "execution_count": 69,
   "id": "31529552",
   "metadata": {},
   "outputs": [
    {
     "data": {
      "text/plain": [
       "LogisticRegression()"
      ]
     },
     "execution_count": 69,
     "metadata": {},
     "output_type": "execute_result"
    }
   ],
   "source": [
    "logistic_model.fit(x_train,y_train)"
   ]
  },
  {
   "cell_type": "code",
   "execution_count": 70,
   "id": "2e5d49f2",
   "metadata": {},
   "outputs": [
    {
     "name": "stdout",
     "output_type": "stream",
     "text": [
      "Accuracy:\n",
      " 0.7752442996742671\n",
      "**************************************************\n",
      "Classification report:\n",
      "               precision    recall  f1-score   support\n",
      "\n",
      "           0       0.87      0.80      0.83       435\n",
      "           1       0.60      0.72      0.65       179\n",
      "\n",
      "    accuracy                           0.78       614\n",
      "   macro avg       0.73      0.76      0.74       614\n",
      "weighted avg       0.79      0.78      0.78       614\n",
      "\n",
      "**************************************************\n"
     ]
    },
    {
     "data": {
      "text/plain": [
       "<sklearn.metrics._plot.confusion_matrix.ConfusionMatrixDisplay at 0x264c82e4430>"
      ]
     },
     "execution_count": 70,
     "metadata": {},
     "output_type": "execute_result"
    },
    {
     "data": {
      "image/png": "[encoded data removed]",
      "text/plain": [
       "<Figure size 640x480 with 2 Axes>"
      ]
     },
     "metadata": {},
     "output_type": "display_data"
    }
   ],
   "source": [
    "# Training accuracy\n",
    "y_pred_train = logistic_model.predict(x_train)\n",
    "\n",
    "accuracy =  accuracy_score(y_pred_train,y_train)\n",
    "\n",
    "clf_report = classification_report(y_pred_train,y_train)\n",
    "\n",
    "\n",
    "print(\"Accuracy:\\n\",accuracy)\n",
    "print(\"*\"*50)\n",
    "\n",
    "print(\"Classification report:\\n\",clf_report)\n",
    "print(\"*\"*50)\n",
    "\n",
    "plot_confusion_matrix(logistic_model, x_train , y_train)\n"
   ]
  },
  {
   "cell_type": "code",
   "execution_count": 71,
   "id": "1f8c7ee1",
   "metadata": {},
   "outputs": [
    {
     "name": "stdout",
     "output_type": "stream",
     "text": [
      "Accuracy:\n",
      " 0.7597402597402597\n",
      "**************************************************\n",
      "Classification report:\n",
      "               precision    recall  f1-score   support\n",
      "\n",
      "           0       0.90      0.77      0.83       118\n",
      "           1       0.49      0.72      0.58        36\n",
      "\n",
      "    accuracy                           0.76       154\n",
      "   macro avg       0.70      0.75      0.71       154\n",
      "weighted avg       0.81      0.76      0.77       154\n",
      "\n",
      "**************************************************\n"
     ]
    },
    {
     "data": {
      "image/png": "[encoded data removed]",
      "text/plain": [
       "<Figure size 640x480 with 2 Axes>"
      ]
     },
     "metadata": {},
     "output_type": "display_data"
    }
   ],
   "source": [
    "# Testing accuracy\n",
    "y_pred_test = logistic_model.predict(x_test)\n",
    "\n",
    "plot_confusion_matrix(logistic_model, x_test,y_test)\n",
    "\n",
    "accuracy =  accuracy_score(y_pred_test,y_test)\n",
    "\n",
    "clf_report = classification_report(y_pred_test,y_test)\n",
    "\n",
    "\n",
    "print(\"Accuracy:\\n\",accuracy)\n",
    "print(\"*\"*50)\n",
    "\n",
    "print(\"Classification report:\\n\",clf_report)\n",
    "print(\"*\"*50)\n"
   ]
  },
  {
   "cell_type": "code",
   "execution_count": 72,
   "id": "fdc19b9d",
   "metadata": {},
   "outputs": [
    {
     "data": {
      "text/plain": [
       "array([0.72411908, 0.06408585, 0.78869019, 0.07197341, 0.74683669,\n",
       "       0.23247659, 0.06038765, 0.79656789, 0.11145616, 0.49184762,\n",
       "       0.70090526, 0.70188951, 0.09524704, 0.0336736 , 0.24243282,\n",
       "       0.03434802, 0.29719813, 0.60840831, 0.03110925, 0.04360361,\n",
       "       0.07375396, 0.11658891, 0.15833572, 0.0325899 , 0.50513731,\n",
       "       0.57575923, 0.10705125, 0.39965119, 0.60033156, 0.16893359,\n",
       "       0.09034419, 0.1399224 , 0.04087455, 0.35056172, 0.3197591 ,\n",
       "       0.86112216, 0.54363731, 0.03813744, 0.08284874, 0.33000774,\n",
       "       0.4326143 , 0.04892078, 0.37848515, 0.38939448, 0.2378002 ,\n",
       "       0.55693689, 0.14173852, 0.63018402, 0.09237893, 0.18373784,\n",
       "       0.32461902, 0.20568826, 0.054864  , 0.52238291, 0.05768242,\n",
       "       0.3046517 , 0.22388577, 0.32835765, 0.89233482, 0.18131356,\n",
       "       0.03637865, 0.60178835, 0.45895257, 0.35151733, 0.25750588,\n",
       "       0.5939201 , 0.26468027, 0.01181502, 0.0432069 , 0.44174923,\n",
       "       0.16708266, 0.10276034, 0.11853232, 0.39620972, 0.08831466,\n",
       "       0.0895972 , 0.31053195, 0.37441172, 0.91486177, 0.12740452,\n",
       "       0.29869729, 0.15577088, 0.02669925, 0.42087668, 0.26814957,\n",
       "       0.08442999, 0.42960794, 0.75565002, 0.56430695, 0.2084702 ,\n",
       "       0.83400242, 0.01796956, 0.09162152, 0.13895021, 0.35380866,\n",
       "       0.06868776, 0.07443028, 0.29499496, 0.37444162, 0.1328437 ,\n",
       "       0.24193342, 0.00682805, 0.14180045, 0.09122005, 0.03208764,\n",
       "       0.9457239 , 0.17189644, 0.24710961, 0.71662549, 0.19053982,\n",
       "       0.08533953, 0.46852666, 0.17474362, 0.28089124, 0.40241005,\n",
       "       0.03729052, 0.68084455, 0.29488479, 0.19933542, 0.31453674,\n",
       "       0.21418805, 0.0796279 , 0.49861647, 0.10283237, 0.16476621,\n",
       "       0.2536842 , 0.22980451, 0.87042279, 0.04798994, 0.53489162,\n",
       "       0.73574506, 0.04064629, 0.04178656, 0.07032856, 0.01226027,\n",
       "       0.91373446, 0.33550225, 0.54662832, 0.16831189, 0.22866776,\n",
       "       0.12524827, 0.11659382, 0.3468187 , 0.53108658, 0.1546685 ,\n",
       "       0.09562289, 0.2080971 , 0.24835842, 0.55163073, 0.08045924,\n",
       "       0.08213643, 0.25289637, 0.96960788, 0.34962627, 0.05943027,\n",
       "       0.02578221, 0.30698063, 0.57640388, 0.10844737, 0.10187168,\n",
       "       0.06211266, 0.28366683, 0.3528081 , 0.14362367, 0.53017943,\n",
       "       0.08186751, 0.30258607, 0.83411815, 0.33460299, 0.04512047,\n",
       "       0.68806814, 0.02824895, 0.87739666, 0.61109684, 0.09426905,\n",
       "       0.43744618, 0.33774972, 0.2042535 , 0.57904275, 0.68585525,\n",
       "       0.30612811, 0.11055819, 0.21924424, 0.10993481, 0.29910018,\n",
       "       0.25469729, 0.21807022, 0.15066686, 0.10875254, 0.43309174,\n",
       "       0.01484292, 0.72255263, 0.41392935, 0.80278296, 0.11887215,\n",
       "       0.31531393, 0.90663755, 0.172887  , 0.1778886 , 0.26806691,\n",
       "       0.07692415, 0.38760603, 0.71490464, 0.19936104, 0.03122973,\n",
       "       0.21136346, 0.27287181, 0.0707955 , 0.33524178, 0.08464246,\n",
       "       0.0912002 , 0.81087579, 0.79478241, 0.88652304, 0.1291286 ,\n",
       "       0.39030683, 0.26449394, 0.0746282 , 0.77581769, 0.42427164,\n",
       "       0.24289055, 0.09538397, 0.74475131, 0.1012905 , 0.61036441,\n",
       "       0.19516862, 0.49093556, 0.89986533, 0.3143615 , 0.33696616,\n",
       "       0.08031008, 0.14515793, 0.17142996, 0.26917425, 0.82845599,\n",
       "       0.97394955, 0.77866029, 0.44055082, 0.11296417, 0.89933198,\n",
       "       0.19053393, 0.34895102, 0.15110133, 0.58814008, 0.58507242,\n",
       "       0.34624233, 0.14429288, 0.37878962, 0.31961017, 0.03140328,\n",
       "       0.73356916, 0.21149608, 0.161808  , 0.13733262, 0.91488066,\n",
       "       0.07245613, 0.86753128, 0.44905531, 0.26887462, 0.66120612,\n",
       "       0.24789922, 0.43092092, 0.13781283, 0.04950575, 0.45915401,\n",
       "       0.06009535, 0.12391423, 0.0997658 , 0.07665019, 0.74430492,\n",
       "       0.1104784 , 0.03996865, 0.63005864, 0.19959076, 0.5316091 ,\n",
       "       0.102932  , 0.1370839 , 0.52298259, 0.06468001, 0.0755955 ,\n",
       "       0.18744505, 0.14287095, 0.04094248, 0.75919852, 0.1192446 ,\n",
       "       0.15458522, 0.24027068, 0.02182751, 0.11474181, 0.09165713,\n",
       "       0.09918252, 0.09862384, 0.78227305, 0.50040818, 0.80828829,\n",
       "       0.51223472, 0.09343364, 0.74294027, 0.03564126, 0.17899967,\n",
       "       0.17718892, 0.55337444, 0.314022  , 0.24244   , 0.12528776,\n",
       "       0.01437212, 0.55602933, 0.32763008, 0.96517109, 0.06296367,\n",
       "       0.04998326, 0.07051487, 0.50775724, 0.94383135, 0.56339654,\n",
       "       0.60178033, 0.84416853, 0.22433629, 0.66371766, 0.06526006,\n",
       "       0.04458545, 0.18898795, 0.15422502, 0.04627118, 0.91347521,\n",
       "       0.20046549, 0.5245397 , 0.72813419, 0.00636248, 0.22156242,\n",
       "       0.66152627, 0.26646775, 0.77238832, 0.05681591, 0.75745214,\n",
       "       0.13244198, 0.12793301, 0.08613188, 0.69055099, 0.20191456,\n",
       "       0.13613711, 0.8429851 , 0.38035511, 0.14242795, 0.02248136,\n",
       "       0.22791238, 0.60492421, 0.50618188, 0.33266166, 0.32423652,\n",
       "       0.24098892, 0.23616461, 0.03551499, 0.64099278, 0.38409937,\n",
       "       0.40420378, 0.6449681 , 0.51414406, 0.73492316, 0.10520964,\n",
       "       0.02062721, 0.05729136, 0.85880207, 0.90423703, 0.1244063 ,\n",
       "       0.21293412, 0.7985464 , 0.81375924, 0.79586489, 0.07023095,\n",
       "       0.81920339, 0.17642071, 0.09884784, 0.28539074, 0.07187599,\n",
       "       0.5036433 , 0.25639196, 0.7537302 , 0.4521516 , 0.44111823,\n",
       "       0.27978418, 0.24589393, 0.12111315, 0.02310476, 0.22786936,\n",
       "       0.50621397, 0.88735842, 0.13260182, 0.29948767, 0.25981524,\n",
       "       0.19106248, 0.50631225, 0.13013028, 0.65282432, 0.74964396,\n",
       "       0.67052067, 0.8740912 , 0.10386215, 0.62704839, 0.58240035,\n",
       "       0.6426633 , 0.32454847, 0.87715748, 0.40270274, 0.19849923,\n",
       "       0.41969031, 0.30969109, 0.78081551, 0.96624475, 0.21297253,\n",
       "       0.68320818, 0.27265989, 0.75728034, 0.04979551, 0.95719785,\n",
       "       0.28796955, 0.08685513, 0.25618097, 0.40358544, 0.43137185,\n",
       "       0.11325954, 0.53443787, 0.01249638, 0.15768623, 0.3295325 ,\n",
       "       0.58454066, 0.08654097, 0.74547217, 0.01362959, 0.04773282,\n",
       "       0.13809576, 0.13092128, 0.63538365, 0.29639893, 0.09900665,\n",
       "       0.71371357, 0.19296954, 0.50554387, 0.58885049, 0.87644354,\n",
       "       0.35822159, 0.19692035, 0.85406091, 0.47560898, 0.80711894,\n",
       "       0.20427021, 0.15481558, 0.08303151, 0.25745236, 0.70505843,\n",
       "       0.08454476, 0.41827018, 0.3420047 , 0.04100498, 0.79405266,\n",
       "       0.42521354, 0.42176913, 0.83163002, 0.2640077 , 0.31221737,\n",
       "       0.51952053, 0.26144037, 0.39783553, 0.05585539, 0.42190382,\n",
       "       0.06246192, 0.08971234, 0.77115439, 0.08420579, 0.08821273,\n",
       "       0.10278605, 0.32213953, 0.20710706, 0.25777192, 0.18854103,\n",
       "       0.14222949, 0.70493707, 0.60851948, 0.81561159, 0.16494697,\n",
       "       0.04402976, 0.12504196, 0.14991534, 0.19290248, 0.46381775,\n",
       "       0.16933426, 0.94448004, 0.75511216, 0.80207543, 0.49286387,\n",
       "       0.05657467, 0.0267195 , 0.23023919, 0.10972487, 0.24460787,\n",
       "       0.03126769, 0.69271159, 0.26112587, 0.93462789, 0.50445954,\n",
       "       0.2856999 , 0.08711478, 0.31596408, 0.78007603, 0.88662874,\n",
       "       0.96916138, 0.78864976, 0.19559111, 0.22569909, 0.09159721,\n",
       "       0.07409885, 0.22649791, 0.2237221 , 0.46895347, 0.33288736,\n",
       "       0.56103073, 0.33982785, 0.17304618, 0.06429755, 0.21869567,\n",
       "       0.12749423, 0.12042055, 0.15463439, 0.33368975, 0.75044359,\n",
       "       0.44658417, 0.23939867, 0.31633169, 0.34892952, 0.32307816,\n",
       "       0.08103047, 0.60875874, 0.70224355, 0.08380778, 0.48286622,\n",
       "       0.64679288, 0.89600636, 0.39574869, 0.54083032, 0.76458983,\n",
       "       0.43281411, 0.10571258, 0.36805711, 0.12395886, 0.45011751,\n",
       "       0.03497597, 0.8287    , 0.50288984, 0.04152408, 0.20397943,\n",
       "       0.69617445, 0.80144196, 0.14220388, 0.07460691, 0.33371806,\n",
       "       0.45048633, 0.52382145, 0.03368492, 0.08382167, 0.03067479,\n",
       "       0.90064976, 0.79238585, 0.77887142, 0.30209812, 0.09587327,\n",
       "       0.07702304, 0.48693828, 0.50439846, 0.54584626, 0.94792178,\n",
       "       0.68556514, 0.28370584, 0.23266251, 0.12609138, 0.14795542,\n",
       "       0.03842297, 0.42719485, 0.89850107, 0.21886602, 0.37763058,\n",
       "       0.23263666, 0.19267716, 0.32519496, 0.96568397, 0.61887969,\n",
       "       0.68318458, 0.31106956, 0.11513907, 0.77600616, 0.22158735,\n",
       "       0.7551526 , 0.70984128, 0.11770971, 0.22519644, 0.36550643,\n",
       "       0.77231768, 0.07889186, 0.1390423 , 0.33413232, 0.27394101,\n",
       "       0.72368948, 0.0717391 , 0.1084747 , 0.09535896, 0.03978283,\n",
       "       0.19300914, 0.8099571 , 0.20551839, 0.92648244, 0.82964911,\n",
       "       0.28137741, 0.06282782, 0.41485827, 0.27753599])"
      ]
     },
     "execution_count": 72,
     "metadata": {},
     "output_type": "execute_result"
    }
   ],
   "source": [
    "y_pred_proba = logistic_model.predict_proba(x_train)[:,1]\n",
    "y_pred_proba "
   ]
  },
  {
   "cell_type": "code",
   "execution_count": 73,
   "id": "c5a206f5",
   "metadata": {},
   "outputs": [],
   "source": [
    "fpr,tpr, thresh = roc_curve(y_train , y_pred_proba)"
   ]
  },
  {
   "cell_type": "code",
   "execution_count": 74,
   "id": "0d9a8e92",
   "metadata": {},
   "outputs": [
    {
     "data": {
      "text/plain": [
       "[<matplotlib.lines.Line2D at 0x264c84b48e0>]"
      ]
     },
     "execution_count": 74,
     "metadata": {},
     "output_type": "execute_result"
    },
    {
     "data": {
      "image/png": "[encoded data removed]",
      "text/plain": [
       "<Figure size 640x480 with 1 Axes>"
      ]
     },
     "metadata": {},
     "output_type": "display_data"
    }
   ],
   "source": [
    "plt.plot(fpr,tpr)"
   ]
  },
  {
   "cell_type": "code",
   "execution_count": 75,
   "id": "8724e233",
   "metadata": {},
   "outputs": [
    {
     "data": {
      "text/html": [
       "<div>\n",
       "<style scoped>\n",
       "    .dataframe tbody tr th:only-of-type {\n",
       "        vertical-align: middle;\n",
       "    }\n",
       "\n",
       "    .dataframe tbody tr th {\n",
       "        vertical-align: top;\n",
       "    }\n",
       "\n",
       "    .dataframe thead th {\n",
       "        text-align: right;\n",
       "    }\n",
       "</style>\n",
       "<table border=\"1\" class=\"dataframe\">\n",
       "  <thead>\n",
       "    <tr style=\"text-align: right;\">\n",
       "      <th></th>\n",
       "      <th>0.5</th>\n",
       "      <th>0.6</th>\n",
       "      <th>0.7</th>\n",
       "      <th>0.8</th>\n",
       "      <th>0.9</th>\n",
       "    </tr>\n",
       "  </thead>\n",
       "  <tbody>\n",
       "    <tr>\n",
       "      <th>Accuracy</th>\n",
       "      <td>0.775244</td>\n",
       "      <td>0.763844</td>\n",
       "      <td>0.760586</td>\n",
       "      <td>0.719870</td>\n",
       "      <td>0.672638</td>\n",
       "    </tr>\n",
       "    <tr>\n",
       "      <th>recall</th>\n",
       "      <td>0.595349</td>\n",
       "      <td>0.479070</td>\n",
       "      <td>0.400000</td>\n",
       "      <td>0.227907</td>\n",
       "      <td>0.079070</td>\n",
       "    </tr>\n",
       "    <tr>\n",
       "      <th>Precision</th>\n",
       "      <td>0.715084</td>\n",
       "      <td>0.757353</td>\n",
       "      <td>0.826923</td>\n",
       "      <td>0.890909</td>\n",
       "      <td>0.850000</td>\n",
       "    </tr>\n",
       "    <tr>\n",
       "      <th>F1-Score</th>\n",
       "      <td>0.649746</td>\n",
       "      <td>0.586895</td>\n",
       "      <td>0.539185</td>\n",
       "      <td>0.362963</td>\n",
       "      <td>0.144681</td>\n",
       "    </tr>\n",
       "  </tbody>\n",
       "</table>\n",
       "</div>"
      ],
      "text/plain": [
       "                0.5       0.6       0.7       0.8       0.9\n",
       "Accuracy   0.775244  0.763844  0.760586  0.719870  0.672638\n",
       "recall     0.595349  0.479070  0.400000  0.227907  0.079070\n",
       "Precision  0.715084  0.757353  0.826923  0.890909  0.850000\n",
       "F1-Score   0.649746  0.586895  0.539185  0.362963  0.144681"
      ]
     },
     "execution_count": 75,
     "metadata": {},
     "output_type": "execute_result"
    }
   ],
   "source": [
    "threshol_values = [0.5, 0.6, 0.7, 0.8, 0.9]\n",
    "\n",
    "df = pd.DataFrame()\n",
    "\n",
    "for i in  threshol_values:\n",
    "    preds = (logistic_model.predict_proba(x_train)[:,1] > i).astype(int)\n",
    "    df1 = pd.DataFrame(data=[accuracy_score(y_train, preds), recall_score(y_train, preds), precision_score(y_train, preds), f1_score(y_train, preds)],\n",
    "                       index=[\"Accuracy\", \"recall\", \"Precision\", \"F1-Score\"])\n",
    "    df = pd.concat([df,df1], axis = 1)\n",
    "    \n",
    "df.columns = threshol_values\n",
    "df"
   ]
  },
  {
   "cell_type": "code",
   "execution_count": 76,
   "id": "316857ca",
   "metadata": {},
   "outputs": [
    {
     "data": {
      "text/plain": [
       "72"
      ]
     },
     "execution_count": 76,
     "metadata": {},
     "output_type": "execute_result"
    }
   ],
   "source": [
    "np.where(thresh >= 0.499999)[0][-1]"
   ]
  },
  {
   "cell_type": "code",
   "execution_count": 77,
   "id": "726550ff",
   "metadata": {},
   "outputs": [
    {
     "data": {
      "text/plain": [
       "0.5004081771396632"
      ]
     },
     "execution_count": 77,
     "metadata": {},
     "output_type": "execute_result"
    }
   ],
   "source": [
    "thresh[72]"
   ]
  },
  {
   "cell_type": "code",
   "execution_count": 78,
   "id": "f3594632",
   "metadata": {},
   "outputs": [
    {
     "data": {
      "text/plain": [
       "0.5953488372093023"
      ]
     },
     "execution_count": 78,
     "metadata": {},
     "output_type": "execute_result"
    }
   ],
   "source": [
    "tpr[72]"
   ]
  },
  {
   "cell_type": "code",
   "execution_count": 79,
   "id": "ec24a6d8",
   "metadata": {},
   "outputs": [
    {
     "data": {
      "text/plain": [
       "0.12781954887218044"
      ]
     },
     "execution_count": 79,
     "metadata": {},
     "output_type": "execute_result"
    }
   ],
   "source": [
    "fpr[72]"
   ]
  },
  {
   "cell_type": "code",
   "execution_count": 80,
   "id": "c014b0d3",
   "metadata": {},
   "outputs": [
    {
     "data": {
      "text/plain": [
       "0.8375123856152008"
      ]
     },
     "execution_count": 80,
     "metadata": {},
     "output_type": "execute_result"
    }
   ],
   "source": [
    "auc(fpr,tpr)"
   ]
  },
  {
   "cell_type": "code",
   "execution_count": 81,
   "id": "4411bb41",
   "metadata": {},
   "outputs": [
    {
     "data": {
      "text/plain": [
       "0.1446808510638298"
      ]
     },
     "execution_count": 81,
     "metadata": {},
     "output_type": "execute_result"
    }
   ],
   "source": [
    "f1_score(y_train, preds)"
   ]
  },
  {
   "cell_type": "markdown",
   "id": "e788d840",
   "metadata": {},
   "source": [
    "### Create pickle file"
   ]
  },
  {
   "cell_type": "code",
   "execution_count": null,
   "id": "60b7054a",
   "metadata": {},
   "outputs": [],
   "source": [
    "with open(\"diabetes_model.pkl\",\"wb\") as f:\n",
    "    pickle.dump(logistic_model,f)"
   ]
  },
  {
   "cell_type": "code",
   "execution_count": null,
   "id": "28dc2f05",
   "metadata": {},
   "outputs": [],
   "source": [
    "column_names = x.columns\n",
    "column_names"
   ]
  },
  {
   "cell_type": "code",
   "execution_count": null,
   "id": "7187fcb4",
   "metadata": {},
   "outputs": [],
   "source": [
    "json_data = {\"columns\":list(column_names)}\n",
    "json_data"
   ]
  },
  {
   "cell_type": "markdown",
   "id": "3174ec88",
   "metadata": {},
   "source": [
    "### Create json file"
   ]
  },
  {
   "cell_type": "code",
   "execution_count": null,
   "id": "b9c488ff",
   "metadata": {},
   "outputs": [],
   "source": [
    "with open (\"diabetes_json.json\",\"w\")as f:\n",
    "    json.dump(json_data,f)"
   ]
  },
  {
   "cell_type": "markdown",
   "id": "c8430714",
   "metadata": {},
   "source": [
    "### User enter values"
   ]
  },
  {
   "cell_type": "code",
   "execution_count": null,
   "id": "12269208",
   "metadata": {},
   "outputs": [],
   "source": [
    "x.head(1).T"
   ]
  },
  {
   "cell_type": "code",
   "execution_count": null,
   "id": "25d63b1d",
   "metadata": {},
   "outputs": [],
   "source": [
    "Glucose = 240.000\n",
    "BloodPressure = 100.000\n",
    "SkinThickness = 55.000\n",
    "Insulin = 55.000\n",
    "BMI = 60.600\n",
    "DiabetesPedigreeFunction = 0.627\n",
    "Age = 24.000"
   ]
  },
  {
   "cell_type": "code",
   "execution_count": null,
   "id": "3b082ffe",
   "metadata": {},
   "outputs": [],
   "source": [
    "test_array = np.zeros(len(column_names))\n",
    "\n",
    "test_array[0] = Glucose\n",
    "test_array[1] = BloodPressure\n",
    "test_array[2] = SkinThickness\n",
    "test_array[3] = Insulin\n",
    "test_array[4] = BMI\n",
    "test_array[5] = DiabetesPedigreeFunction\n",
    "test_array[6] = Age\n",
    "\n",
    "test_array"
   ]
  },
  {
   "cell_type": "code",
   "execution_count": null,
   "id": "4010548e",
   "metadata": {},
   "outputs": [],
   "source": [
    "prediction = round(logistic_model.predict([array])[0],2)\n",
    "if prediction == 0:\n",
    "    print(\"patient is non diabetic\")\n",
    "else:\n",
    "    print(\"patient is diabetic\")"
   ]
  }
 ],
 "metadata": {
  "kernelspec": {
   "display_name": "Python 3 (ipykernel)",
   "language": "python",
   "name": "python3"
  },
  "language_info": {
   "codemirror_mode": {
    "name": "ipython",
    "version": 3
   },
   "file_extension": ".py",
   "mimetype": "text/x-python",
   "name": "python",
   "nbconvert_exporter": "python",
   "pygments_lexer": "ipython3",
   "version": "3.9.13"
  }
 },
 "nbformat": 4,
 "nbformat_minor": 5
}
