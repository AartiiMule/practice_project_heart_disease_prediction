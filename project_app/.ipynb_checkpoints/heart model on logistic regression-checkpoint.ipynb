{
 "cells": [
  {
   "cell_type": "code",
   "execution_count": 1,
   "id": "2cfb6a10",
   "metadata": {},
   "outputs": [],
   "source": [
    "import numpy as np\n",
    "import pandas as pd\n",
    "\n",
    "from sklearn.model_selection import train_test_split\n",
    "from sklearn.metrics import accuracy_score, classification_report, roc_curve,auc,plot_confusion_matrix, recall_score\n",
    "from sklearn.linear_model import LogisticRegression\n",
    "from sklearn.metrics import precision_score, f1_score\n",
    "\n",
    "import warnings\n",
    "warnings.filterwarnings(\"ignore\")\n",
    "\n",
    "import seaborn as sns\n",
    "import matplotlib.pyplot as plt\n",
    "\n",
    "import pickle\n",
    "import json\n"
   ]
  },
  {
   "cell_type": "markdown",
   "id": "174bf301",
   "metadata": {},
   "source": [
    "## Problem Statement"
   ]
  },
  {
   "cell_type": "markdown",
   "id": "e1c2b570",
   "metadata": {},
   "source": [
    "predict the patient has heart decease or not by using supervised machine learning algorithem by considering logistic regression"
   ]
  },
  {
   "cell_type": "markdown",
   "id": "5e76d448",
   "metadata": {},
   "source": [
    "## Data Gathring"
   ]
  },
  {
   "cell_type": "code",
   "execution_count": 2,
   "id": "acb0ffef",
   "metadata": {},
   "outputs": [
    {
     "data": {
      "text/html": [
       "<div>\n",
       "<style scoped>\n",
       "    .dataframe tbody tr th:only-of-type {\n",
       "        vertical-align: middle;\n",
       "    }\n",
       "\n",
       "    .dataframe tbody tr th {\n",
       "        vertical-align: top;\n",
       "    }\n",
       "\n",
       "    .dataframe thead th {\n",
       "        text-align: right;\n",
       "    }\n",
       "</style>\n",
       "<table border=\"1\" class=\"dataframe\">\n",
       "  <thead>\n",
       "    <tr style=\"text-align: right;\">\n",
       "      <th></th>\n",
       "      <th>age</th>\n",
       "      <th>sex</th>\n",
       "      <th>cp</th>\n",
       "      <th>trestbps</th>\n",
       "      <th>chol</th>\n",
       "      <th>fbs</th>\n",
       "      <th>restecg</th>\n",
       "      <th>thalach</th>\n",
       "      <th>exang</th>\n",
       "      <th>oldpeak</th>\n",
       "      <th>slope</th>\n",
       "      <th>ca</th>\n",
       "      <th>thal</th>\n",
       "      <th>target</th>\n",
       "    </tr>\n",
       "  </thead>\n",
       "  <tbody>\n",
       "    <tr>\n",
       "      <th>0</th>\n",
       "      <td>63</td>\n",
       "      <td>1</td>\n",
       "      <td>3</td>\n",
       "      <td>145</td>\n",
       "      <td>233</td>\n",
       "      <td>1</td>\n",
       "      <td>0</td>\n",
       "      <td>150</td>\n",
       "      <td>0</td>\n",
       "      <td>2.3</td>\n",
       "      <td>0</td>\n",
       "      <td>0</td>\n",
       "      <td>1</td>\n",
       "      <td>1</td>\n",
       "    </tr>\n",
       "    <tr>\n",
       "      <th>1</th>\n",
       "      <td>37</td>\n",
       "      <td>1</td>\n",
       "      <td>2</td>\n",
       "      <td>130</td>\n",
       "      <td>250</td>\n",
       "      <td>0</td>\n",
       "      <td>1</td>\n",
       "      <td>187</td>\n",
       "      <td>0</td>\n",
       "      <td>3.5</td>\n",
       "      <td>0</td>\n",
       "      <td>0</td>\n",
       "      <td>2</td>\n",
       "      <td>1</td>\n",
       "    </tr>\n",
       "    <tr>\n",
       "      <th>2</th>\n",
       "      <td>41</td>\n",
       "      <td>0</td>\n",
       "      <td>1</td>\n",
       "      <td>130</td>\n",
       "      <td>204</td>\n",
       "      <td>0</td>\n",
       "      <td>0</td>\n",
       "      <td>172</td>\n",
       "      <td>0</td>\n",
       "      <td>1.4</td>\n",
       "      <td>2</td>\n",
       "      <td>0</td>\n",
       "      <td>2</td>\n",
       "      <td>1</td>\n",
       "    </tr>\n",
       "    <tr>\n",
       "      <th>3</th>\n",
       "      <td>56</td>\n",
       "      <td>1</td>\n",
       "      <td>1</td>\n",
       "      <td>120</td>\n",
       "      <td>236</td>\n",
       "      <td>0</td>\n",
       "      <td>1</td>\n",
       "      <td>178</td>\n",
       "      <td>0</td>\n",
       "      <td>0.8</td>\n",
       "      <td>2</td>\n",
       "      <td>0</td>\n",
       "      <td>2</td>\n",
       "      <td>1</td>\n",
       "    </tr>\n",
       "    <tr>\n",
       "      <th>4</th>\n",
       "      <td>57</td>\n",
       "      <td>0</td>\n",
       "      <td>0</td>\n",
       "      <td>120</td>\n",
       "      <td>354</td>\n",
       "      <td>0</td>\n",
       "      <td>1</td>\n",
       "      <td>163</td>\n",
       "      <td>1</td>\n",
       "      <td>0.6</td>\n",
       "      <td>2</td>\n",
       "      <td>0</td>\n",
       "      <td>2</td>\n",
       "      <td>1</td>\n",
       "    </tr>\n",
       "    <tr>\n",
       "      <th>...</th>\n",
       "      <td>...</td>\n",
       "      <td>...</td>\n",
       "      <td>...</td>\n",
       "      <td>...</td>\n",
       "      <td>...</td>\n",
       "      <td>...</td>\n",
       "      <td>...</td>\n",
       "      <td>...</td>\n",
       "      <td>...</td>\n",
       "      <td>...</td>\n",
       "      <td>...</td>\n",
       "      <td>...</td>\n",
       "      <td>...</td>\n",
       "      <td>...</td>\n",
       "    </tr>\n",
       "    <tr>\n",
       "      <th>298</th>\n",
       "      <td>57</td>\n",
       "      <td>0</td>\n",
       "      <td>0</td>\n",
       "      <td>140</td>\n",
       "      <td>241</td>\n",
       "      <td>0</td>\n",
       "      <td>1</td>\n",
       "      <td>123</td>\n",
       "      <td>1</td>\n",
       "      <td>0.2</td>\n",
       "      <td>1</td>\n",
       "      <td>0</td>\n",
       "      <td>3</td>\n",
       "      <td>0</td>\n",
       "    </tr>\n",
       "    <tr>\n",
       "      <th>299</th>\n",
       "      <td>45</td>\n",
       "      <td>1</td>\n",
       "      <td>3</td>\n",
       "      <td>110</td>\n",
       "      <td>264</td>\n",
       "      <td>0</td>\n",
       "      <td>1</td>\n",
       "      <td>132</td>\n",
       "      <td>0</td>\n",
       "      <td>1.2</td>\n",
       "      <td>1</td>\n",
       "      <td>0</td>\n",
       "      <td>3</td>\n",
       "      <td>0</td>\n",
       "    </tr>\n",
       "    <tr>\n",
       "      <th>300</th>\n",
       "      <td>68</td>\n",
       "      <td>1</td>\n",
       "      <td>0</td>\n",
       "      <td>144</td>\n",
       "      <td>193</td>\n",
       "      <td>1</td>\n",
       "      <td>1</td>\n",
       "      <td>141</td>\n",
       "      <td>0</td>\n",
       "      <td>3.4</td>\n",
       "      <td>1</td>\n",
       "      <td>2</td>\n",
       "      <td>3</td>\n",
       "      <td>0</td>\n",
       "    </tr>\n",
       "    <tr>\n",
       "      <th>301</th>\n",
       "      <td>57</td>\n",
       "      <td>1</td>\n",
       "      <td>0</td>\n",
       "      <td>130</td>\n",
       "      <td>131</td>\n",
       "      <td>0</td>\n",
       "      <td>1</td>\n",
       "      <td>115</td>\n",
       "      <td>1</td>\n",
       "      <td>1.2</td>\n",
       "      <td>1</td>\n",
       "      <td>1</td>\n",
       "      <td>3</td>\n",
       "      <td>0</td>\n",
       "    </tr>\n",
       "    <tr>\n",
       "      <th>302</th>\n",
       "      <td>57</td>\n",
       "      <td>0</td>\n",
       "      <td>1</td>\n",
       "      <td>130</td>\n",
       "      <td>236</td>\n",
       "      <td>0</td>\n",
       "      <td>0</td>\n",
       "      <td>174</td>\n",
       "      <td>0</td>\n",
       "      <td>0.0</td>\n",
       "      <td>1</td>\n",
       "      <td>1</td>\n",
       "      <td>2</td>\n",
       "      <td>0</td>\n",
       "    </tr>\n",
       "  </tbody>\n",
       "</table>\n",
       "<p>303 rows × 14 columns</p>\n",
       "</div>"
      ],
      "text/plain": [
       "     age  sex  cp  trestbps  chol  fbs  restecg  thalach  exang  oldpeak  \\\n",
       "0     63    1   3       145   233    1        0      150      0      2.3   \n",
       "1     37    1   2       130   250    0        1      187      0      3.5   \n",
       "2     41    0   1       130   204    0        0      172      0      1.4   \n",
       "3     56    1   1       120   236    0        1      178      0      0.8   \n",
       "4     57    0   0       120   354    0        1      163      1      0.6   \n",
       "..   ...  ...  ..       ...   ...  ...      ...      ...    ...      ...   \n",
       "298   57    0   0       140   241    0        1      123      1      0.2   \n",
       "299   45    1   3       110   264    0        1      132      0      1.2   \n",
       "300   68    1   0       144   193    1        1      141      0      3.4   \n",
       "301   57    1   0       130   131    0        1      115      1      1.2   \n",
       "302   57    0   1       130   236    0        0      174      0      0.0   \n",
       "\n",
       "     slope  ca  thal  target  \n",
       "0        0   0     1       1  \n",
       "1        0   0     2       1  \n",
       "2        2   0     2       1  \n",
       "3        2   0     2       1  \n",
       "4        2   0     2       1  \n",
       "..     ...  ..   ...     ...  \n",
       "298      1   0     3       0  \n",
       "299      1   0     3       0  \n",
       "300      1   2     3       0  \n",
       "301      1   1     3       0  \n",
       "302      1   1     2       0  \n",
       "\n",
       "[303 rows x 14 columns]"
      ]
     },
     "execution_count": 2,
     "metadata": {},
     "output_type": "execute_result"
    }
   ],
   "source": [
    "df = pd.read_csv(\"heart.csv\")\n",
    "df"
   ]
  },
  {
   "cell_type": "markdown",
   "id": "aaa4930a",
   "metadata": {},
   "source": [
    "eda"
   ]
  },
  {
   "cell_type": "code",
   "execution_count": 3,
   "id": "a683fea2",
   "metadata": {},
   "outputs": [
    {
     "name": "stdout",
     "output_type": "stream",
     "text": [
      "<class 'pandas.core.frame.DataFrame'>\n",
      "RangeIndex: 303 entries, 0 to 302\n",
      "Data columns (total 14 columns):\n",
      " #   Column    Non-Null Count  Dtype  \n",
      "---  ------    --------------  -----  \n",
      " 0   age       303 non-null    int64  \n",
      " 1   sex       303 non-null    int64  \n",
      " 2   cp        303 non-null    int64  \n",
      " 3   trestbps  303 non-null    int64  \n",
      " 4   chol      303 non-null    int64  \n",
      " 5   fbs       303 non-null    int64  \n",
      " 6   restecg   303 non-null    int64  \n",
      " 7   thalach   303 non-null    int64  \n",
      " 8   exang     303 non-null    int64  \n",
      " 9   oldpeak   303 non-null    float64\n",
      " 10  slope     303 non-null    int64  \n",
      " 11  ca        303 non-null    int64  \n",
      " 12  thal      303 non-null    int64  \n",
      " 13  target    303 non-null    int64  \n",
      "dtypes: float64(1), int64(13)\n",
      "memory usage: 33.3 KB\n"
     ]
    }
   ],
   "source": [
    "df.info()"
   ]
  },
  {
   "cell_type": "code",
   "execution_count": 4,
   "id": "1efbbb74",
   "metadata": {},
   "outputs": [
    {
     "data": {
      "text/plain": [
       "array([63, 37, 41, 56, 57, 44, 52, 54, 48, 49, 64, 58, 50, 66, 43, 69, 59,\n",
       "       42, 61, 40, 71, 51, 65, 53, 46, 45, 39, 47, 62, 34, 35, 29, 55, 60,\n",
       "       67, 68, 74, 76, 70, 38, 77], dtype=int64)"
      ]
     },
     "execution_count": 4,
     "metadata": {},
     "output_type": "execute_result"
    }
   ],
   "source": [
    "df[\"age\"].unique()"
   ]
  },
  {
   "cell_type": "code",
   "execution_count": 5,
   "id": "2ffc37d1",
   "metadata": {},
   "outputs": [
    {
     "data": {
      "text/plain": [
       "58    19\n",
       "57    17\n",
       "54    16\n",
       "59    14\n",
       "52    13\n",
       "51    12\n",
       "62    11\n",
       "60    11\n",
       "44    11\n",
       "56    11\n",
       "64    10\n",
       "41    10\n",
       "63     9\n",
       "67     9\n",
       "65     8\n",
       "43     8\n",
       "45     8\n",
       "55     8\n",
       "42     8\n",
       "61     8\n",
       "53     8\n",
       "46     7\n",
       "48     7\n",
       "66     7\n",
       "50     7\n",
       "49     5\n",
       "47     5\n",
       "70     4\n",
       "39     4\n",
       "35     4\n",
       "68     4\n",
       "38     3\n",
       "71     3\n",
       "40     3\n",
       "69     3\n",
       "34     2\n",
       "37     2\n",
       "29     1\n",
       "74     1\n",
       "76     1\n",
       "77     1\n",
       "Name: age, dtype: int64"
      ]
     },
     "execution_count": 5,
     "metadata": {},
     "output_type": "execute_result"
    }
   ],
   "source": [
    "df[\"age\"].value_counts()"
   ]
  },
  {
   "cell_type": "code",
   "execution_count": 6,
   "id": "8c9ba857",
   "metadata": {},
   "outputs": [
    {
     "data": {
      "text/plain": [
       "array([1, 0], dtype=int64)"
      ]
     },
     "execution_count": 6,
     "metadata": {},
     "output_type": "execute_result"
    }
   ],
   "source": [
    "df[\"sex\"].unique()"
   ]
  },
  {
   "cell_type": "code",
   "execution_count": 7,
   "id": "8a41b092",
   "metadata": {},
   "outputs": [
    {
     "data": {
      "text/plain": [
       "1    207\n",
       "0     96\n",
       "Name: sex, dtype: int64"
      ]
     },
     "execution_count": 7,
     "metadata": {},
     "output_type": "execute_result"
    }
   ],
   "source": [
    "df[\"sex\"].value_counts()\n"
   ]
  },
  {
   "cell_type": "code",
   "execution_count": 8,
   "id": "3ddf2782",
   "metadata": {},
   "outputs": [
    {
     "data": {
      "text/plain": [
       "array([3, 2, 1, 0], dtype=int64)"
      ]
     },
     "execution_count": 8,
     "metadata": {},
     "output_type": "execute_result"
    }
   ],
   "source": [
    "df[\"cp\"].unique()"
   ]
  },
  {
   "cell_type": "code",
   "execution_count": 9,
   "id": "1b05d253",
   "metadata": {},
   "outputs": [
    {
     "data": {
      "text/plain": [
       "0    143\n",
       "2     87\n",
       "1     50\n",
       "3     23\n",
       "Name: cp, dtype: int64"
      ]
     },
     "execution_count": 9,
     "metadata": {},
     "output_type": "execute_result"
    }
   ],
   "source": [
    "df[\"cp\"].value_counts()"
   ]
  },
  {
   "cell_type": "code",
   "execution_count": 10,
   "id": "96ffc274",
   "metadata": {},
   "outputs": [
    {
     "data": {
      "text/plain": [
       "array([145, 130, 120, 140, 172, 150, 110, 135, 160, 105, 125, 142, 155,\n",
       "       104, 138, 128, 108, 134, 122, 115, 118, 100, 124,  94, 112, 102,\n",
       "       152, 101, 132, 148, 178, 129, 180, 136, 126, 106, 156, 170, 146,\n",
       "       117, 200, 165, 174, 192, 144, 123, 154, 114, 164], dtype=int64)"
      ]
     },
     "execution_count": 10,
     "metadata": {},
     "output_type": "execute_result"
    }
   ],
   "source": [
    "df[\"trestbps\"].unique()"
   ]
  },
  {
   "cell_type": "code",
   "execution_count": 11,
   "id": "064b559f",
   "metadata": {},
   "outputs": [
    {
     "data": {
      "text/plain": [
       "120    37\n",
       "130    36\n",
       "140    32\n",
       "110    19\n",
       "150    17\n",
       "138    13\n",
       "128    12\n",
       "160    11\n",
       "125    11\n",
       "112     9\n",
       "132     8\n",
       "118     7\n",
       "124     6\n",
       "135     6\n",
       "108     6\n",
       "152     5\n",
       "134     5\n",
       "145     5\n",
       "122     4\n",
       "170     4\n",
       "100     4\n",
       "105     3\n",
       "126     3\n",
       "115     3\n",
       "180     3\n",
       "136     3\n",
       "142     3\n",
       "102     2\n",
       "148     2\n",
       "178     2\n",
       "94      2\n",
       "144     2\n",
       "146     2\n",
       "200     1\n",
       "114     1\n",
       "154     1\n",
       "123     1\n",
       "192     1\n",
       "174     1\n",
       "165     1\n",
       "104     1\n",
       "117     1\n",
       "101     1\n",
       "156     1\n",
       "106     1\n",
       "155     1\n",
       "129     1\n",
       "172     1\n",
       "164     1\n",
       "Name: trestbps, dtype: int64"
      ]
     },
     "execution_count": 11,
     "metadata": {},
     "output_type": "execute_result"
    }
   ],
   "source": [
    "df[\"trestbps\"].value_counts()"
   ]
  },
  {
   "cell_type": "code",
   "execution_count": 12,
   "id": "10667198",
   "metadata": {},
   "outputs": [
    {
     "data": {
      "text/plain": [
       "array([233, 250, 204, 236, 354, 192, 294, 263, 199, 168, 239, 275, 266,\n",
       "       211, 283, 219, 340, 226, 247, 234, 243, 302, 212, 175, 417, 197,\n",
       "       198, 177, 273, 213, 304, 232, 269, 360, 308, 245, 208, 264, 321,\n",
       "       325, 235, 257, 216, 256, 231, 141, 252, 201, 222, 260, 182, 303,\n",
       "       265, 309, 186, 203, 183, 220, 209, 258, 227, 261, 221, 205, 240,\n",
       "       318, 298, 564, 277, 214, 248, 255, 207, 223, 288, 160, 394, 315,\n",
       "       246, 244, 270, 195, 196, 254, 126, 313, 262, 215, 193, 271, 268,\n",
       "       267, 210, 295, 306, 178, 242, 180, 228, 149, 278, 253, 342, 157,\n",
       "       286, 229, 284, 224, 206, 167, 230, 335, 276, 353, 225, 330, 290,\n",
       "       172, 305, 188, 282, 185, 326, 274, 164, 307, 249, 341, 407, 217,\n",
       "       174, 281, 289, 322, 299, 300, 293, 184, 409, 259, 200, 327, 237,\n",
       "       218, 319, 166, 311, 169, 187, 176, 241, 131], dtype=int64)"
      ]
     },
     "execution_count": 12,
     "metadata": {},
     "output_type": "execute_result"
    }
   ],
   "source": [
    "df[\"chol\"].unique()"
   ]
  },
  {
   "cell_type": "code",
   "execution_count": 13,
   "id": "fe478707",
   "metadata": {},
   "outputs": [
    {
     "data": {
      "text/plain": [
       "204    6\n",
       "197    6\n",
       "234    6\n",
       "269    5\n",
       "254    5\n",
       "      ..\n",
       "284    1\n",
       "224    1\n",
       "167    1\n",
       "276    1\n",
       "131    1\n",
       "Name: chol, Length: 152, dtype: int64"
      ]
     },
     "execution_count": 13,
     "metadata": {},
     "output_type": "execute_result"
    }
   ],
   "source": [
    "df[\"chol\"].value_counts()"
   ]
  },
  {
   "cell_type": "code",
   "execution_count": 14,
   "id": "bf673a67",
   "metadata": {},
   "outputs": [
    {
     "data": {
      "text/plain": [
       "array([1, 0], dtype=int64)"
      ]
     },
     "execution_count": 14,
     "metadata": {},
     "output_type": "execute_result"
    }
   ],
   "source": [
    "df[\"fbs\"].unique()"
   ]
  },
  {
   "cell_type": "code",
   "execution_count": 15,
   "id": "257dda3a",
   "metadata": {},
   "outputs": [
    {
     "data": {
      "text/plain": [
       "0    258\n",
       "1     45\n",
       "Name: fbs, dtype: int64"
      ]
     },
     "execution_count": 15,
     "metadata": {},
     "output_type": "execute_result"
    }
   ],
   "source": [
    "df[\"fbs\"].value_counts()"
   ]
  },
  {
   "cell_type": "code",
   "execution_count": 16,
   "id": "673537b7",
   "metadata": {},
   "outputs": [
    {
     "data": {
      "text/plain": [
       "array([0, 1, 2], dtype=int64)"
      ]
     },
     "execution_count": 16,
     "metadata": {},
     "output_type": "execute_result"
    }
   ],
   "source": [
    "df[\"restecg\"].unique()"
   ]
  },
  {
   "cell_type": "code",
   "execution_count": 17,
   "id": "a57bbe53",
   "metadata": {},
   "outputs": [
    {
     "data": {
      "text/plain": [
       "1    152\n",
       "0    147\n",
       "2      4\n",
       "Name: restecg, dtype: int64"
      ]
     },
     "execution_count": 17,
     "metadata": {},
     "output_type": "execute_result"
    }
   ],
   "source": [
    "df[\"restecg\"].value_counts()"
   ]
  },
  {
   "cell_type": "code",
   "execution_count": 18,
   "id": "a51891b4",
   "metadata": {},
   "outputs": [
    {
     "data": {
      "text/plain": [
       "array([150, 187, 172, 178, 163, 148, 153, 173, 162, 174, 160, 139, 171,\n",
       "       144, 158, 114, 151, 161, 179, 137, 157, 123, 152, 168, 140, 188,\n",
       "       125, 170, 165, 142, 180, 143, 182, 156, 115, 149, 146, 175, 186,\n",
       "       185, 159, 130, 190, 132, 147, 154, 202, 166, 164, 184, 122, 169,\n",
       "       138, 111, 145, 194, 131, 133, 155, 167, 192, 121,  96, 126, 105,\n",
       "       181, 116, 108, 129, 120, 112, 128, 109, 113,  99, 177, 141, 136,\n",
       "        97, 127, 103, 124,  88, 195, 106,  95, 117,  71, 118, 134,  90],\n",
       "      dtype=int64)"
      ]
     },
     "execution_count": 18,
     "metadata": {},
     "output_type": "execute_result"
    }
   ],
   "source": [
    "df[\"thalach\"].unique()"
   ]
  },
  {
   "cell_type": "code",
   "execution_count": 19,
   "id": "0542bda4",
   "metadata": {},
   "outputs": [
    {
     "data": {
      "text/plain": [
       "162    11\n",
       "160     9\n",
       "163     9\n",
       "152     8\n",
       "173     8\n",
       "       ..\n",
       "202     1\n",
       "184     1\n",
       "121     1\n",
       "192     1\n",
       "90      1\n",
       "Name: thalach, Length: 91, dtype: int64"
      ]
     },
     "execution_count": 19,
     "metadata": {},
     "output_type": "execute_result"
    }
   ],
   "source": [
    "df[\"thalach\"].value_counts()"
   ]
  },
  {
   "cell_type": "code",
   "execution_count": 20,
   "id": "d0dd01c3",
   "metadata": {},
   "outputs": [
    {
     "data": {
      "text/plain": [
       "array([0, 1], dtype=int64)"
      ]
     },
     "execution_count": 20,
     "metadata": {},
     "output_type": "execute_result"
    }
   ],
   "source": [
    "df[\"exang\"].unique()"
   ]
  },
  {
   "cell_type": "code",
   "execution_count": 21,
   "id": "6169a184",
   "metadata": {},
   "outputs": [
    {
     "data": {
      "text/plain": [
       "0    204\n",
       "1     99\n",
       "Name: exang, dtype: int64"
      ]
     },
     "execution_count": 21,
     "metadata": {},
     "output_type": "execute_result"
    }
   ],
   "source": [
    "df[\"exang\"].value_counts()"
   ]
  },
  {
   "cell_type": "code",
   "execution_count": 22,
   "id": "7cbccd77",
   "metadata": {},
   "outputs": [
    {
     "data": {
      "text/plain": [
       "array([2.3, 3.5, 1.4, 0.8, 0.6, 0.4, 1.3, 0. , 0.5, 1.6, 1.2, 0.2, 1.8,\n",
       "       1. , 2.6, 1.5, 3. , 2.4, 0.1, 1.9, 4.2, 1.1, 2. , 0.7, 0.3, 0.9,\n",
       "       3.6, 3.1, 3.2, 2.5, 2.2, 2.8, 3.4, 6.2, 4. , 5.6, 2.9, 2.1, 3.8,\n",
       "       4.4])"
      ]
     },
     "execution_count": 22,
     "metadata": {},
     "output_type": "execute_result"
    }
   ],
   "source": [
    "df[\"oldpeak\"].unique()"
   ]
  },
  {
   "cell_type": "code",
   "execution_count": 23,
   "id": "f5aa699a",
   "metadata": {},
   "outputs": [
    {
     "data": {
      "text/plain": [
       "0.0    99\n",
       "1.2    17\n",
       "1.0    14\n",
       "0.6    14\n",
       "1.4    13\n",
       "0.8    13\n",
       "0.2    12\n",
       "1.6    11\n",
       "1.8    10\n",
       "0.4     9\n",
       "2.0     9\n",
       "0.1     7\n",
       "2.8     6\n",
       "2.6     6\n",
       "1.5     5\n",
       "3.0     5\n",
       "1.9     5\n",
       "0.5     5\n",
       "3.6     4\n",
       "2.2     4\n",
       "2.4     3\n",
       "0.9     3\n",
       "3.4     3\n",
       "4.0     3\n",
       "0.3     3\n",
       "2.3     2\n",
       "3.2     2\n",
       "2.5     2\n",
       "4.2     2\n",
       "1.1     2\n",
       "3.1     1\n",
       "0.7     1\n",
       "3.5     1\n",
       "6.2     1\n",
       "1.3     1\n",
       "5.6     1\n",
       "2.9     1\n",
       "2.1     1\n",
       "3.8     1\n",
       "4.4     1\n",
       "Name: oldpeak, dtype: int64"
      ]
     },
     "execution_count": 23,
     "metadata": {},
     "output_type": "execute_result"
    }
   ],
   "source": [
    "df[\"oldpeak\"].value_counts()"
   ]
  },
  {
   "cell_type": "code",
   "execution_count": 24,
   "id": "9e0a3ba0",
   "metadata": {},
   "outputs": [
    {
     "data": {
      "text/plain": [
       "array([0, 2, 1], dtype=int64)"
      ]
     },
     "execution_count": 24,
     "metadata": {},
     "output_type": "execute_result"
    }
   ],
   "source": [
    "df[\"slope\"].unique()"
   ]
  },
  {
   "cell_type": "code",
   "execution_count": 25,
   "id": "c816b068",
   "metadata": {},
   "outputs": [
    {
     "data": {
      "text/plain": [
       "2    142\n",
       "1    140\n",
       "0     21\n",
       "Name: slope, dtype: int64"
      ]
     },
     "execution_count": 25,
     "metadata": {},
     "output_type": "execute_result"
    }
   ],
   "source": [
    "df[\"slope\"].value_counts()"
   ]
  },
  {
   "cell_type": "code",
   "execution_count": 26,
   "id": "fa04f77c",
   "metadata": {},
   "outputs": [
    {
     "data": {
      "text/plain": [
       "array([0, 2, 1, 3, 4], dtype=int64)"
      ]
     },
     "execution_count": 26,
     "metadata": {},
     "output_type": "execute_result"
    }
   ],
   "source": [
    "df[\"ca\"].unique()"
   ]
  },
  {
   "cell_type": "code",
   "execution_count": 27,
   "id": "708fdc2e",
   "metadata": {},
   "outputs": [
    {
     "data": {
      "text/plain": [
       "0    175\n",
       "1     65\n",
       "2     38\n",
       "3     20\n",
       "4      5\n",
       "Name: ca, dtype: int64"
      ]
     },
     "execution_count": 27,
     "metadata": {},
     "output_type": "execute_result"
    }
   ],
   "source": [
    "df[\"ca\"].value_counts()"
   ]
  },
  {
   "cell_type": "code",
   "execution_count": 28,
   "id": "5dc7f951",
   "metadata": {},
   "outputs": [
    {
     "data": {
      "text/plain": [
       "array([1, 2, 3, 0], dtype=int64)"
      ]
     },
     "execution_count": 28,
     "metadata": {},
     "output_type": "execute_result"
    }
   ],
   "source": [
    "df[\"thal\"].unique()"
   ]
  },
  {
   "cell_type": "code",
   "execution_count": 29,
   "id": "dd4b8398",
   "metadata": {},
   "outputs": [
    {
     "data": {
      "text/plain": [
       "2    166\n",
       "3    117\n",
       "1     18\n",
       "0      2\n",
       "Name: thal, dtype: int64"
      ]
     },
     "execution_count": 29,
     "metadata": {},
     "output_type": "execute_result"
    }
   ],
   "source": [
    "df[\"thal\"].value_counts()"
   ]
  },
  {
   "cell_type": "code",
   "execution_count": 30,
   "id": "964bb4a2",
   "metadata": {},
   "outputs": [
    {
     "data": {
      "text/plain": [
       "array([1, 0], dtype=int64)"
      ]
     },
     "execution_count": 30,
     "metadata": {},
     "output_type": "execute_result"
    }
   ],
   "source": [
    "df[\"target\"].unique()"
   ]
  },
  {
   "cell_type": "code",
   "execution_count": 31,
   "id": "71e32891",
   "metadata": {},
   "outputs": [
    {
     "data": {
      "text/plain": [
       "1    165\n",
       "0    138\n",
       "Name: target, dtype: int64"
      ]
     },
     "execution_count": 31,
     "metadata": {},
     "output_type": "execute_result"
    }
   ],
   "source": [
    "df[\"target\"].value_counts()"
   ]
  },
  {
   "cell_type": "code",
   "execution_count": 32,
   "id": "dc9e39a9",
   "metadata": {},
   "outputs": [
    {
     "data": {
      "text/plain": [
       "<AxesSubplot:xlabel='target', ylabel='count'>"
      ]
     },
     "execution_count": 32,
     "metadata": {},
     "output_type": "execute_result"
    },
    {
     "data": {
      "image/png": "[encoded data removed]",
      "text/plain": [
       "<Figure size 640x480 with 1 Axes>"
      ]
     },
     "metadata": {},
     "output_type": "display_data"
    }
   ],
   "source": [
    "sns.countplot(df[\"target\"])"
   ]
  },
  {
   "cell_type": "markdown",
   "id": "9b508be9",
   "metadata": {},
   "source": [
    "### identify missing values"
   ]
  },
  {
   "cell_type": "code",
   "execution_count": 33,
   "id": "260f0bd5",
   "metadata": {},
   "outputs": [
    {
     "data": {
      "text/plain": [
       "age         0\n",
       "sex         0\n",
       "cp          0\n",
       "trestbps    0\n",
       "chol        0\n",
       "fbs         0\n",
       "restecg     0\n",
       "thalach     0\n",
       "exang       0\n",
       "oldpeak     0\n",
       "slope       0\n",
       "ca          0\n",
       "thal        0\n",
       "target      0\n",
       "dtype: int64"
      ]
     },
     "execution_count": 33,
     "metadata": {},
     "output_type": "execute_result"
    }
   ],
   "source": [
    "df.isna().sum()"
   ]
  },
  {
   "cell_type": "markdown",
   "id": "1e843bd5",
   "metadata": {},
   "source": [
    "### detect outliers"
   ]
  },
  {
   "cell_type": "code",
   "execution_count": 34,
   "id": "aaea1a63",
   "metadata": {},
   "outputs": [
    {
     "data": {
      "text/plain": [
       "<AxesSubplot:>"
      ]
     },
     "execution_count": 34,
     "metadata": {},
     "output_type": "execute_result"
    },
    {
     "data": {
      "image/png": "[encoded data removed]",
      "text/plain": [
       "<Figure size 3000x2000 with 1 Axes>"
      ]
     },
     "metadata": {},
     "output_type": "display_data"
    }
   ],
   "source": [
    "plt.figure(figsize = (30,20)),\n",
    "df.boxplot()"
   ]
  },
  {
   "cell_type": "markdown",
   "id": "1ca19340",
   "metadata": {},
   "source": [
    "## Feature Engineering"
   ]
  },
  {
   "cell_type": "code",
   "execution_count": 35,
   "id": "21fc949e",
   "metadata": {},
   "outputs": [],
   "source": [
    "x = df.iloc[:,:-1]\n",
    "\n",
    "y = df.iloc[:,-1:]\n",
    "\n"
   ]
  },
  {
   "cell_type": "code",
   "execution_count": 36,
   "id": "d1135cd3",
   "metadata": {},
   "outputs": [],
   "source": [
    "x_train,x_test,y_train,y_test=train_test_split(x,y,test_size=0.25,random_state=10,stratify=y)"
   ]
  },
  {
   "cell_type": "code",
   "execution_count": 37,
   "id": "5d9e052e",
   "metadata": {},
   "outputs": [
    {
     "data": {
      "text/plain": [
       "<AxesSubplot:xlabel='trestbps'>"
      ]
     },
     "execution_count": 37,
     "metadata": {},
     "output_type": "execute_result"
    },
    {
     "data": {
      "image/png": "[encoded data removed]",
      "text/plain": [
       "<Figure size 640x480 with 1 Axes>"
      ]
     },
     "metadata": {},
     "output_type": "display_data"
    }
   ],
   "source": [
    "sns.boxplot(x = df[\"trestbps\"])"
   ]
  },
  {
   "cell_type": "code",
   "execution_count": 38,
   "id": "72e44fb2",
   "metadata": {},
   "outputs": [
    {
     "name": "stdout",
     "output_type": "stream",
     "text": [
      "upper_tail: 170.0\n",
      "lower_tail: 90.0\n"
     ]
    }
   ],
   "source": [
    "q1=df[\"trestbps\"].quantile(0.25)\n",
    "q2=df[\"trestbps\"].quantile(0.50)\n",
    "q3=df[\"trestbps\"].quantile(0.75)\n",
    "\n",
    "iqr=q3-q1\n",
    "\n",
    "upper_tail=q3+1.5*iqr\n",
    "lower_tail=q1-1.5*iqr\n",
    "\n",
    "print(\"upper_tail:\",upper_tail)\n",
    "print(\"lower_tail:\",lower_tail)\n"
   ]
  },
  {
   "cell_type": "code",
   "execution_count": 39,
   "id": "4c12c035",
   "metadata": {},
   "outputs": [
    {
     "data": {
      "text/plain": [
       "<AxesSubplot:xlabel='trestbps'>"
      ]
     },
     "execution_count": 39,
     "metadata": {},
     "output_type": "execute_result"
    },
    {
     "data": {
      "image/png": "[encoded data removed]",
      "text/plain": [
       "<Figure size 640x480 with 1 Axes>"
      ]
     },
     "metadata": {},
     "output_type": "display_data"
    }
   ],
   "source": [
    "df[\"trestbps\"].loc[(df[\"trestbps\"]>upper_tail)|(df[\"trestbps\"]<lower_tail)]\n",
    "mean_normalize=df[\"trestbps\"].loc[(df[\"trestbps\"]<=upper_tail)&(df[\"trestbps\"]>=lower_tail)].mean()\n",
    "df.loc[(df[\"trestbps\"]>upper_tail)|(df[\"trestbps\"]<lower_tail)]=mean_normalize\n",
    "df[\"trestbps\"].loc[(df[\"trestbps\"]>upper_tail)|(df[\"trestbps\"]<lower_tail)]\n",
    "sns.boxplot(df[\"trestbps\"])"
   ]
  },
  {
   "cell_type": "code",
   "execution_count": 40,
   "id": "a2d2b730",
   "metadata": {},
   "outputs": [
    {
     "data": {
      "text/plain": [
       "<AxesSubplot:xlabel='chol'>"
      ]
     },
     "execution_count": 40,
     "metadata": {},
     "output_type": "execute_result"
    },
    {
     "data": {
      "image/png": "[encoded data removed]",
      "text/plain": [
       "<Figure size 640x480 with 1 Axes>"
      ]
     },
     "metadata": {},
     "output_type": "display_data"
    }
   ],
   "source": [
    "sns.boxplot(x = df[\"chol\"])"
   ]
  },
  {
   "cell_type": "code",
   "execution_count": 41,
   "id": "4fbb2e31",
   "metadata": {},
   "outputs": [
    {
     "name": "stdout",
     "output_type": "stream",
     "text": [
      "upper_tail: 369.5\n",
      "lower_tail: 109.5\n"
     ]
    }
   ],
   "source": [
    "q1=df[\"chol\"].quantile(0.25)\n",
    "q2=df[\"chol\"].quantile(0.50)\n",
    "q3=df[\"chol\"].quantile(0.75)\n",
    "\n",
    "iqr=q3-q1\n",
    "\n",
    "upper_tail=q3+1.5*iqr\n",
    "lower_tail=q1-1.5*iqr\n",
    "\n",
    "print(\"upper_tail:\",upper_tail)\n",
    "print(\"lower_tail:\",lower_tail)\n",
    "\n"
   ]
  },
  {
   "cell_type": "code",
   "execution_count": 42,
   "id": "7ff95804",
   "metadata": {},
   "outputs": [
    {
     "data": {
      "text/plain": [
       "<AxesSubplot:xlabel='chol'>"
      ]
     },
     "execution_count": 42,
     "metadata": {},
     "output_type": "execute_result"
    },
    {
     "data": {
      "image/png": "[encoded data removed]",
      "text/plain": [
       "<Figure size 640x480 with 1 Axes>"
      ]
     },
     "metadata": {},
     "output_type": "display_data"
    }
   ],
   "source": [
    "df[\"chol\"].loc[(df[\"chol\"]>upper_tail)|(df[\"chol\"]<lower_tail)]\n",
    "mean_normalize=df[\"chol\"].loc[(df[\"chol\"]<=upper_tail)& (df[\"chol\"]>=lower_tail)].mean()\n",
    "df.loc[(df[\"chol\"]>upper_tail)|(df[\"chol\"]<lower_tail)]=mean_normalize\n",
    "df[\"chol\"].loc[(df[\"chol\"]>upper_tail)|(df[\"chol\"]<lower_tail)]\n",
    "sns.boxplot(df[\"chol\"])"
   ]
  },
  {
   "cell_type": "code",
   "execution_count": 43,
   "id": "9e9bef93",
   "metadata": {},
   "outputs": [
    {
     "data": {
      "text/plain": [
       "<AxesSubplot:xlabel='oldpeak'>"
      ]
     },
     "execution_count": 43,
     "metadata": {},
     "output_type": "execute_result"
    },
    {
     "data": {
      "image/png": "[encoded data removed]",
      "text/plain": [
       "<Figure size 640x480 with 1 Axes>"
      ]
     },
     "metadata": {},
     "output_type": "display_data"
    }
   ],
   "source": [
    "sns.boxplot(x = df[\"oldpeak\"])"
   ]
  },
  {
   "cell_type": "code",
   "execution_count": 44,
   "id": "c9428055",
   "metadata": {},
   "outputs": [
    {
     "name": "stdout",
     "output_type": "stream",
     "text": [
      "upper_tail: 4.5\n",
      "lower_tail: -2.7\n"
     ]
    },
    {
     "data": {
      "text/plain": [
       "<AxesSubplot:xlabel='oldpeak'>"
      ]
     },
     "execution_count": 44,
     "metadata": {},
     "output_type": "execute_result"
    },
    {
     "data": {
      "image/png": "[encoded data removed]",
      "text/plain": [
       "<Figure size 640x480 with 1 Axes>"
      ]
     },
     "metadata": {},
     "output_type": "display_data"
    }
   ],
   "source": [
    "q1=df[\"oldpeak\"].quantile(0.25)\n",
    "q2=df[\"oldpeak\"].quantile(0.50)\n",
    "q3=df[\"oldpeak\"].quantile(0.75)\n",
    "\n",
    "iqr=q3-q1\n",
    "\n",
    "upper_tail=q3+1.5*iqr\n",
    "lower_tail=q1-1.5*iqr\n",
    "\n",
    "print(\"upper_tail:\",upper_tail)\n",
    "print(\"lower_tail:\",lower_tail)\n",
    "\n",
    "df[\"oldpeak\"].loc[(df[\"oldpeak\"]>upper_tail)|(df[\"oldpeak\"]<lower_tail)]\n",
    "mean_oldpeak=df[\"oldpeak\"].loc[(df[\"oldpeak\"]<=upper_tail)&\n",
    "                                             (df[\"oldpeak\"]>=lower_tail)].mean()\n",
    "df.loc[(df[\"oldpeak\"]>upper_tail)|(df[\"oldpeak\"]<lower_tail)]=mean_oldpeak\n",
    "df[\"oldpeak\"].loc[(df[\"oldpeak\"]>upper_tail)|(df[\"oldpeak\"]<lower_tail)]\n",
    "sns.boxplot(df[\"oldpeak\"])"
   ]
  },
  {
   "cell_type": "code",
   "execution_count": 45,
   "id": "64cc411d",
   "metadata": {},
   "outputs": [
    {
     "data": {
      "text/plain": [
       "<AxesSubplot:xlabel='oldpeak'>"
      ]
     },
     "execution_count": 45,
     "metadata": {},
     "output_type": "execute_result"
    },
    {
     "data": {
      "image/png": "[encoded data removed]",
      "text/plain": [
       "<Figure size 640x480 with 1 Axes>"
      ]
     },
     "metadata": {},
     "output_type": "display_data"
    }
   ],
   "source": [
    "df[\"oldpeak\"].loc[(df[\"oldpeak\"]>upper_tail)|(df[\"oldpeak\"]<lower_tail)]\n",
    "mean_oldpeak=df[\"oldpeak\"].loc[(df[\"oldpeak\"]<=upper_tail)&(df[\"oldpeak\"]>=lower_tail)].mean()\n",
    "df.loc[(df[\"oldpeak\"]>upper_tail)|(df[\"oldpeak\"]<lower_tail)]=mean_oldpeak\n",
    "df[\"oldpeak\"].loc[(df[\"oldpeak\"]>upper_tail)|(df[\"oldpeak\"]<lower_tail)]\n",
    "sns.boxplot(df[\"oldpeak\"])"
   ]
  },
  {
   "cell_type": "markdown",
   "id": "39ed8337",
   "metadata": {},
   "source": [
    "## Model Building"
   ]
  },
  {
   "cell_type": "code",
   "execution_count": 46,
   "id": "6853dbc5",
   "metadata": {},
   "outputs": [
    {
     "data": {
      "text/plain": [
       "LogisticRegression()"
      ]
     },
     "execution_count": 46,
     "metadata": {},
     "output_type": "execute_result"
    }
   ],
   "source": [
    "logistic_model=LogisticRegression()\n",
    "logistic_model.fit(x_train,y_train)"
   ]
  },
  {
   "cell_type": "markdown",
   "id": "2d0dd6d0",
   "metadata": {},
   "source": [
    "## Model Evaluation"
   ]
  },
  {
   "cell_type": "markdown",
   "id": "3fdfcef4",
   "metadata": {},
   "source": [
    "### training dataset"
   ]
  },
  {
   "cell_type": "code",
   "execution_count": 47,
   "id": "18e31a83",
   "metadata": {},
   "outputs": [
    {
     "name": "stdout",
     "output_type": "stream",
     "text": [
      "Accuracy:\n",
      " 0.8458149779735683\n",
      "**************************************************\n",
      "Classification report:\n",
      "               precision    recall  f1-score   support\n",
      "\n",
      "           0       0.77      0.88      0.82        90\n",
      "           1       0.91      0.82      0.87       137\n",
      "\n",
      "    accuracy                           0.85       227\n",
      "   macro avg       0.84      0.85      0.84       227\n",
      "weighted avg       0.85      0.85      0.85       227\n",
      "\n",
      "**************************************************\n"
     ]
    },
    {
     "data": {
      "image/png": "[encoded data removed]",
      "text/plain": [
       "<Figure size 640x480 with 2 Axes>"
      ]
     },
     "metadata": {},
     "output_type": "display_data"
    }
   ],
   "source": [
    "y_pred_train = logistic_model.predict(x_train)\n",
    "\n",
    "plot_confusion_matrix(logistic_model, x_train , y_train)\n",
    "\n",
    "accuracy =  accuracy_score(y_pred_train,y_train)\n",
    "\n",
    "clf_report = classification_report(y_pred_train,y_train)\n",
    "\n",
    "\n",
    "print(\"Accuracy:\\n\",accuracy)\n",
    "print(\"*\"*50)\n",
    "\n",
    "print(\"Classification report:\\n\",clf_report)\n",
    "print(\"*\"*50)\n",
    "\n",
    "\n"
   ]
  },
  {
   "cell_type": "code",
   "execution_count": 48,
   "id": "e82b833d",
   "metadata": {},
   "outputs": [
    {
     "name": "stdout",
     "output_type": "stream",
     "text": [
      "accuracy --> 0.868421052631579\n",
      "clf_report -->               precision    recall  f1-score   support\n",
      "\n",
      "           0       0.83      0.88      0.85        33\n",
      "           1       0.90      0.86      0.88        43\n",
      "\n",
      "    accuracy                           0.87        76\n",
      "   macro avg       0.87      0.87      0.87        76\n",
      "weighted avg       0.87      0.87      0.87        76\n",
      "\n"
     ]
    },
    {
     "data": {
      "image/png": "[encoded data removed]",
      "text/plain": [
       "<Figure size 640x480 with 2 Axes>"
      ]
     },
     "metadata": {},
     "output_type": "display_data"
    }
   ],
   "source": [
    "y_pred_test = logistic_model.predict(x_test)\n",
    "\n",
    "plot_confusion_matrix(logistic_model,x_test,y_test)\n",
    "\n",
    "accuracy = accuracy_score(y_pred_test,y_test)\n",
    "\n",
    "clf_report = classification_report(y_pred_test,y_test)\n",
    "\n",
    "print(\"accuracy -->\", accuracy)\n",
    "\n",
    "print(\"clf_report -->\",clf_report)"
   ]
  },
  {
   "cell_type": "markdown",
   "id": "92aa8d94",
   "metadata": {},
   "source": [
    "### find the best threshold value"
   ]
  },
  {
   "cell_type": "code",
   "execution_count": 49,
   "id": "1de9221c",
   "metadata": {},
   "outputs": [],
   "source": [
    "y_pred_train_proba = logistic_model.predict_proba(x_train)[:,1]"
   ]
  },
  {
   "cell_type": "code",
   "execution_count": 50,
   "id": "211377ff",
   "metadata": {},
   "outputs": [
    {
     "data": {
      "text/plain": [
       "array([1.99401865, 0.99401865, 0.95075786, 0.9493523 , 0.93278584,\n",
       "       0.93260149, 0.89643977, 0.89209745, 0.87622971, 0.87438155,\n",
       "       0.86169355, 0.85431459, 0.77219149, 0.76887515, 0.7493658 ,\n",
       "       0.74545641, 0.74212272, 0.74091358, 0.72538694, 0.7198297 ,\n",
       "       0.71793792, 0.70702851, 0.70505937, 0.70387106, 0.69021222,\n",
       "       0.68686792, 0.68341733, 0.68153735, 0.6804144 , 0.67427956,\n",
       "       0.63025582, 0.62725025, 0.59805211, 0.59461225, 0.57875198,\n",
       "       0.53965417, 0.53709165, 0.5325344 , 0.51706359, 0.46861475,\n",
       "       0.44079867, 0.43790135, 0.43270432, 0.40367014, 0.35849955,\n",
       "       0.25969943, 0.25800803, 0.25059213, 0.22297416, 0.13259324,\n",
       "       0.11845525, 0.09011141, 0.08391797, 0.05814308, 0.05767585,\n",
       "       0.00232025])"
      ]
     },
     "execution_count": 50,
     "metadata": {},
     "output_type": "execute_result"
    }
   ],
   "source": [
    "fpr,tpr, thresh = roc_curve(y_train , y_pred_train_proba)\n",
    "thresh"
   ]
  },
  {
   "cell_type": "code",
   "execution_count": 51,
   "id": "27b00bdc",
   "metadata": {},
   "outputs": [
    {
     "data": {
      "text/html": [
       "<div>\n",
       "<style scoped>\n",
       "    .dataframe tbody tr th:only-of-type {\n",
       "        vertical-align: middle;\n",
       "    }\n",
       "\n",
       "    .dataframe tbody tr th {\n",
       "        vertical-align: top;\n",
       "    }\n",
       "\n",
       "    .dataframe thead th {\n",
       "        text-align: right;\n",
       "    }\n",
       "</style>\n",
       "<table border=\"1\" class=\"dataframe\">\n",
       "  <thead>\n",
       "    <tr style=\"text-align: right;\">\n",
       "      <th></th>\n",
       "      <th>0.3</th>\n",
       "      <th>0.4</th>\n",
       "      <th>0.5</th>\n",
       "      <th>0.6</th>\n",
       "      <th>0.7</th>\n",
       "      <th>0.8</th>\n",
       "      <th>0.9</th>\n",
       "    </tr>\n",
       "  </thead>\n",
       "  <tbody>\n",
       "    <tr>\n",
       "      <th>Accuracy</th>\n",
       "      <td>0.819383</td>\n",
       "      <td>0.823789</td>\n",
       "      <td>0.845815</td>\n",
       "      <td>0.845815</td>\n",
       "      <td>0.806167</td>\n",
       "      <td>0.735683</td>\n",
       "      <td>0.643172</td>\n",
       "    </tr>\n",
       "    <tr>\n",
       "      <th>recall</th>\n",
       "      <td>0.959677</td>\n",
       "      <td>0.943548</td>\n",
       "      <td>0.911290</td>\n",
       "      <td>0.846774</td>\n",
       "      <td>0.733871</td>\n",
       "      <td>0.556452</td>\n",
       "      <td>0.362903</td>\n",
       "    </tr>\n",
       "    <tr>\n",
       "      <th>Precision</th>\n",
       "      <td>0.767742</td>\n",
       "      <td>0.780000</td>\n",
       "      <td>0.824818</td>\n",
       "      <td>0.867769</td>\n",
       "      <td>0.892157</td>\n",
       "      <td>0.932432</td>\n",
       "      <td>0.957447</td>\n",
       "    </tr>\n",
       "    <tr>\n",
       "      <th>F1-Score</th>\n",
       "      <td>0.853047</td>\n",
       "      <td>0.854015</td>\n",
       "      <td>0.865900</td>\n",
       "      <td>0.857143</td>\n",
       "      <td>0.805310</td>\n",
       "      <td>0.696970</td>\n",
       "      <td>0.526316</td>\n",
       "    </tr>\n",
       "  </tbody>\n",
       "</table>\n",
       "</div>"
      ],
      "text/plain": [
       "                0.3       0.4       0.5       0.6       0.7       0.8  \\\n",
       "Accuracy   0.819383  0.823789  0.845815  0.845815  0.806167  0.735683   \n",
       "recall     0.959677  0.943548  0.911290  0.846774  0.733871  0.556452   \n",
       "Precision  0.767742  0.780000  0.824818  0.867769  0.892157  0.932432   \n",
       "F1-Score   0.853047  0.854015  0.865900  0.857143  0.805310  0.696970   \n",
       "\n",
       "                0.9  \n",
       "Accuracy   0.643172  \n",
       "recall     0.362903  \n",
       "Precision  0.957447  \n",
       "F1-Score   0.526316  "
      ]
     },
     "execution_count": 51,
     "metadata": {},
     "output_type": "execute_result"
    }
   ],
   "source": [
    "threshold_values = [0.3,0.4,0.5,0.6,0.7,0.8,0.9]\n",
    "\n",
    "df = pd.DataFrame()\n",
    "\n",
    "for i in threshold_values:\n",
    "    prediction = (logistic_model.predict_proba(x_train)[:,1] > i).astype(int)\n",
    "    \n",
    "    df1 = pd.DataFrame(data=[accuracy_score(y_train, prediction), recall_score(y_train, prediction), precision_score(y_train, prediction), f1_score(y_train, prediction)],\n",
    "                       index=[\"Accuracy\", \"recall\", \"Precision\", \"F1-Score\"])\n",
    "    \n",
    "    df = pd.concat([df,df1], axis = 1)\n",
    "    \n",
    "df.columns = threshold_values\n",
    "df"
   ]
  },
  {
   "cell_type": "code",
   "execution_count": 52,
   "id": "711a0abf",
   "metadata": {},
   "outputs": [],
   "source": [
    "# according to f1_score 0.5 threshold value is best value"
   ]
  },
  {
   "cell_type": "code",
   "execution_count": 53,
   "id": "f626f8fe",
   "metadata": {},
   "outputs": [
    {
     "data": {
      "text/plain": [
       "38"
      ]
     },
     "execution_count": 53,
     "metadata": {},
     "output_type": "execute_result"
    }
   ],
   "source": [
    "np.where(thresh >= 0.499999)[0][-1]"
   ]
  },
  {
   "cell_type": "code",
   "execution_count": 54,
   "id": "b9bb3319",
   "metadata": {},
   "outputs": [
    {
     "data": {
      "text/plain": [
       "0.5170635941230782"
      ]
     },
     "execution_count": 54,
     "metadata": {},
     "output_type": "execute_result"
    }
   ],
   "source": [
    "thresh[38]"
   ]
  },
  {
   "cell_type": "code",
   "execution_count": 55,
   "id": "68a703dd",
   "metadata": {},
   "outputs": [
    {
     "data": {
      "text/plain": [
       "0.21359223300970873"
      ]
     },
     "execution_count": 55,
     "metadata": {},
     "output_type": "execute_result"
    }
   ],
   "source": [
    "fpr[38]"
   ]
  },
  {
   "cell_type": "code",
   "execution_count": 56,
   "id": "c8a1b9bc",
   "metadata": {},
   "outputs": [
    {
     "data": {
      "text/plain": [
       "0.9112903225806451"
      ]
     },
     "execution_count": 56,
     "metadata": {},
     "output_type": "execute_result"
    }
   ],
   "source": [
    "tpr[38]"
   ]
  },
  {
   "cell_type": "code",
   "execution_count": 57,
   "id": "365cd29c",
   "metadata": {},
   "outputs": [
    {
     "data": {
      "text/plain": [
       "0.9166144691512684"
      ]
     },
     "execution_count": 57,
     "metadata": {},
     "output_type": "execute_result"
    }
   ],
   "source": [
    "auc(fpr,tpr)"
   ]
  },
  {
   "cell_type": "code",
   "execution_count": 58,
   "id": "6d631a3e",
   "metadata": {},
   "outputs": [
    {
     "data": {
      "text/plain": [
       "[<matplotlib.lines.Line2D at 0x1d72f419df0>]"
      ]
     },
     "execution_count": 58,
     "metadata": {},
     "output_type": "execute_result"
    },
    {
     "data": {
      "image/png": "[encoded data removed]",
      "text/plain": [
       "<Figure size 640x480 with 1 Axes>"
      ]
     },
     "metadata": {},
     "output_type": "display_data"
    }
   ],
   "source": [
    "plt.plot(fpr,tpr)"
   ]
  },
  {
   "cell_type": "code",
   "execution_count": 59,
   "id": "b881174b",
   "metadata": {},
   "outputs": [],
   "source": [
    "y_pred_test_proba = logistic_model.predict_proba(x_test)[:,1]"
   ]
  },
  {
   "cell_type": "code",
   "execution_count": 60,
   "id": "b7a490f9",
   "metadata": {},
   "outputs": [
    {
     "data": {
      "text/plain": [
       "array([1.98894592, 0.98894592, 0.91235099, 0.90676933, 0.77975279,\n",
       "       0.76013874, 0.67851305, 0.67263996, 0.56005683, 0.55331637,\n",
       "       0.51367033, 0.51348717, 0.49652139, 0.26706773, 0.20189313,\n",
       "       0.112059  , 0.09445851, 0.00697559])"
      ]
     },
     "execution_count": 60,
     "metadata": {},
     "output_type": "execute_result"
    }
   ],
   "source": [
    "fpr,tpr, thresh = roc_curve(y_test , y_pred_test_proba)\n",
    "thresh"
   ]
  },
  {
   "cell_type": "code",
   "execution_count": 61,
   "id": "d559a45c",
   "metadata": {},
   "outputs": [
    {
     "data": {
      "text/html": [
       "<div>\n",
       "<style scoped>\n",
       "    .dataframe tbody tr th:only-of-type {\n",
       "        vertical-align: middle;\n",
       "    }\n",
       "\n",
       "    .dataframe tbody tr th {\n",
       "        vertical-align: top;\n",
       "    }\n",
       "\n",
       "    .dataframe thead th {\n",
       "        text-align: right;\n",
       "    }\n",
       "</style>\n",
       "<table border=\"1\" class=\"dataframe\">\n",
       "  <thead>\n",
       "    <tr style=\"text-align: right;\">\n",
       "      <th></th>\n",
       "      <th>0.3</th>\n",
       "      <th>0.4</th>\n",
       "      <th>0.5</th>\n",
       "      <th>0.6</th>\n",
       "      <th>0.7</th>\n",
       "      <th>0.8</th>\n",
       "      <th>0.9</th>\n",
       "    </tr>\n",
       "  </thead>\n",
       "  <tbody>\n",
       "    <tr>\n",
       "      <th>Accuracy</th>\n",
       "      <td>0.828947</td>\n",
       "      <td>0.881579</td>\n",
       "      <td>0.868421</td>\n",
       "      <td>0.855263</td>\n",
       "      <td>0.815789</td>\n",
       "      <td>0.763158</td>\n",
       "      <td>0.671053</td>\n",
       "    </tr>\n",
       "    <tr>\n",
       "      <th>recall</th>\n",
       "      <td>0.926829</td>\n",
       "      <td>0.926829</td>\n",
       "      <td>0.902439</td>\n",
       "      <td>0.804878</td>\n",
       "      <td>0.707317</td>\n",
       "      <td>0.585366</td>\n",
       "      <td>0.414634</td>\n",
       "    </tr>\n",
       "    <tr>\n",
       "      <th>Precision</th>\n",
       "      <td>0.791667</td>\n",
       "      <td>0.863636</td>\n",
       "      <td>0.860465</td>\n",
       "      <td>0.916667</td>\n",
       "      <td>0.935484</td>\n",
       "      <td>0.960000</td>\n",
       "      <td>0.944444</td>\n",
       "    </tr>\n",
       "    <tr>\n",
       "      <th>F1-Score</th>\n",
       "      <td>0.853933</td>\n",
       "      <td>0.894118</td>\n",
       "      <td>0.880952</td>\n",
       "      <td>0.857143</td>\n",
       "      <td>0.805556</td>\n",
       "      <td>0.727273</td>\n",
       "      <td>0.576271</td>\n",
       "    </tr>\n",
       "  </tbody>\n",
       "</table>\n",
       "</div>"
      ],
      "text/plain": [
       "                0.3       0.4       0.5       0.6       0.7       0.8  \\\n",
       "Accuracy   0.828947  0.881579  0.868421  0.855263  0.815789  0.763158   \n",
       "recall     0.926829  0.926829  0.902439  0.804878  0.707317  0.585366   \n",
       "Precision  0.791667  0.863636  0.860465  0.916667  0.935484  0.960000   \n",
       "F1-Score   0.853933  0.894118  0.880952  0.857143  0.805556  0.727273   \n",
       "\n",
       "                0.9  \n",
       "Accuracy   0.671053  \n",
       "recall     0.414634  \n",
       "Precision  0.944444  \n",
       "F1-Score   0.576271  "
      ]
     },
     "execution_count": 61,
     "metadata": {},
     "output_type": "execute_result"
    }
   ],
   "source": [
    "threshold_values = [0.3,0.4,0.5,0.6,0.7,0.8,0.9]\n",
    "\n",
    "df = pd.DataFrame()\n",
    "\n",
    "for i in threshold_values:\n",
    "    prediction = (logistic_model.predict_proba(x_test)[:,1] > i).astype(int)\n",
    "    \n",
    "    df1 = pd.DataFrame(data=[accuracy_score(y_test, prediction), recall_score(y_test, prediction), precision_score(y_test, prediction), f1_score(y_test, prediction)],\n",
    "                       index=[\"Accuracy\", \"recall\", \"Precision\", \"F1-Score\"])\n",
    "    \n",
    "    df = pd.concat([df,df1], axis = 1)\n",
    "    \n",
    "df.columns = threshold_values\n",
    "df"
   ]
  },
  {
   "cell_type": "code",
   "execution_count": 62,
   "id": "f792ae25",
   "metadata": {},
   "outputs": [],
   "source": [
    "# according to fi_score best threshold value is 0.5"
   ]
  },
  {
   "cell_type": "code",
   "execution_count": 63,
   "id": "f4bf0a2f",
   "metadata": {},
   "outputs": [
    {
     "data": {
      "text/plain": [
       "11"
      ]
     },
     "execution_count": 63,
     "metadata": {},
     "output_type": "execute_result"
    }
   ],
   "source": [
    "np.where(thresh >= 0.499999)[0][-1]"
   ]
  },
  {
   "cell_type": "code",
   "execution_count": 64,
   "id": "c0825d9e",
   "metadata": {},
   "outputs": [
    {
     "data": {
      "text/plain": [
       "0.17142857142857143"
      ]
     },
     "execution_count": 64,
     "metadata": {},
     "output_type": "execute_result"
    }
   ],
   "source": [
    "fpr[11]"
   ]
  },
  {
   "cell_type": "code",
   "execution_count": 65,
   "id": "af66ab2f",
   "metadata": {},
   "outputs": [
    {
     "data": {
      "text/plain": [
       "0.9024390243902439"
      ]
     },
     "execution_count": 65,
     "metadata": {},
     "output_type": "execute_result"
    }
   ],
   "source": [
    "tpr[11]"
   ]
  },
  {
   "cell_type": "code",
   "execution_count": 66,
   "id": "914d27d6",
   "metadata": {},
   "outputs": [
    {
     "data": {
      "text/plain": [
       "0.9310104529616725"
      ]
     },
     "execution_count": 66,
     "metadata": {},
     "output_type": "execute_result"
    }
   ],
   "source": [
    "auc(fpr,tpr)"
   ]
  },
  {
   "cell_type": "code",
   "execution_count": 67,
   "id": "a2470aa7",
   "metadata": {},
   "outputs": [
    {
     "data": {
      "text/plain": [
       "[<matplotlib.lines.Line2D at 0x1d72f4ff3d0>]"
      ]
     },
     "execution_count": 67,
     "metadata": {},
     "output_type": "execute_result"
    },
    {
     "data": {
      "image/png": "[encoded data removed]",
      "text/plain": [
       "<Figure size 640x480 with 1 Axes>"
      ]
     },
     "metadata": {},
     "output_type": "display_data"
    }
   ],
   "source": [
    "plt.plot(fpr,tpr)"
   ]
  },
  {
   "cell_type": "markdown",
   "id": "f8b15cbc",
   "metadata": {},
   "source": [
    "### single user enter value"
   ]
  },
  {
   "cell_type": "code",
   "execution_count": 68,
   "id": "b391aec7",
   "metadata": {},
   "outputs": [
    {
     "data": {
      "text/html": [
       "<div>\n",
       "<style scoped>\n",
       "    .dataframe tbody tr th:only-of-type {\n",
       "        vertical-align: middle;\n",
       "    }\n",
       "\n",
       "    .dataframe tbody tr th {\n",
       "        vertical-align: top;\n",
       "    }\n",
       "\n",
       "    .dataframe thead th {\n",
       "        text-align: right;\n",
       "    }\n",
       "</style>\n",
       "<table border=\"1\" class=\"dataframe\">\n",
       "  <thead>\n",
       "    <tr style=\"text-align: right;\">\n",
       "      <th></th>\n",
       "      <th>0</th>\n",
       "    </tr>\n",
       "  </thead>\n",
       "  <tbody>\n",
       "    <tr>\n",
       "      <th>age</th>\n",
       "      <td>63.0</td>\n",
       "    </tr>\n",
       "    <tr>\n",
       "      <th>sex</th>\n",
       "      <td>1.0</td>\n",
       "    </tr>\n",
       "    <tr>\n",
       "      <th>cp</th>\n",
       "      <td>3.0</td>\n",
       "    </tr>\n",
       "    <tr>\n",
       "      <th>trestbps</th>\n",
       "      <td>145.0</td>\n",
       "    </tr>\n",
       "    <tr>\n",
       "      <th>chol</th>\n",
       "      <td>233.0</td>\n",
       "    </tr>\n",
       "    <tr>\n",
       "      <th>fbs</th>\n",
       "      <td>1.0</td>\n",
       "    </tr>\n",
       "    <tr>\n",
       "      <th>restecg</th>\n",
       "      <td>0.0</td>\n",
       "    </tr>\n",
       "    <tr>\n",
       "      <th>thalach</th>\n",
       "      <td>150.0</td>\n",
       "    </tr>\n",
       "    <tr>\n",
       "      <th>exang</th>\n",
       "      <td>0.0</td>\n",
       "    </tr>\n",
       "    <tr>\n",
       "      <th>oldpeak</th>\n",
       "      <td>2.3</td>\n",
       "    </tr>\n",
       "    <tr>\n",
       "      <th>slope</th>\n",
       "      <td>0.0</td>\n",
       "    </tr>\n",
       "    <tr>\n",
       "      <th>ca</th>\n",
       "      <td>0.0</td>\n",
       "    </tr>\n",
       "    <tr>\n",
       "      <th>thal</th>\n",
       "      <td>1.0</td>\n",
       "    </tr>\n",
       "  </tbody>\n",
       "</table>\n",
       "</div>"
      ],
      "text/plain": [
       "              0\n",
       "age        63.0\n",
       "sex         1.0\n",
       "cp          3.0\n",
       "trestbps  145.0\n",
       "chol      233.0\n",
       "fbs         1.0\n",
       "restecg     0.0\n",
       "thalach   150.0\n",
       "exang       0.0\n",
       "oldpeak     2.3\n",
       "slope       0.0\n",
       "ca          0.0\n",
       "thal        1.0"
      ]
     },
     "execution_count": 68,
     "metadata": {},
     "output_type": "execute_result"
    }
   ],
   "source": [
    "x.head(1).T"
   ]
  },
  {
   "cell_type": "code",
   "execution_count": 69,
   "id": "ca434562",
   "metadata": {},
   "outputs": [],
   "source": [
    "age = 63.0\n",
    "sex = 1.0\n",
    "cp = 3.0\n",
    "trestbps = 145.0\n",
    "chol = 233.0\n",
    "fbs = 1.0\n",
    "restecg = 0.0\n",
    "thalach = 150.0\n",
    "exang = 0.0\n",
    "oldpeak = 2.3\n",
    "slope = 0.0\n",
    "ca = 0.0\n",
    "thal = 1.0"
   ]
  },
  {
   "cell_type": "code",
   "execution_count": 70,
   "id": "d107e9ff",
   "metadata": {},
   "outputs": [
    {
     "data": {
      "text/plain": [
       "array([ 63. ,   1. ,   3. , 145. , 233. ,   1. ,   0. , 150. ,   0. ,\n",
       "         2.3,   0. ,   0. ,   1. ])"
      ]
     },
     "execution_count": 70,
     "metadata": {},
     "output_type": "execute_result"
    }
   ],
   "source": [
    "test_array = np.zeros(len(x.columns))\n",
    "\n",
    "test_array[0] = age\n",
    "test_array[1] = sex\n",
    "test_array[2] = cp\n",
    "test_array[3] = trestbps\n",
    "test_array[4] = chol\n",
    "test_array[5] = fbs\n",
    "test_array[6] = restecg\n",
    "test_array[7] = thalach\n",
    "test_array[8] = exang\n",
    "test_array[9] = oldpeak\n",
    "test_array[10] = slope\n",
    "test_array[11] = ca\n",
    "test_array[12] = thal\n",
    "\n",
    "test_array\n"
   ]
  },
  {
   "cell_type": "code",
   "execution_count": 71,
   "id": "d67c0f0b",
   "metadata": {},
   "outputs": [
    {
     "name": "stdout",
     "output_type": "stream",
     "text": [
      "'NO' you don't have heart decease\n"
     ]
    }
   ],
   "source": [
    "prediction = round(logistic_model.predict([test_array])[0],2)\n",
    "if prediction == 0:\n",
    "    print(\"'YOU' have heart decease\")\n",
    "else:\n",
    "    print(\"'NO' you don't have heart decease\")"
   ]
  },
  {
   "cell_type": "markdown",
   "id": "81a69531",
   "metadata": {},
   "source": [
    "### create pickle file"
   ]
  },
  {
   "cell_type": "code",
   "execution_count": 72,
   "id": "81dbf3f8",
   "metadata": {},
   "outputs": [],
   "source": [
    "with open(\"heart_model.pkl\",\"wb\")as file:\n",
    "    pickle.dump(logistic_model,file)\n",
    "    "
   ]
  },
  {
   "cell_type": "code",
   "execution_count": 73,
   "id": "7f1c3613",
   "metadata": {},
   "outputs": [
    {
     "data": {
      "text/plain": [
       "Index(['age', 'sex', 'cp', 'trestbps', 'chol', 'fbs', 'restecg', 'thalach',\n",
       "       'exang', 'oldpeak', 'slope', 'ca', 'thal'],\n",
       "      dtype='object')"
      ]
     },
     "execution_count": 73,
     "metadata": {},
     "output_type": "execute_result"
    }
   ],
   "source": [
    "columns_names = x.columns\n",
    "columns_names"
   ]
  },
  {
   "cell_type": "code",
   "execution_count": 74,
   "id": "95a64ea1",
   "metadata": {},
   "outputs": [
    {
     "data": {
      "text/plain": [
       "{'columns': ['age',\n",
       "  'sex',\n",
       "  'cp',\n",
       "  'trestbps',\n",
       "  'chol',\n",
       "  'fbs',\n",
       "  'restecg',\n",
       "  'thalach',\n",
       "  'exang',\n",
       "  'oldpeak',\n",
       "  'slope',\n",
       "  'ca',\n",
       "  'thal']}"
      ]
     },
     "execution_count": 74,
     "metadata": {},
     "output_type": "execute_result"
    }
   ],
   "source": [
    "json_dict = ({\"columns\":list(columns_names)})\n",
    "json_dict"
   ]
  },
  {
   "cell_type": "code",
   "execution_count": 75,
   "id": "98c05d61",
   "metadata": {},
   "outputs": [],
   "source": [
    "with open (\"heart_json.json\",\"w\")as file:\n",
    "    json.dump(json_dict,file)"
   ]
  }
 ],
 "metadata": {
  "kernelspec": {
   "display_name": "Python 3 (ipykernel)",
   "language": "python",
   "name": "python3"
  },
  "language_info": {
   "codemirror_mode": {
    "name": "ipython",
    "version": 3
   },
   "file_extension": ".py",
   "mimetype": "text/x-python",
   "name": "python",
   "nbconvert_exporter": "python",
   "pygments_lexer": "ipython3",
   "version": "3.9.13"
  }
 },
 "nbformat": 4,
 "nbformat_minor": 5
}
